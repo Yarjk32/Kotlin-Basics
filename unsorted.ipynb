{
 "cells": [
  {
   "cell_type": "code",
   "execution_count": 17,
   "id": "3eb79107",
   "metadata": {
    "scrolled": false
   },
   "outputs": [
    {
     "name": "stdout",
     "output_type": "stream",
     "text": [
      "stdin:75\n",
      "stdin:90\n",
      "You are 67% cucumber"
     ]
    }
   ],
   "source": [
    "print(\"You are ${(readLine()!!.toInt()) * (readLine()!!.toInt()) / 100}% cucumber\")"
   ]
  },
  {
   "cell_type": "code",
   "execution_count": 8,
   "id": "54ab02b7",
   "metadata": {},
   "outputs": [
    {
     "name": "stdout",
     "output_type": "stream",
     "text": [
      "stdin:2\n",
      "stdin:4\n",
      "stdin:1\n",
      "1"
     ]
    }
   ],
   "source": [
    "var n = readLine()!!.toInt()\n",
    "if (n > 1) {\n",
    "    var first = readLine()!!.toInt()\n",
    "    var second: Int\n",
    "    var row = 1\n",
    "    var maxRow = 1\n",
    "    repeat(--n) {\n",
    "        second = readLine()!!.toInt()\n",
    "        if (second >= first) row++\n",
    "        else {\n",
    "            maxRow = Math.max(maxRow, row)\n",
    "            row = 1\n",
    "        }\n",
    "        first = second\n",
    "    }\n",
    "    maxRow = Math.max(maxRow, row)\n",
    "    print(maxRow)\n",
    "}\n",
    "else print(n)"
   ]
  },
  {
   "cell_type": "code",
   "execution_count": 5,
   "id": "4cf2835b",
   "metadata": {},
   "outputs": [
    {
     "name": "stdout",
     "output_type": "stream",
     "text": [
      "stdin:1\n",
      "stdin:2\n",
      "stdin:30\n",
      "stdin:1\n",
      "stdin:3\n",
      "stdin:20\n",
      "50"
     ]
    }
   ],
   "source": [
    "val SIXTY = 60\n",
    "val TOHOUR = 3600\n",
    "\n",
    "val h1 = readLine()!!.toInt()\n",
    "val m1 = readLine()!!.toInt()\n",
    "val s1 = readLine()!!.toInt()\n",
    "val h2 = readLine()!!.toInt()\n",
    "val m2 = readLine()!!.toInt()\n",
    "val s2 = readLine()!!.toInt()\n",
    "val first = h1 * TOHOUR + m1 * SIXTY + s1\n",
    "val second = h2 * TOHOUR + m2 * SIXTY + s2\n",
    "print(second - first)"
   ]
  },
  {
   "cell_type": "code",
   "execution_count": 14,
   "id": "b25cf7c8",
   "metadata": {},
   "outputs": [
    {
     "name": "stdout",
     "output_type": "stream",
     "text": [
      "stdin:100\n",
      "stdin:105\n",
      "11035502400"
     ]
    }
   ],
   "source": [
    "val start = readLine()!!.toInt()\n",
    "val end = readLine()!!.toInt()\n",
    "var result = 1UL\n",
    "for (i in start until end) result *= i.toUInt()\n",
    "print(result)"
   ]
  },
  {
   "cell_type": "code",
   "execution_count": 16,
   "id": "96ea28e2",
   "metadata": {},
   "outputs": [
    {
     "name": "stdout",
     "output_type": "stream",
     "text": [
      "stdin:3\n",
      "stdin:1\n",
      "stdin:2\n",
      "stdin:3\n",
      "6"
     ]
    }
   ],
   "source": [
    "val n = readLine()!!.toInt()\n",
    "var sum = 0\n",
    "repeat(n) {\n",
    "    sum += readLine()!!.toInt()\n",
    "}\n",
    "print(sum)"
   ]
  },
  {
   "cell_type": "code",
   "execution_count": 67,
   "id": "d5c73d6a",
   "metadata": {},
   "outputs": [
    {
     "name": "stdout",
     "output_type": "stream",
     "text": [
      "stdin:7\n",
      "stdin:9\n",
      "stdin:5\n",
      "0"
     ]
    }
   ],
   "source": [
    "var a = readLine()!!.toInt()\n",
    "val b = readLine()!!.toInt()\n",
    "val n = readLine()!!.toInt()\n",
    "if (a % n != 0) a = Math.min(a + n - Math.abs(a.mod(n)), b)\n",
    "print((b - a) / n + if (a % n == 0 || b % n == 0) 1 else 0)"
   ]
  },
  {
   "cell_type": "code",
   "execution_count": 68,
   "id": "65c8fe57",
   "metadata": {},
   "outputs": [
    {
     "name": "stdout",
     "output_type": "stream",
     "text": [
      "10240"
     ]
    }
   ],
   "source": [
    "val c = '⠀'\n",
    "print(c.code)"
   ]
  },
  {
   "cell_type": "code",
   "execution_count": 3,
   "id": "f05892da",
   "metadata": {},
   "outputs": [
    {
     "name": "stdout",
     "output_type": "stream",
     "text": [
      "1089"
     ]
    }
   ],
   "source": [
    "val c = 'с'\n",
    "print(c.code)"
   ]
  },
  {
   "cell_type": "code",
   "execution_count": 73,
   "id": "9e7a0de3",
   "metadata": {},
   "outputs": [
    {
     "name": "stdout",
     "output_type": "stream",
     "text": [
      "stdin:1\n",
      "stdin:2\n",
      "stdin:3\n",
      "stdin:4\n"
     ]
    }
   ],
   "source": [
    "val a = readLine()!!.toInt()\n",
    "val b = readLine()!!.toInt()\n",
    "val c = readLine()!!.toInt()\n",
    "val d = readLine()!!.toInt()\n",
    "for (x in 0..1000) print(if (a * x * x * x + b * x * x + c * x + d == 0) \"$x\\n\" else \"\")"
   ]
  },
  {
   "cell_type": "code",
   "execution_count": 76,
   "id": "fdb980b9",
   "metadata": {},
   "outputs": [
    {
     "name": "stdout",
     "output_type": "stream",
     "text": [
      "stdin:2\n",
      "stdin:3\n",
      "5"
     ]
    }
   ],
   "source": [
    "val a = readLine()!!.toInt()\n",
    "val b = readLine()!!.toInt()\n",
    "print((a + b) * (b - a + 1) / 2)"
   ]
  },
  {
   "cell_type": "code",
   "execution_count": 77,
   "id": "3dc6593e",
   "metadata": {},
   "outputs": [
    {
     "name": "stdout",
     "output_type": "stream",
     "text": [
      "7\r\n",
      "11\r\n"
     ]
    }
   ],
   "source": [
    "fun sum(a: Int, b: Int): Int {\n",
    "    val result = a + b\n",
    "    return result\n",
    "}\n",
    "\n",
    "val result1 = sum(2, 5)\n",
    "println(result1) // 7\n",
    "\n",
    "val result2 = sum(result1, 4)\n",
    "println(result2) // 11"
   ]
  },
  {
   "cell_type": "code",
   "execution_count": 81,
   "id": "7e351c5f",
   "metadata": {},
   "outputs": [
    {
     "name": "stdout",
     "output_type": "stream",
     "text": [
      "stdin:-235324647\n",
      "7\n"
     ]
    }
   ],
   "source": [
    "fun getLastDigit(a: Int) = Math.abs(a % 10)\n",
    "\n",
    "val a = readLine()!!.toInt()\n",
    "println(getLastDigit(a))"
   ]
  },
  {
   "cell_type": "code",
   "execution_count": 94,
   "id": "35979449",
   "metadata": {},
   "outputs": [
    {
     "name": "stdout",
     "output_type": "stream",
     "text": [
      "stdin:I\n",
      "true\n"
     ]
    }
   ],
   "source": [
    "fun isVowel(c: Char): Boolean {\n",
    "    val cc: Char\n",
    "    if (c <= 'Z') cc = c + 32\n",
    "    else cc = c\n",
    "    return cc == 'a' || cc == 'e' || cc == 'y' || cc == 'u' || cc == 'i' || cc == 'o'\n",
    "}\n",
    "\n",
    "val letter = readLine()!!.first()\n",
    "\n",
    "println(isVowel(letter))"
   ]
  },
  {
   "cell_type": "code",
   "execution_count": 1,
   "id": "f74580f9",
   "metadata": {},
   "outputs": [
    {
     "name": "stdout",
     "output_type": "stream",
     "text": [
      "stdin:1\n",
      "stdin:7\n",
      "stdin:10\n",
      "18\n"
     ]
    }
   ],
   "source": [
    "fun sum(a: Int, b: Int, c: Int) = a + b + c\n",
    "\n",
    "val a = readLine()!!.toInt()\n",
    "val b = readLine()!!.toInt()\n",
    "val c = readLine()!!.toInt()\n",
    "\n",
    "println(sum(a, b, c))"
   ]
  },
  {
   "cell_type": "code",
   "execution_count": 2,
   "id": "f94bc8b0",
   "metadata": {},
   "outputs": [
    {
     "name": "stdout",
     "output_type": "stream",
     "text": [
      "ABCDEFGHIJKLMNOPQRSTUVWXYZ[\\]^_`abcdefghijklmnopqrstuvwxyz"
     ]
    }
   ],
   "source": [
    "var letter = 'A'\n",
    "    \n",
    "    while (letter <= 'z') {\n",
    "        print(letter)\n",
    "        letter++\n",
    "    }"
   ]
  },
  {
   "cell_type": "code",
   "execution_count": 3,
   "id": "541f329d",
   "metadata": {},
   "outputs": [
    {
     "name": "stdout",
     "output_type": "stream",
     "text": [
      "2 4 6 8 10 "
     ]
    }
   ],
   "source": [
    "var i = 0\n",
    "while (i < 10) {\n",
    "    i++\n",
    "    if (i % 2 == 0) {\n",
    "        print(\"$i \")\n",
    "    }\n",
    "}"
   ]
  },
  {
   "cell_type": "code",
   "execution_count": 7,
   "id": "369f0c72",
   "metadata": {},
   "outputs": [
    {
     "name": "stdout",
     "output_type": "stream",
     "text": [
      "stdin:1\n",
      "stdin:8\n",
      "stdin:0\n",
      "8"
     ]
    }
   ],
   "source": [
    "var max = 0\n",
    "var now: Int\n",
    "do {\n",
    "    now = readLine()!!.toInt()\n",
    "    max = Math.max(max, now)\n",
    "} while (now != 0)\n",
    "print(max)"
   ]
  },
  {
   "cell_type": "code",
   "execution_count": 20,
   "id": "cf6e1be3",
   "metadata": {
    "scrolled": true
   },
   "outputs": [
    {
     "name": "stdout",
     "output_type": "stream",
     "text": [
      "stdin:50\n",
      "1\n",
      "4\n",
      "9\n",
      "16\n",
      "25\n",
      "36\n",
      "49\n"
     ]
    }
   ],
   "source": [
    "var n = readLine()!!.toInt()\n",
    "n = Math.sqrt(n.toDouble()).toInt()\n",
    "for (i in 1..n) println(i * i)"
   ]
  },
  {
   "cell_type": "code",
   "execution_count": 26,
   "id": "d63f85db",
   "metadata": {
    "scrolled": true
   },
   "outputs": [
    {
     "name": "stdout",
     "output_type": "stream",
     "text": [
      "stdin:1\n",
      "stdin:3\n",
      "stdin:0\n",
      "4"
     ]
    }
   ],
   "source": [
    "var n: Int\n",
    "var sum = 0\n",
    "do {\n",
    "    n = readLine()!!.toInt()\n",
    "    sum += n\n",
    "} while (n != 0)\n",
    "print(sum)"
   ]
  },
  {
   "cell_type": "code",
   "execution_count": 27,
   "id": "7a40b107",
   "metadata": {},
   "outputs": [
    {
     "name": "stdout",
     "output_type": "stream",
     "text": [
      "stdin:7\n",
      "1 2 2 3 3 3 4 "
     ]
    }
   ],
   "source": [
    "val n = readLine()!!.toInt()\n",
    "var now = 1\n",
    "var left = 1\n",
    "repeat(n) {\n",
    "    print(\"$now \")\n",
    "    left--\n",
    "    if (left == 0) {\n",
    "        now++\n",
    "        left = now\n",
    "    }\n",
    "}"
   ]
  },
  {
   "cell_type": "code",
   "execution_count": 13,
   "id": "7b42a817",
   "metadata": {
    "scrolled": true
   },
   "outputs": [
    {
     "name": "stdout",
     "output_type": "stream",
     "text": [
      "6 5 4 3 "
     ]
    }
   ],
   "source": [
    "var i = 5\n",
    "\n",
    "do {\n",
    "    i++\n",
    "    print(\"$i \")\n",
    "    i -= 2\n",
    "} while (i > 1)"
   ]
  },
  {
   "cell_type": "code",
   "execution_count": 4,
   "id": "234d5668",
   "metadata": {},
   "outputs": [
    {
     "name": "stdout",
     "output_type": "stream",
     "text": [
      "stdin:25\n",
      "stdin:true\n",
      "true"
     ]
    }
   ],
   "source": [
    "val pbc = readLine()!!.toInt()\n",
    "val weekend = readLine()!!.toBoolean()\n",
    "print(weekend && pbc in 15..25 || !weekend && pbc in 10..20)"
   ]
  },
  {
   "cell_type": "code",
   "execution_count": 2,
   "id": "2f9f8300",
   "metadata": {},
   "outputs": [
    {
     "data": {
      "text/plain": [
       "[Hi, Hi]"
      ]
     },
     "execution_count": 2,
     "metadata": {},
     "output_type": "execute_result"
    }
   ],
   "source": [
    "var msg1 = \"Hi\"\n",
    "var msg2 = msg1\n",
    "val msgs = mutableListOf(msg1, msg2)\n",
    "msg1= \"Hello\"\n",
    "msgs"
   ]
  },
  {
   "cell_type": "code",
   "execution_count": 14,
   "id": "3912a51d",
   "metadata": {},
   "outputs": [
    {
     "name": "stdout",
     "output_type": "stream",
     "text": [
      "stdin:1 2 3 4 5\n",
      "5 4 3 2 1\n"
     ]
    }
   ],
   "source": [
    "    val numbers = readLine()!!.split(' ').map { it.toInt() }.toMutableList()\n",
    "    // Do not touch lines above\n",
    "    var m = 0\n",
    "    for (i in 0..numbers.size / 2 - 1) {\n",
    "        m = numbers[i]\n",
    "        numbers[i] = numbers[numbers.lastIndex - i]\n",
    "        numbers[numbers.lastIndex - i] = m\n",
    "    }\n",
    "    // Do not touch lines below\n",
    "    println(numbers.joinToString(separator = \" \"))"
   ]
  },
  {
   "cell_type": "code",
   "execution_count": 15,
   "id": "29678406",
   "metadata": {},
   "outputs": [
    {
     "name": "stdout",
     "output_type": "stream",
     "text": [
      "1, 0, 0, 0, 0, 0, 0, 0, 0, 10, 0, 0, 0, 0, 0, 0, 0, 0, 0, 0, 0, 0, 0, 0, 0, 0, 0, 0, 0, 0, 0, 0, 0, 0, 0, 0, 0, 0, 0, 0, 0, 0, 0, 0, 0, 0, 0, 0, 0, 0, 0, 0, 0, 0, 0, 0, 0, 0, 0, 0, 0, 0, 0, 0, 0, 0, 0, 0, 0, 0, 0, 0, 0, 0, 0, 0, 0, 0, 0, 0, 0, 0, 0, 0, 0, 0, 0, 0, 0, 0, 0, 0, 0, 0, 0, 0, 0, 0, 0, 100\r\n"
     ]
    }
   ],
   "source": [
    "    val numbers = MutableList(100) {0}\n",
    "    numbers[0] = 1\n",
    "    numbers[9] = 10\n",
    "    numbers[99] = 100\n",
    "    // do not touch the lines below \n",
    "    println(numbers.joinToString())"
   ]
  },
  {
   "cell_type": "code",
   "execution_count": 16,
   "id": "16cd033d",
   "metadata": {
    "scrolled": true
   },
   "outputs": [
    {
     "name": "stdout",
     "output_type": "stream",
     "text": [
      "100000000001, 100000000002, 100000000003\r\n"
     ]
    }
   ],
   "source": [
    "    val longs = mutableListOf<Long>(100_000_000_001, 100_000_000_002, 100_000_000_003)\n",
    "    // do not touch the lines below \n",
    "    println(longs.joinToString())"
   ]
  },
  {
   "cell_type": "code",
   "execution_count": null,
   "id": "906b7b66",
   "metadata": {},
   "outputs": [],
   "source": [
    "fun recursive(n: Int) {\n",
    "    println(n)\n",
    "    recursive(n + 1)\n",
    "}\n",
    "\n",
    "recursive(1)\n",
    "\n",
    "// output was cleared"
   ]
  }
 ],
 "metadata": {
  "kernelspec": {
   "display_name": "Kotlin",
   "language": "kotlin",
   "name": "kotlin"
  },
  "language_info": {
   "codemirror_mode": "text/x-kotlin",
   "file_extension": ".kt",
   "mimetype": "text/x-kotlin",
   "name": "kotlin",
   "nbconvert_exporter": "",
   "pygments_lexer": "kotlin",
   "version": "1.6.20-dev-6372"
  }
 },
 "nbformat": 4,
 "nbformat_minor": 5
}

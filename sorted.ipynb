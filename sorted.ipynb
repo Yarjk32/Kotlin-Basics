{
 "cells": [
  {
   "cell_type": "markdown",
   "id": "9d691682",
   "metadata": {},
   "source": [
    "# Work with MutableLists\n",
    "\n"
   ]
  },
  {
   "cell_type": "code",
   "execution_count": 1,
   "id": "7054cb61",
   "metadata": {
    "collapsed": true
   },
   "outputs": [
    {
     "name": "stderr",
     "output_type": "stream",
     "text": [
      "Java heap space\r\n",
      "java.lang.OutOfMemoryError: Java heap space\r\n",
      "\tat java.base/java.util.Arrays.copyOf(Arrays.java:3481)\r\n",
      "\tat java.base/java.util.ArrayList.grow(ArrayList.java:237)\r\n",
      "\tat java.base/java.util.ArrayList.grow(ArrayList.java:244)\r\n",
      "\tat java.base/java.util.ArrayList.add(ArrayList.java:454)\r\n",
      "\tat java.base/java.util.ArrayList.add(ArrayList.java:467)\r\n",
      "\tat Line_0.<init>(Line_0.jupyter-kts:3)\r\n",
      "\tat java.base/jdk.internal.reflect.NativeConstructorAccessorImpl.newInstance0(Native Method)\r\n",
      "\tat java.base/jdk.internal.reflect.NativeConstructorAccessorImpl.newInstance(NativeConstructorAccessorImpl.java:77)\r\n",
      "\tat java.base/jdk.internal.reflect.DelegatingConstructorAccessorImpl.newInstance(DelegatingConstructorAccessorImpl.java:45)\r\n",
      "\tat java.base/java.lang.reflect.Constructor.newInstanceWithCaller(Constructor.java:499)\r\n",
      "\tat java.base/java.lang.reflect.Constructor.newInstance(Constructor.java:480)\r\n",
      "\tat kotlin.script.experimental.jvm.BasicJvmScriptEvaluator.evalWithConfigAndOtherScriptsResults(BasicJvmScriptEvaluator.kt:100)\r\n",
      "\tat kotlin.script.experimental.jvm.BasicJvmScriptEvaluator.invoke$suspendImpl(BasicJvmScriptEvaluator.kt:47)\r\n",
      "\tat kotlin.script.experimental.jvm.BasicJvmScriptEvaluator.invoke(BasicJvmScriptEvaluator.kt)\r\n",
      "\tat kotlin.script.experimental.jvm.BasicJvmReplEvaluator.eval(BasicJvmReplEvaluator.kt:49)\r\n",
      "\tat org.jetbrains.kotlinx.jupyter.repl.impl.InternalEvaluatorImpl$eval$resultWithDiagnostics$1.invokeSuspend(InternalEvaluatorImpl.kt:99)\r\n",
      "\tat kotlin.coroutines.jvm.internal.BaseContinuationImpl.resumeWith(ContinuationImpl.kt:33)\r\n",
      "\tat kotlinx.coroutines.DispatchedTask.run(DispatchedTask.kt:106)\r\n",
      "\tat kotlinx.coroutines.EventLoopImplBase.processNextEvent(EventLoop.common.kt:274)\r\n",
      "\tat kotlinx.coroutines.BlockingCoroutine.joinBlocking(Builders.kt:85)\r\n",
      "\tat kotlinx.coroutines.BuildersKt__BuildersKt.runBlocking(Builders.kt:59)\r\n",
      "\tat kotlinx.coroutines.BuildersKt.runBlocking(Unknown Source)\r\n",
      "\tat kotlinx.coroutines.BuildersKt__BuildersKt.runBlocking$default(Builders.kt:38)\r\n",
      "\tat kotlinx.coroutines.BuildersKt.runBlocking$default(Unknown Source)\r\n",
      "\tat org.jetbrains.kotlinx.jupyter.repl.impl.InternalEvaluatorImpl.eval(InternalEvaluatorImpl.kt:99)\r\n",
      "\tat org.jetbrains.kotlinx.jupyter.repl.impl.CellExecutorImpl$execute$1$result$1.invoke(CellExecutorImpl.kt:64)\r\n",
      "\tat org.jetbrains.kotlinx.jupyter.repl.impl.CellExecutorImpl$execute$1$result$1.invoke(CellExecutorImpl.kt:63)\r\n",
      "\tat org.jetbrains.kotlinx.jupyter.ReplForJupyterImpl.withHost(repl.kt:603)\r\n",
      "\tat org.jetbrains.kotlinx.jupyter.repl.impl.CellExecutorImpl.execute(CellExecutorImpl.kt:63)\r\n",
      "\tat org.jetbrains.kotlinx.jupyter.repl.CellExecutor$DefaultImpls.execute$default(CellExecutor.kt:13)\r\n",
      "\tat org.jetbrains.kotlinx.jupyter.ReplForJupyterImpl$evalEx$1.invoke(repl.kt:423)\r\n",
      "\tat org.jetbrains.kotlinx.jupyter.ReplForJupyterImpl$evalEx$1.invoke(repl.kt:412)\r\n"
     ]
    }
   ],
   "source": [
    "val mas = mutableListOf<Long>(0)\n",
    "while (true) {\n",
    "    mas.add(0)\n",
    "}"
   ]
  },
  {
   "cell_type": "code",
   "execution_count": 2,
   "id": "b97bb5f7",
   "metadata": {},
   "outputs": [
    {
     "data": {
      "text/plain": [
       "[1, 2, 3, 4, 5]"
      ]
     },
     "execution_count": 2,
     "metadata": {},
     "output_type": "execute_result"
    }
   ],
   "source": [
    "val list = mutableListOf(1, 2, 3, 4, 5)\n",
    "val copyList = mutableListOf<Int>()\n",
    "copyList.addAll(list)\n",
    "list[2] = 10\n",
    "copyList"
   ]
  },
  {
   "cell_type": "code",
   "execution_count": 3,
   "id": "0fa291fd",
   "metadata": {},
   "outputs": [
    {
     "data": {
      "text/plain": [
       "2"
      ]
     },
     "execution_count": 3,
     "metadata": {},
     "output_type": "execute_result"
    }
   ],
   "source": [
    "val numbers = mutableListOf(1, 2, 5, 3, 4, 5)\n",
    "numbers.indexOf(5)"
   ]
  },
  {
   "cell_type": "code",
   "execution_count": 4,
   "id": "a7652eef",
   "metadata": {},
   "outputs": [
    {
     "data": {
      "text/plain": [
       "[]"
      ]
     },
     "execution_count": 4,
     "metadata": {},
     "output_type": "execute_result"
    }
   ],
   "source": [
    "val myEmptyList = MutableList<String>(0) { \"\" }\n",
    "myEmptyList"
   ]
  },
  {
   "cell_type": "code",
   "execution_count": 6,
   "id": "dcd14bbb",
   "metadata": {},
   "outputs": [
    {
     "name": "stdout",
     "output_type": "stream",
     "text": [
      "stdin:fdlkdskjskaj dfkfadjjkdfjfdkjad\n",
      "stdin:kasfjkdsafj sdfksdjfakjfew\n",
      "fdlkdskjskaj, dfkfadjjkdfjfdkjad, kasfjkdsafj, sdfksdjfakjfew"
     ]
    }
   ],
   "source": [
    "    val firstList = readLine()!!.split(' ').map { it }.toMutableList()\n",
    "    val secondList = readLine()!!.split(' ').map { it }.toMutableList()\n",
    "    // do not touch the lines above\n",
    "    print((firstList + secondList).joinToString())"
   ]
  },
  {
   "cell_type": "code",
   "execution_count": 3,
   "id": "24e0216d",
   "metadata": {},
   "outputs": [
    {
     "name": "stdout",
     "output_type": "stream",
     "text": [
      "stdin:24 12\n",
      "36 12\n"
     ]
    }
   ],
   "source": [
    "    val numbers = readLine()!!.split(' ').map{it.toInt()}.toMutableList()\n",
    "    // do not touch the lines above\n",
    "    numbers.add(0, numbers.sum())\n",
    "    numbers.removeAt(numbers.lastIndex - 1)\n",
    "    // do not touch the lines below\n",
    "    println(numbers.joinToString(\" \"))"
   ]
  },
  {
   "cell_type": "markdown",
   "id": "814fe945",
   "metadata": {},
   "source": [
    "# For loop and lists"
   ]
  },
  {
   "cell_type": "code",
   "execution_count": 8,
   "id": "d6d1fddf",
   "metadata": {
    "scrolled": true
   },
   "outputs": [
    {
     "name": "stdout",
     "output_type": "stream",
     "text": [
      "Sun\n",
      "Mon\n",
      "Tues\n",
      "Wed\n",
      "Thur\n",
      "Fri\n",
      "Sat\r\n"
     ]
    }
   ],
   "source": [
    "val daysOfWeek = mutableListOf(\"Sun\", \"Mon\", \"Tues\", \"Wed\", \"Thur\", \"Fri\", \"Sat\")\n",
    "println(daysOfWeek.joinToString(\"\\n\"))"
   ]
  },
  {
   "cell_type": "code",
   "execution_count": 9,
   "id": "bfc6785d",
   "metadata": {},
   "outputs": [
    {
     "name": "stdout",
     "output_type": "stream",
     "text": [
      "stdin:5\n",
      "stdin:1\n",
      "stdin:3\n",
      "stdin:5\n",
      "stdin:2\n",
      "stdin:1\n",
      "stdin:1\n",
      "2"
     ]
    }
   ],
   "source": [
    "    val nums: MutableList<Int> = mutableListOf()\n",
    "    val n = readLine()!!.toInt()\n",
    "    var occurs = 0\n",
    "    repeat(n) {\n",
    "        nums.add(readLine()!!.toInt())\n",
    "    }\n",
    "    val toFind = readLine()!!.toInt()\n",
    "    for (el in nums) if (el == toFind) occurs++\n",
    "    print(occurs)"
   ]
  },
  {
   "cell_type": "code",
   "execution_count": 1,
   "id": "75d13687",
   "metadata": {
    "scrolled": true
   },
   "outputs": [
    {
     "name": "stdout",
     "output_type": "stream",
     "text": [
      "stdin:12 24\n",
      "24\n",
      "12\n"
     ]
    }
   ],
   "source": [
    "val (a, b) = readLine()!!.split(' ').map{it.toInt()}\n",
    "println(a * 2)\n",
    "println(b / 2)"
   ]
  },
  {
   "cell_type": "code",
   "execution_count": 10,
   "id": "fb92dcf5",
   "metadata": {
    "scrolled": true
   },
   "outputs": [
    {
     "name": "stdout",
     "output_type": "stream",
     "text": [
      "stdin:3\n",
      "stdin:100\n",
      "stdin:50\n",
      "stdin:50\n",
      "stdin:10\n",
      "stdin:20\n",
      "stdin:10\n",
      "1"
     ]
    }
   ],
   "source": [
    "    val n = readLine()!!.toInt()\n",
    "    val income = MutableList(n) { readLine()!!.toInt() }\n",
    "    val tax = MutableList(n) { readLine()!!.toDouble() / 100 }\n",
    "    var pay = 0.0\n",
    "    var payMax = 0.0\n",
    "    var iMax = -1\n",
    "    for (i in 0 until n) {\n",
    "        pay = income[i] * tax[i]\n",
    "        if (pay > payMax) {\n",
    "            payMax = pay\n",
    "            iMax = i + 1\n",
    "        }\n",
    "    }\n",
    "    print(iMax)"
   ]
  },
  {
   "cell_type": "markdown",
   "id": "8516b4a6",
   "metadata": {},
   "source": [
    "# Multi-dimensional list"
   ]
  },
  {
   "cell_type": "code",
   "execution_count": 20,
   "id": "aaab2276",
   "metadata": {},
   "outputs": [
    {
     "data": {
      "text/plain": [
       "[[0, 1, 2], [3, 4, 5, 6], [seven, eight]]"
      ]
     },
     "execution_count": 20,
     "metadata": {},
     "output_type": "execute_result"
    }
   ],
   "source": [
    "val mutList2D = mutableListOf(\n",
    "    mutableListOf<Int>(0, 1, 2),\n",
    "    mutableListOf<Int>(3, 4, 5, 6),\n",
    "    mutableListOf<String>(\"seven\", \"eight\")\n",
    ")\n",
    "mutList2D"
   ]
  },
  {
   "cell_type": "code",
   "execution_count": 12,
   "id": "c18539f8",
   "metadata": {},
   "outputs": [
    {
     "data": {
      "text/plain": [
       "[[[0, 1], [2, 3]], [[4, 5], [6, 7]]]"
      ]
     },
     "execution_count": 12,
     "metadata": {},
     "output_type": "execute_result"
    }
   ],
   "source": [
    "val mutList3D = mutableListOf(\n",
    "    mutableListOf(mutableListOf<Int>(0,1), mutableListOf<Int>(2,3)),\n",
    "    mutableListOf(mutableListOf<Int>(4,5), mutableListOf<Int>(6,7))\n",
    ")\n",
    "mutList3D"
   ]
  },
  {
   "cell_type": "code",
   "execution_count": 21,
   "id": "65f0e19a",
   "metadata": {},
   "outputs": [
    {
     "name": "stderr",
     "output_type": "stream",
     "text": [
      "Line_878.jupyter-kts (1:17 - 30) Not enough information to infer type variable T\n",
      "Line_878.jupyter-kts (2:5 - 18) Not enough information to infer type variable T\n",
      "Line_878.jupyter-kts (3:5 - 18) Not enough information to infer type variable T"
     ]
    }
   ],
   "source": [
    "val mutListMD = mutableListOf(\n",
    "    mutableListOf(),\n",
    "    mutableListOf()\n",
    ")"
   ]
  },
  {
   "cell_type": "code",
   "execution_count": 22,
   "id": "d289f757",
   "metadata": {},
   "outputs": [
    {
     "data": {
      "text/plain": [
       "[[[0, 0, 0], [0, 0, 0], [0, 0, 0]], [[0, 0, 0], [0, 0, 0], [0, 0, 0]], [[0, 0, 0], [0, 0, 0], [0, 0, 0]]]"
      ]
     },
     "execution_count": 22,
     "metadata": {},
     "output_type": "execute_result"
    }
   ],
   "source": [
    "val mutList3D = mutableListOf(\n",
    "mutableListOf(MutableList<Int>(3) { 0 }, MutableList<Int>(3) { 0 }, MutableList<Int>(3) { 0 }),\n",
    "mutableListOf(MutableList<Int>(3) { 0 }, MutableList<Int>(3) { 0 }, MutableList<Int>(3) { 0 }),\n",
    "mutableListOf(MutableList<Int>(3) { 0 }, MutableList<Int>(3) { 0 }, MutableList<Int>(3) { 0 })\n",
    ")\n",
    "mutList3D"
   ]
  },
  {
   "cell_type": "code",
   "execution_count": 23,
   "id": "29686c1c",
   "metadata": {
    "scrolled": true
   },
   "outputs": [
    {
     "name": "stdout",
     "output_type": "stream",
     "text": [
      "stdin:3\n",
      "stdin:1 2 3\n",
      "stdin:4 5 6\n",
      "stdin:7 8 9\n",
      "1 3\n",
      "7 9"
     ]
    }
   ],
   "source": [
    "    //Do not touch code below\n",
    "    var inputList: MutableList<MutableList<String>> = mutableListOf()\n",
    "    val n = readLine()!!.toInt()\n",
    "    for (i in 0 until n) {\n",
    "        val strings = readLine()!!.split(' ').toMutableList()\n",
    "        inputList.add(strings)\n",
    "    }\n",
    "    print(\"${inputList[0][0]} ${inputList[0][n - 1]}\\n${inputList[n - 1][0]} ${inputList[n - 1][n - 1]}\")"
   ]
  },
  {
   "cell_type": "markdown",
   "id": "287b9746",
   "metadata": {},
   "source": [
    "# When expression"
   ]
  },
  {
   "cell_type": "code",
   "execution_count": 30,
   "id": "4ef61874",
   "metadata": {},
   "outputs": [
    {
     "name": "stdout",
     "output_type": "stream",
     "text": [
      "stdin:poewjrhcxv\n",
      "stdin:endsWith\n",
      "stdin:cxv\n",
      "true"
     ]
    }
   ],
   "source": [
    "    val a = readLine()!!\n",
    "    val op = readLine()!!\n",
    "    val b = readLine()!!\n",
    "    print(\n",
    "        when (op) {\n",
    "            \"equals\" -> a == b\n",
    "            \"plus\" -> a + b\n",
    "            \"endsWith\" -> a.endsWith(b)\n",
    "            else -> \"Unknown operation\"\n",
    "        }\n",
    "    )"
   ]
  },
  {
   "cell_type": "code",
   "execution_count": 34,
   "id": "a6335496",
   "metadata": {
    "scrolled": true
   },
   "outputs": [
    {
     "name": "stdout",
     "output_type": "stream",
     "text": [
      "stdin:10\n",
      "T"
     ]
    }
   ],
   "source": [
    "    val a = readLine()!!.toInt()\n",
    "    print(\n",
    "        when (a) {\n",
    "            0, 1, 2, 3, 5, 8, 13, 21, 34, 55 -> 'F'\n",
    "            6, 10, 15, 28, 36, 45 -> 'T'\n",
    "            100, 1000, 10000, 100000 -> 'P'\n",
    "            else -> 'N'\n",
    "        }\n",
    "    )"
   ]
  },
  {
   "cell_type": "code",
   "execution_count": 40,
   "id": "a4c1a7b5",
   "metadata": {},
   "outputs": [
    {
     "name": "stdout",
     "output_type": "stream",
     "text": [
      "stdin:i123456\n",
      "123457"
     ]
    }
   ],
   "source": [
    "import java.util.Scanner\n",
    "\n",
    "    val scanner = Scanner(System.`in`)\n",
    "    if (scanner.hasNext()) {\n",
    "        val input = scanner.nextLine()\n",
    "        print(\n",
    "            when (input.first()) {\n",
    "                'i' -> input.substring(1).toInt() + 1\n",
    "                's' -> input.substring(1).reversed()\n",
    "                else -> input\n",
    "            }\n",
    "        )\n",
    "    } else {\n",
    "        print(\"\")\n",
    "    }"
   ]
  },
  {
   "cell_type": "markdown",
   "id": "2574b484",
   "metadata": {},
   "source": [
    "# Floating-point types"
   ]
  },
  {
   "cell_type": "code",
   "execution_count": 1,
   "id": "764ecee6",
   "metadata": {},
   "outputs": [
    {
     "name": "stdout",
     "output_type": "stream",
     "text": [
      "stdin:2\n",
      "stdin:-1\n",
      "stdin:2\n",
      "1.5"
     ]
    }
   ],
   "source": [
    "    val a = readLine()!!.toDouble()\n",
    "    val b = readLine()!!.toDouble()\n",
    "    val c = readLine()!!.toDouble()\n",
    "    print((c - b) / a)"
   ]
  },
  {
   "cell_type": "code",
   "execution_count": 2,
   "id": "b88ee1f2",
   "metadata": {
    "scrolled": true
   },
   "outputs": [
    {
     "name": "stdout",
     "output_type": "stream",
     "text": [
      "stdin:25\n",
      "1963.4375000000002"
     ]
    }
   ],
   "source": [
    "    val r = readLine()!!.toInt()\n",
    "    val pi = 3.1415\n",
    "    print(pi * r * r)"
   ]
  },
  {
   "cell_type": "code",
   "execution_count": 3,
   "id": "01667482",
   "metadata": {},
   "outputs": [
    {
     "name": "stdout",
     "output_type": "stream",
     "text": [
      "stdin:1.7\n",
      "stdin:5.5\n",
      "91.63"
     ]
    }
   ],
   "source": [
    "val G = 9.8\n",
    "\n",
    "    val ro = readLine()!!.toDouble()\n",
    "    val h = readLine()!!.toDouble()\n",
    "    print(ro * G * h)"
   ]
  },
  {
   "cell_type": "markdown",
   "id": "2e2cab92",
   "metadata": {},
   "source": [
    "# Taming exceptions"
   ]
  },
  {
   "cell_type": "code",
   "execution_count": 12,
   "id": "20912baf",
   "metadata": {
    "scrolled": false
   },
   "outputs": [
    {
     "name": "stdout",
     "output_type": "stream",
     "text": [
      "stdin:124253\n",
      "stdin:0\n",
      "Division by zero, please fix the second argument!"
     ]
    }
   ],
   "source": [
    "    val a = readLine()!!.toInt()\n",
    "    val b = readLine()!!.toInt()\n",
    "    print(if (b == 0) \"Division by zero, please fix the second argument!\" else a / b)"
   ]
  },
  {
   "cell_type": "code",
   "execution_count": 56,
   "id": "e3745e32",
   "metadata": {},
   "outputs": [
    {
     "data": {
      "text/plain": [
       "0"
      ]
     },
     "execution_count": 56,
     "metadata": {},
     "output_type": "execute_result"
    }
   ],
   "source": [
    "fun parseCardNumber(cardNumber: String): Long {\n",
    "    var min = 1000_0000_0000_0000\n",
    "    var result = 0L\n",
    "    var i = 0\n",
    "    var startZero = true\n",
    "    for (c in cardNumber) {\n",
    "        when (i) {\n",
    "            in 0..3, in 5..8, in 10..13, in 15..18 ->\n",
    "                if (c in '0'..'9') {\n",
    "                    result = result * 10 + c.toString().toShort()\n",
    "                } else {\n",
    "                    throw Exception(\"At $i no digit was found\")\n",
    "                }\n",
    "            4, 9, 14 ->\n",
    "                if (c != ' ') {\n",
    "                    throw Exception(\"At $i no space was found\")\n",
    "                }\n",
    "            else -> throw Exception(\"Too long input\")\n",
    "        }\n",
    "        if (c != ' ' && startZero) {\n",
    "            if (c != '0') {\n",
    "                startZero = false\n",
    "            } else {\n",
    "                min /= 10\n",
    "            }\n",
    "        }\n",
    "        i++\n",
    "    }\n",
    "    if (result < min) {\n",
    "        throw Exception(\"Too short input\")\n",
    "    }\n",
    "    return result\n",
    "}\n",
    "\n",
    "parseCardNumber(\"0000 0000 0000 0000\")"
   ]
  },
  {
   "cell_type": "markdown",
   "id": "474a16f5",
   "metadata": {},
   "source": [
    "#  The try-catch statement"
   ]
  },
  {
   "cell_type": "code",
   "execution_count": 10,
   "id": "6c6ba83f",
   "metadata": {},
   "outputs": [
    {
     "name": "stdout",
     "output_type": "stream",
     "text": [
      "stdin:ldsfldjdk\n",
      "stdin:0\n",
      "Read values are not integers.\n",
      "0\n"
     ]
    }
   ],
   "source": [
    "fun intDivision(x: String, y: String): Int {\n",
    "    var result: Int\n",
    "    try {\n",
    "        result = x.toInt() / y.toInt()\n",
    "    } catch (e: NumberFormatException) {\n",
    "        println(\"Read values are not integers.\")\n",
    "        result = 0\n",
    "    } catch (e: ArithmeticException) {\n",
    "        println(\"Exception: division by zero!\")\n",
    "        result = 0\n",
    "    }\n",
    "    return result.toInt()\n",
    "}\n",
    "\n",
    "val x = readLine()!!\n",
    "val y = readLine()!!\n",
    "println(intDivision(x, y))"
   ]
  },
  {
   "cell_type": "code",
   "execution_count": 12,
   "id": "10e08b56",
   "metadata": {},
   "outputs": [
    {
     "data": {
      "text/plain": [
       "The input word is too short!"
      ]
     },
     "execution_count": 12,
     "metadata": {},
     "output_type": "execute_result"
    }
   ],
   "source": [
    "fun printFifthCharacter(input: String): String {\n",
    "    try {\n",
    "        input[4]\n",
    "    } catch (e: StringIndexOutOfBoundsException) {\n",
    "        return \"The input word is too short!\"\n",
    "    }\n",
    "    return \"The fifth character of the entered word is ${input[4]}\"\n",
    "}\n",
    "\n",
    "printFifthCharacter(\"meme\")"
   ]
  },
  {
   "cell_type": "code",
   "execution_count": 15,
   "id": "b97d3848",
   "metadata": {},
   "outputs": [
    {
     "data": {
      "text/plain": [
       "0.0"
      ]
     },
     "execution_count": 15,
     "metadata": {},
     "output_type": "execute_result"
    }
   ],
   "source": [
    "fun convertStringToDouble(input: String): Double {\n",
    "    try {\n",
    "        return input.toDouble()\n",
    "    } catch (e: NumberFormatException) {\n",
    "        return 0.0\n",
    "    }\n",
    "}\n",
    "\n",
    "convertStringToDouble(\"d\")"
   ]
  },
  {
   "cell_type": "markdown",
   "id": "5e9d3e69",
   "metadata": {},
   "source": [
    "# The try-catch-finally statement"
   ]
  },
  {
   "cell_type": "code",
   "execution_count": 22,
   "id": "662fe850",
   "metadata": {},
   "outputs": [
    {
     "name": "stdout",
     "output_type": "stream",
     "text": [
      "stdin:sdg dasga\n",
      "Good luck!\n",
      "Don't lose the towel, traveler sdg dasga!"
     ]
    }
   ],
   "source": [
    "fun pepTalk(name: String) : String {\n",
    "    val array = name.split(\" \").toTypedArray()\n",
    "    val firstName = array[0]\n",
    "    val secondName = array[1]\n",
    "    return \"Don't lose the towel, traveler $firstName $secondName!\"\n",
    "}   \n",
    "// do not change the function above        \n",
    "\n",
    "    val name = readLine()!!\n",
    "    val advice = try {\n",
    "        pepTalk(name)\n",
    "    } catch (e: ArrayIndexOutOfBoundsException) {\n",
    "        \"Don't lose the towel, nameless one.\"\n",
    "    }\n",
    "    println(\"Good luck!\")\n",
    "    print(advice)"
   ]
  },
  {
   "cell_type": "code",
   "execution_count": 30,
   "id": "09982d65",
   "metadata": {},
   "outputs": [
    {
     "name": "stdout",
     "output_type": "stream",
     "text": [
      "For input string: \"nine\"\r\n"
     ]
    },
    {
     "data": {
      "text/plain": [
       "-1"
      ]
     },
     "execution_count": 30,
     "metadata": {},
     "output_type": "execute_result"
    }
   ],
   "source": [
    "fun calculateBrakingDistance(v1: String, a: String): Int {\n",
    "    return try {\n",
    "        -(v1.toInt() * v1.toInt()) / (2 * a.toInt())\n",
    "    } catch (e: ArithmeticException) {\n",
    "        println(\"The car does not slow down!\")\n",
    "        -1\n",
    "    } catch (e: NumberFormatException) {\n",
    "        println(e.message)\n",
    "        -1\n",
    "    }\n",
    "}\n",
    "\n",
    "calculateBrakingDistance(\"nine\", \"one\")"
   ]
  },
  {
   "cell_type": "code",
   "execution_count": 36,
   "id": "4853a47b",
   "metadata": {
    "scrolled": true
   },
   "outputs": [
    {
     "name": "stdout",
     "output_type": "stream",
     "text": [
      "stdin:burgir\n",
      "The answer is a number\n",
      "42\n"
     ]
    }
   ],
   "source": [
    "    val answer : Int = try { readLine()!!.toInt() } catch (e: Exception){ 42 }\n",
    "        finally { println(\"The answer is a number\") }   \n",
    "    println(answer)"
   ]
  },
  {
   "cell_type": "markdown",
   "id": "306372a3",
   "metadata": {},
   "source": [
    "#  Jumps and returns"
   ]
  },
  {
   "cell_type": "code",
   "execution_count": 2,
   "id": "23330240",
   "metadata": {},
   "outputs": [
    {
     "name": "stdout",
     "output_type": "stream",
     "text": [
      "Before the loop\r\n",
      "1\r\n",
      "2\r\n",
      "After the loop\r\n"
     ]
    }
   ],
   "source": [
    "println(\"Before the loop\")  \n",
    "for (i in 1..10) {  \n",
    "    if (i == 3) {  \n",
    "        break  \n",
    "    }  \n",
    "    println(i)  \n",
    "}  \n",
    "println(\"After the loop\")  "
   ]
  },
  {
   "cell_type": "code",
   "execution_count": 8,
   "id": "b619c77d",
   "metadata": {},
   "outputs": [
    {
     "name": "stdout",
     "output_type": "stream",
     "text": [
      "i = 1, j = 1, k = 1\r\n",
      "i = 1, j = 1, k = 2\r\n",
      "i = 1, j = 1, k = 3\r\n"
     ]
    }
   ],
   "source": [
    "loop@ for (i in 1..3) {\n",
    "    for (j in 1..3) {\n",
    "        for (k in 1..3) {\n",
    "            println(\"i = $i, j = $j, k = $k\")\n",
    "            if (k == 3) break@loop\n",
    "        }\n",
    "    }\n",
    "}"
   ]
  },
  {
   "cell_type": "code",
   "execution_count": 11,
   "id": "4151de54",
   "metadata": {},
   "outputs": [
    {
     "name": "stdout",
     "output_type": "stream",
     "text": [
      "1122"
     ]
    }
   ],
   "source": [
    "fun myin() {\n",
    "    for (i in 1..3) {\n",
    "        if (i == 1)\n",
    "            continue\n",
    "        print(1)\n",
    "        loop@ for (j in 1..2) {\n",
    "            for (k in 1..2) {\n",
    "                if (i == 2 || j == 3) break@loop\n",
    "                print(2)\n",
    "            }\n",
    "            if (j == 1) return\n",
    "            print(3)\n",
    "        }\n",
    "    }\n",
    "}\n",
    "\n",
    "myin()"
   ]
  },
  {
   "cell_type": "code",
   "execution_count": 46,
   "id": "efd5140c",
   "metadata": {},
   "outputs": [
    {
     "name": "stdout",
     "output_type": "stream",
     "text": [
      "stdin:hello\n",
      "abcdfgijkmnpqrstuvwxyz"
     ]
    }
   ],
   "source": [
    "    var result = \"abcdefghijklmnopqrstuvwxyz\"\n",
    "    val input = readLine()!!\n",
    "    for (letter in input) result = result.replace(letter.toString(), \"\")\n",
    "    print(result)"
   ]
  },
  {
   "cell_type": "markdown",
   "id": "85354f34",
   "metadata": {},
   "source": [
    "# Getting substrings"
   ]
  },
  {
   "cell_type": "code",
   "execution_count": 5,
   "id": "c04978e2",
   "metadata": {},
   "outputs": [
    {
     "name": "stdout",
     "output_type": "stream",
     "text": [
      "bai\r\n"
     ]
    }
   ],
   "source": [
    "var example = \"Good morning\"    \n",
    "example = example.replace(\"morning\", \"bye\")\n",
    "example = \"bai\"\n",
    "println(example)"
   ]
  },
  {
   "cell_type": "code",
   "execution_count": 1,
   "id": "386ce6a8",
   "metadata": {},
   "outputs": [
    {
     "data": {
      "text/plain": [
       "GOOoD"
      ]
     },
     "execution_count": 1,
     "metadata": {},
     "output_type": "execute_result"
    }
   ],
   "source": [
    "val a = \"GooD\"\n",
    "a.substringBefore('o') + \"OO\" + a.substringAfter('o')"
   ]
  },
  {
   "cell_type": "code",
   "execution_count": 11,
   "id": "93b8efff",
   "metadata": {},
   "outputs": [
    {
     "data": {
      "text/plain": [
       "true"
      ]
     },
     "execution_count": 11,
     "metadata": {},
     "output_type": "execute_result"
    }
   ],
   "source": [
    "val example = \"Example\"\n",
    "example.substring(3, 7) == example.substring(3)"
   ]
  },
  {
   "cell_type": "code",
   "execution_count": 14,
   "id": "300530d3",
   "metadata": {},
   "outputs": [
    {
     "data": {
      "text/plain": [
       "Kotlin is a language"
      ]
     },
     "execution_count": 14,
     "metadata": {},
     "output_type": "execute_result"
    }
   ],
   "source": [
    "val example = \"Kotlin is a language\"\n",
    "example.replace(\" language\", \"n island\")\n",
    "example"
   ]
  },
  {
   "cell_type": "code",
   "execution_count": 17,
   "id": "cb534292",
   "metadata": {},
   "outputs": [
    {
     "name": "stdout",
     "output_type": "stream",
     "text": [
      "stdin:OIUoiuoO\n",
      "stdin:oiuOIUOo\n"
     ]
    },
    {
     "data": {
      "text/plain": [
       "true"
      ]
     },
     "execution_count": 17,
     "metadata": {},
     "output_type": "execute_result"
    }
   ],
   "source": [
    "readLine()!!.lowercase() == readLine()!!.lowercase()"
   ]
  },
  {
   "cell_type": "code",
   "execution_count": 18,
   "id": "0e91dea3",
   "metadata": {},
   "outputs": [
    {
     "name": "stdout",
     "output_type": "stream",
     "text": [
      "stdin:abcd\n",
      "dbca"
     ]
    }
   ],
   "source": [
    "    val str = readLine()!!\n",
    "    print(str.substring(str.length - 1) + str.substring(1, str.length - 1) + str.substring(0, 1))"
   ]
  },
  {
   "cell_type": "markdown",
   "id": "1d14072e",
   "metadata": {},
   "source": [
    "#  Processing strings"
   ]
  },
  {
   "cell_type": "code",
   "execution_count": 3,
   "id": "368de03a",
   "metadata": {},
   "outputs": [
    {
     "data": {
      "text/plain": [
       " abcda"
      ]
     },
     "execution_count": 3,
     "metadata": {},
     "output_type": "execute_result"
    }
   ],
   "source": [
    "val str1 = \"aaabbcccdaa\"\n",
    "var str2 = \" \"\n",
    "\n",
    "for (ch in str1) {\n",
    "    if (ch != str2.last()) {\n",
    "        str2 += ch\n",
    "    }\n",
    "}\n",
    "str2"
   ]
  },
  {
   "cell_type": "code",
   "execution_count": 9,
   "id": "c34364ec",
   "metadata": {
    "scrolled": true
   },
   "outputs": [
    {
     "name": "stdout",
     "output_type": "stream",
     "text": [
      "stdin:3 3 3 12\n",
      "WMWrqr585!@!"
     ]
    }
   ],
   "source": [
    "    val input = readLine()!!.split(\" \").map { it.toInt() }.toMutableList()\n",
    "    while (input[0] > 0) {\n",
    "        print(if (input[3] % 2 == 0) \"W\" else \"M\")\n",
    "        input[0]--\n",
    "        input[3]--\n",
    "    }\n",
    "    while (input[1] > 0) {\n",
    "        print(if (input[3] % 2 == 0) \"q\" else \"r\")\n",
    "        input[1]--\n",
    "        input[3]--\n",
    "    }\n",
    "    while (input[2] > 0) {\n",
    "        print(if (input[3] % 2 == 0) \"5\" else \"8\")\n",
    "        input[2]--\n",
    "        input[3]--\n",
    "    }\n",
    "    while (input[3] > 0) {\n",
    "        print(if (input[3] % 2 == 0) \"@\" else \"!\")\n",
    "        input[3]--\n",
    "    }"
   ]
  },
  {
   "cell_type": "code",
   "execution_count": 36,
   "id": "3bffe147",
   "metadata": {
    "scrolled": true
   },
   "outputs": [
    {
     "name": "stdout",
     "output_type": "stream",
     "text": [
      "stdin:biiiiig\n",
      "2"
     ]
    }
   ],
   "source": [
    "val BADROW = 3\n",
    "\n",
    "fun isVova(letter: Char) = when (letter) {\n",
    "    'a', 'o', 'y', 'e', 'u', 'i' -> true\n",
    "    else -> false\n",
    "}\n",
    "\n",
    "    val word = readLine()!!\n",
    "    var vova = isVova(word[0])\n",
    "    var bad = 0\n",
    "    var result = 0\n",
    "    for (letter in word) {\n",
    "        if (isVova(letter)) {\n",
    "            if (vova) {\n",
    "                bad++\n",
    "            } else {\n",
    "                bad = 1\n",
    "                vova = true\n",
    "            }\n",
    "        } else {\n",
    "            if (vova) {\n",
    "                bad = 1\n",
    "                vova = false\n",
    "            } else {\n",
    "                bad++\n",
    "            }\n",
    "        }\n",
    "        if (bad == BADROW) {\n",
    "            bad = 1\n",
    "            result++\n",
    "        }\n",
    "    }\n",
    "    print(result)"
   ]
  },
  {
   "cell_type": "code",
   "execution_count": 40,
   "id": "f3e63591",
   "metadata": {},
   "outputs": [
    {
     "name": "stdout",
     "output_type": "stream",
     "text": [
      "stdin:Hello 3\n",
      "loHel"
     ]
    }
   ],
   "source": [
    "    val input = readLine()!!.split(\" \").map { it }.toMutableList()\n",
    "    val n = input[1].toInt()\n",
    "    if (n >= input[0].length) {\n",
    "        print(input[0])\n",
    "    } else {\n",
    "        print(input[0].substring(n, input[0].length) + input[0].substring(0, n))\n",
    "    }"
   ]
  },
  {
   "cell_type": "code",
   "execution_count": null,
   "id": "3be5264d",
   "metadata": {},
   "outputs": [],
   "source": [
    "fun r(value: Int, context: Any): Unit {\n",
    "    println(value)\n",
    "    print(context)\n",
    "}\n",
    "\n",
    "fun square(value: Int, context: Any, continuation: (Int, Any) -> Unit) {\n",
    "    return continuation(Math.sqrt(value.toDouble()), context)\n",
    "}\n",
    "\n",
    "square(4, \"Hello\", r(9, \"Bye\"))"
   ]
  },
  {
   "cell_type": "code",
   "execution_count": 8,
   "id": "99f0cbc6",
   "metadata": {},
   "outputs": [
    {
     "name": "stdout",
     "output_type": "stream",
     "text": [
      "stdin:123456\n",
      "Regular"
     ]
    }
   ],
   "source": [
    "    val n = readLine()!!\n",
    "    var a = 0\n",
    "    var b = 0\n",
    "    for (digit in 0..5) {\n",
    "        if (digit < 3) {\n",
    "            a += n[digit] - '0'\n",
    "        } else {\n",
    "            b += n[digit] - '0'\n",
    "        }\n",
    "    }\n",
    "    print(if (a == b) \"Lucky\" else \"Regular\")"
   ]
  },
  {
   "cell_type": "markdown",
   "id": "b7851af7",
   "metadata": {},
   "source": [
    "# Functions as objects"
   ]
  },
  {
   "cell_type": "code",
   "execution_count": 3,
   "id": "5072d4c9",
   "metadata": {},
   "outputs": [
    {
     "name": "stdout",
     "output_type": "stream",
     "text": [
      "16\r\n",
      "Hello"
     ]
    }
   ],
   "source": [
    "fun f(value: Int, context: Any): Unit {\n",
    "    println(value)\n",
    "    print(context)\n",
    "}\n",
    "\n",
    "fun square(value: Int, context: Any, continuation: (Int, Any) -> Unit) {\n",
    "    continuation(value * value, context)\n",
    "}\n",
    "\n",
    "square(4, \"Hello\", ::f)"
   ]
  },
  {
   "cell_type": "code",
   "execution_count": 13,
   "id": "8317cb9c",
   "metadata": {},
   "outputs": [
    {
     "data": {
      "text/plain": [
       "1"
      ]
     },
     "execution_count": 13,
     "metadata": {},
     "output_type": "execute_result"
    }
   ],
   "source": [
    "fun identity(a: Int)= a\n",
    "\n",
    "fun half(a: Int)= a / 2\n",
    "\n",
    "fun zero(a: Int)= 0\n",
    "\n",
    "fun generate(functionName: String): (Int) -> Int {\n",
    "    return if (functionName == \"identity\") ::identity else if (functionName == \"half\") ::half else ::zero\n",
    "}\n",
    "\n",
    "generate(\"identity\")(1)"
   ]
  },
  {
   "cell_type": "markdown",
   "id": "1d9c8596",
   "metadata": {},
   "source": [
    "# Lambda expressions"
   ]
  },
  {
   "cell_type": "code",
   "execution_count": 1,
   "id": "5f88314a",
   "metadata": {},
   "outputs": [
    {
     "data": {
      "text/plain": [
       "720"
      ]
     },
     "execution_count": 1,
     "metadata": {},
     "output_type": "execute_result"
    }
   ],
   "source": [
    "    val lambda: (Long, Long) -> Long = {\n",
    "        a, b -> \n",
    "        var result = b\n",
    "        for (i in a until b) result *= i\n",
    "        \n",
    "        result\n",
    "    }\n",
    "    lambda(2, 6)"
   ]
  },
  {
   "cell_type": "code",
   "execution_count": 3,
   "id": "d62320db",
   "metadata": {},
   "outputs": [
    {
     "name": "stdout",
     "output_type": "stream",
     "text": [
      "1\r\n",
      "2\r\n",
      "fizz\r\n",
      "4\r\n",
      "buzz\r\n",
      "fizz\r\n",
      "7\r\n",
      "8\r\n",
      "fizz\r\n",
      "buzz\r\n",
      "11\r\n",
      "fizz\r\n",
      "13\r\n",
      "14\r\n",
      "fizzbuzz\r\n",
      "16\r\n"
     ]
    }
   ],
   "source": [
    "fun fizzbuzz(from: Int, to: Int, transformation: (Int) -> String) {\n",
    "    for (number in from..to) {\n",
    "        println(transformation(number))\n",
    "    }\n",
    "}\n",
    "\n",
    "    fizzbuzz(1, 16) { number ->\n",
    "        if (number % 15 == 0) {\n",
    "            return@fizzbuzz \"fizzbuzz\"\n",
    "        }\n",
    "        if (number % 3 == 0) {\n",
    "            return@fizzbuzz \"fizz\"\n",
    "        }\n",
    "        if (number % 5 == 0) {\n",
    "            return@fizzbuzz \"buzz\"\n",
    "        }\n",
    "        return@fizzbuzz number.toString()\n",
    "    }\n"
   ]
  },
  {
   "cell_type": "code",
   "execution_count": 10,
   "id": "9bb6a7e1",
   "metadata": {},
   "outputs": [
    {
     "data": {
      "text/plain": [
       "48"
      ]
     },
     "execution_count": 10,
     "metadata": {},
     "output_type": "execute_result"
    }
   ],
   "source": [
    "fun a(x: Int) = 3 * x\n",
    "\n",
    "fun b(x: Int) = x * x\n",
    "\n",
    "fun compose(g: (Int) -> Int, h: (Int) -> Int): (Int) -> Int {\n",
    "    return {x -> g(h(x))}\n",
    "}\n",
    "\n",
    "compose(::a, ::b)(4)"
   ]
  },
  {
   "cell_type": "code",
   "execution_count": 13,
   "id": "114c2042",
   "metadata": {},
   "outputs": [
    {
     "data": {
      "text/plain": [
       "22"
      ]
     },
     "execution_count": 13,
     "metadata": {},
     "output_type": "execute_result"
    }
   ],
   "source": [
    "    val a = 1\n",
    "    val b = 4\n",
    "    val c = 10\n",
    "    val lambda: (Int) -> Int = { a * it * it + b * it + c }\n",
    "    lambda(2)"
   ]
  },
  {
   "cell_type": "code",
   "execution_count": 15,
   "id": "0dd35e7d",
   "metadata": {},
   "outputs": [
    {
     "data": {
      "text/plain": [
       "0"
      ]
     },
     "execution_count": 15,
     "metadata": {},
     "output_type": "execute_result"
    }
   ],
   "source": [
    "var counter: () -> Int = { -42 }\n",
    "\n",
    "fun reinitializeCounter(): Int {\n",
    "    var value = 0\n",
    "    counter = { ++value }\n",
    "    return value\n",
    "}\n",
    "\n",
    "reinitializeCounter()"
   ]
  },
  {
   "cell_type": "code",
   "execution_count": 16,
   "id": "a35ff35c",
   "metadata": {},
   "outputs": [
    {
     "data": {
      "text/plain": [
       "6"
      ]
     },
     "execution_count": 16,
     "metadata": {},
     "output_type": "execute_result"
    }
   ],
   "source": [
    "    val lambda: (Int, Int) -> Int = { a, b -> Math.max(a, b) }\n",
    "    lambda(6, 4)"
   ]
  },
  {
   "cell_type": "code",
   "execution_count": 18,
   "id": "4ef73078",
   "metadata": {},
   "outputs": [
    {
     "data": {
      "text/plain": [
       "true"
      ]
     },
     "execution_count": 18,
     "metadata": {},
     "output_type": "execute_result"
    }
   ],
   "source": [
    "    val originalPredicate: (Char) -> Boolean = {it=='x'}\n",
    "    \n",
    "    val notPredicate: (Char) -> Boolean = { it -> !(originalPedicate(it)) }\n",
    "    \n",
    "    notPredicate('a')"
   ]
  }
 ],
 "metadata": {
  "kernelspec": {
   "display_name": "Kotlin",
   "language": "kotlin",
   "name": "kotlin"
  },
  "language_info": {
   "codemirror_mode": "text/x-kotlin",
   "file_extension": ".kt",
   "mimetype": "text/x-kotlin",
   "name": "kotlin",
   "nbconvert_exporter": "",
   "pygments_lexer": "kotlin",
   "version": "1.6.20-dev-6372"
  }
 },
 "nbformat": 4,
 "nbformat_minor": 5
}

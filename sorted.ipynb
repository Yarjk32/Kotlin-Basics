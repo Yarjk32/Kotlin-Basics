{
 "cells": [
  {
   "cell_type": "markdown",
   "id": "94c8dc99",
   "metadata": {},
   "source": [
    "# Relational operators "
   ]
  },
  {
   "cell_type": "code",
   "execution_count": 6,
   "id": "8941667e",
   "metadata": {},
   "outputs": [
    {
     "name": "stdout",
     "output_type": "stream",
     "text": [
      "stdin:2\n",
      "stdin:6\n",
      "stdin:14\n",
      "true"
     ]
    }
   ],
   "source": [
    "    val a = readLine()!!.toInt()\n",
    "    val b = readLine()!!.toInt()\n",
    "    val c = readLine()!!.toInt()\n",
    "    print(a + b == 20 || a + c == 20 || b + c == 20)"
   ]
  },
  {
   "cell_type": "markdown",
   "id": "9d691682",
   "metadata": {},
   "source": [
    "# Work with MutableLists"
   ]
  },
  {
   "cell_type": "code",
   "execution_count": 1,
   "id": "7054cb61",
   "metadata": {
    "collapsed": true
   },
   "outputs": [
    {
     "name": "stderr",
     "output_type": "stream",
     "text": [
      "Java heap space\r\n",
      "java.lang.OutOfMemoryError: Java heap space\r\n",
      "\tat java.base/java.util.Arrays.copyOf(Arrays.java:3481)\r\n",
      "\tat java.base/java.util.ArrayList.grow(ArrayList.java:237)\r\n",
      "\tat java.base/java.util.ArrayList.grow(ArrayList.java:244)\r\n",
      "\tat java.base/java.util.ArrayList.add(ArrayList.java:454)\r\n",
      "\tat java.base/java.util.ArrayList.add(ArrayList.java:467)\r\n",
      "\tat Line_0.<init>(Line_0.jupyter-kts:3)\r\n",
      "\tat java.base/jdk.internal.reflect.NativeConstructorAccessorImpl.newInstance0(Native Method)\r\n",
      "\tat java.base/jdk.internal.reflect.NativeConstructorAccessorImpl.newInstance(NativeConstructorAccessorImpl.java:77)\r\n",
      "\tat java.base/jdk.internal.reflect.DelegatingConstructorAccessorImpl.newInstance(DelegatingConstructorAccessorImpl.java:45)\r\n",
      "\tat java.base/java.lang.reflect.Constructor.newInstanceWithCaller(Constructor.java:499)\r\n",
      "\tat java.base/java.lang.reflect.Constructor.newInstance(Constructor.java:480)\r\n",
      "\tat kotlin.script.experimental.jvm.BasicJvmScriptEvaluator.evalWithConfigAndOtherScriptsResults(BasicJvmScriptEvaluator.kt:100)\r\n",
      "\tat kotlin.script.experimental.jvm.BasicJvmScriptEvaluator.invoke$suspendImpl(BasicJvmScriptEvaluator.kt:47)\r\n",
      "\tat kotlin.script.experimental.jvm.BasicJvmScriptEvaluator.invoke(BasicJvmScriptEvaluator.kt)\r\n",
      "\tat kotlin.script.experimental.jvm.BasicJvmReplEvaluator.eval(BasicJvmReplEvaluator.kt:49)\r\n",
      "\tat org.jetbrains.kotlinx.jupyter.repl.impl.InternalEvaluatorImpl$eval$resultWithDiagnostics$1.invokeSuspend(InternalEvaluatorImpl.kt:99)\r\n",
      "\tat kotlin.coroutines.jvm.internal.BaseContinuationImpl.resumeWith(ContinuationImpl.kt:33)\r\n",
      "\tat kotlinx.coroutines.DispatchedTask.run(DispatchedTask.kt:106)\r\n",
      "\tat kotlinx.coroutines.EventLoopImplBase.processNextEvent(EventLoop.common.kt:274)\r\n",
      "\tat kotlinx.coroutines.BlockingCoroutine.joinBlocking(Builders.kt:85)\r\n",
      "\tat kotlinx.coroutines.BuildersKt__BuildersKt.runBlocking(Builders.kt:59)\r\n",
      "\tat kotlinx.coroutines.BuildersKt.runBlocking(Unknown Source)\r\n",
      "\tat kotlinx.coroutines.BuildersKt__BuildersKt.runBlocking$default(Builders.kt:38)\r\n",
      "\tat kotlinx.coroutines.BuildersKt.runBlocking$default(Unknown Source)\r\n",
      "\tat org.jetbrains.kotlinx.jupyter.repl.impl.InternalEvaluatorImpl.eval(InternalEvaluatorImpl.kt:99)\r\n",
      "\tat org.jetbrains.kotlinx.jupyter.repl.impl.CellExecutorImpl$execute$1$result$1.invoke(CellExecutorImpl.kt:64)\r\n",
      "\tat org.jetbrains.kotlinx.jupyter.repl.impl.CellExecutorImpl$execute$1$result$1.invoke(CellExecutorImpl.kt:63)\r\n",
      "\tat org.jetbrains.kotlinx.jupyter.ReplForJupyterImpl.withHost(repl.kt:603)\r\n",
      "\tat org.jetbrains.kotlinx.jupyter.repl.impl.CellExecutorImpl.execute(CellExecutorImpl.kt:63)\r\n",
      "\tat org.jetbrains.kotlinx.jupyter.repl.CellExecutor$DefaultImpls.execute$default(CellExecutor.kt:13)\r\n",
      "\tat org.jetbrains.kotlinx.jupyter.ReplForJupyterImpl$evalEx$1.invoke(repl.kt:423)\r\n",
      "\tat org.jetbrains.kotlinx.jupyter.ReplForJupyterImpl$evalEx$1.invoke(repl.kt:412)\r\n"
     ]
    }
   ],
   "source": [
    "val mas = mutableListOf<Long>(0)\n",
    "while (true) {\n",
    "    mas.add(0)\n",
    "}"
   ]
  },
  {
   "cell_type": "code",
   "execution_count": 2,
   "id": "b97bb5f7",
   "metadata": {},
   "outputs": [
    {
     "data": {
      "text/plain": [
       "[1, 2, 3, 4, 5]"
      ]
     },
     "execution_count": 2,
     "metadata": {},
     "output_type": "execute_result"
    }
   ],
   "source": [
    "val list = mutableListOf(1, 2, 3, 4, 5)\n",
    "val copyList = mutableListOf<Int>()\n",
    "copyList.addAll(list)\n",
    "list[2] = 10\n",
    "copyList"
   ]
  },
  {
   "cell_type": "code",
   "execution_count": 3,
   "id": "0fa291fd",
   "metadata": {},
   "outputs": [
    {
     "data": {
      "text/plain": [
       "2"
      ]
     },
     "execution_count": 3,
     "metadata": {},
     "output_type": "execute_result"
    }
   ],
   "source": [
    "val numbers = mutableListOf(1, 2, 5, 3, 4, 5)\n",
    "numbers.indexOf(5)"
   ]
  },
  {
   "cell_type": "code",
   "execution_count": 4,
   "id": "a7652eef",
   "metadata": {},
   "outputs": [
    {
     "data": {
      "text/plain": [
       "[]"
      ]
     },
     "execution_count": 4,
     "metadata": {},
     "output_type": "execute_result"
    }
   ],
   "source": [
    "val myEmptyList = MutableList<String>(0) { \"\" }\n",
    "myEmptyList"
   ]
  },
  {
   "cell_type": "code",
   "execution_count": 6,
   "id": "dcd14bbb",
   "metadata": {},
   "outputs": [
    {
     "name": "stdout",
     "output_type": "stream",
     "text": [
      "stdin:fdlkdskjskaj dfkfadjjkdfjfdkjad\n",
      "stdin:kasfjkdsafj sdfksdjfakjfew\n",
      "fdlkdskjskaj, dfkfadjjkdfjfdkjad, kasfjkdsafj, sdfksdjfakjfew"
     ]
    }
   ],
   "source": [
    "    val firstList = readLine()!!.split(' ').map { it }.toMutableList()\n",
    "    val secondList = readLine()!!.split(' ').map { it }.toMutableList()\n",
    "    // do not touch the lines above\n",
    "    print((firstList + secondList).joinToString())"
   ]
  },
  {
   "cell_type": "code",
   "execution_count": 3,
   "id": "24e0216d",
   "metadata": {},
   "outputs": [
    {
     "name": "stdout",
     "output_type": "stream",
     "text": [
      "stdin:24 12\n",
      "36 12\n"
     ]
    }
   ],
   "source": [
    "    val numbers = readLine()!!.split(' ').map{it.toInt()}.toMutableList()\n",
    "    // do not touch the lines above\n",
    "    numbers.add(0, numbers.sum())\n",
    "    numbers.removeAt(numbers.lastIndex - 1)\n",
    "    // do not touch the lines below\n",
    "    println(numbers.joinToString(\" \"))"
   ]
  },
  {
   "cell_type": "markdown",
   "id": "814fe945",
   "metadata": {},
   "source": [
    "# For loop and lists"
   ]
  },
  {
   "cell_type": "code",
   "execution_count": 8,
   "id": "d6d1fddf",
   "metadata": {
    "scrolled": true
   },
   "outputs": [
    {
     "name": "stdout",
     "output_type": "stream",
     "text": [
      "Sun\n",
      "Mon\n",
      "Tues\n",
      "Wed\n",
      "Thur\n",
      "Fri\n",
      "Sat\r\n"
     ]
    }
   ],
   "source": [
    "val daysOfWeek = mutableListOf(\"Sun\", \"Mon\", \"Tues\", \"Wed\", \"Thur\", \"Fri\", \"Sat\")\n",
    "println(daysOfWeek.joinToString(\"\\n\"))"
   ]
  },
  {
   "cell_type": "code",
   "execution_count": 9,
   "id": "bfc6785d",
   "metadata": {},
   "outputs": [
    {
     "name": "stdout",
     "output_type": "stream",
     "text": [
      "stdin:5\n",
      "stdin:1\n",
      "stdin:3\n",
      "stdin:5\n",
      "stdin:2\n",
      "stdin:1\n",
      "stdin:1\n",
      "2"
     ]
    }
   ],
   "source": [
    "    val nums: MutableList<Int> = mutableListOf()\n",
    "    val n = readLine()!!.toInt()\n",
    "    var occurs = 0\n",
    "    repeat(n) {\n",
    "        nums.add(readLine()!!.toInt())\n",
    "    }\n",
    "    val toFind = readLine()!!.toInt()\n",
    "    for (el in nums) if (el == toFind) occurs++\n",
    "    print(occurs)"
   ]
  },
  {
   "cell_type": "code",
   "execution_count": 1,
   "id": "75d13687",
   "metadata": {
    "scrolled": true
   },
   "outputs": [
    {
     "name": "stdout",
     "output_type": "stream",
     "text": [
      "stdin:12 24\n",
      "24\n",
      "12\n"
     ]
    }
   ],
   "source": [
    "val (a, b) = readLine()!!.split(' ').map{it.toInt()}\n",
    "println(a * 2)\n",
    "println(b / 2)"
   ]
  },
  {
   "cell_type": "code",
   "execution_count": 10,
   "id": "fb92dcf5",
   "metadata": {
    "scrolled": true
   },
   "outputs": [
    {
     "name": "stdout",
     "output_type": "stream",
     "text": [
      "stdin:3\n",
      "stdin:100\n",
      "stdin:50\n",
      "stdin:50\n",
      "stdin:10\n",
      "stdin:20\n",
      "stdin:10\n",
      "1"
     ]
    }
   ],
   "source": [
    "    val n = readLine()!!.toInt()\n",
    "    val income = MutableList(n) { readLine()!!.toInt() }\n",
    "    val tax = MutableList(n) { readLine()!!.toDouble() / 100 }\n",
    "    var pay = 0.0\n",
    "    var payMax = 0.0\n",
    "    var iMax = -1\n",
    "    for (i in 0 until n) {\n",
    "        pay = income[i] * tax[i]\n",
    "        if (pay > payMax) {\n",
    "            payMax = pay\n",
    "            iMax = i + 1\n",
    "        }\n",
    "    }\n",
    "    print(iMax)"
   ]
  },
  {
   "cell_type": "code",
   "execution_count": 56,
   "id": "ff62eb16",
   "metadata": {
    "scrolled": false
   },
   "outputs": [
    {
     "name": "stdout",
     "output_type": "stream",
     "text": [
      "stdin:3\n",
      "stdin:1\n",
      "stdin:3\n",
      "stdin:2\n",
      "stdin:3\n",
      "YES"
     ]
    }
   ],
   "source": [
    "    val nums: MutableList<String> = mutableListOf()\n",
    "    val n = readLine()!!.toInt()\n",
    "    repeat(n) {\n",
    "        nums.add(readLine()!!)\n",
    "    }\n",
    "    val toFind = readLine()!!\n",
    "    print(if (toFind in nums) \"YES\" else \"NO\")"
   ]
  },
  {
   "cell_type": "code",
   "execution_count": 4,
   "id": "d0c15417",
   "metadata": {},
   "outputs": [
    {
     "name": "stdout",
     "output_type": "stream",
     "text": [
      "stdin:3\n",
      "stdin:1\n",
      "stdin:2\n",
      "stdin:3\n",
      "stdin:3 2\n",
      "NO"
     ]
    }
   ],
   "source": [
    "    val nums: MutableList<String> = mutableListOf()\n",
    "    val n = readLine()!!.toInt()\n",
    "    repeat(n) {\n",
    "        nums.add(readLine()!!)\n",
    "    }\n",
    "    val toFind = readLine()!!.split(\" \")\n",
    "    print(if (\"${toFind[0]} ${toFind[1]}\" in nums.joinToString(\" \") || \"${toFind[1]} ${toFind[0]}\" in nums.joinToString(\" \")) \"NO\" else \"YES\")"
   ]
  },
  {
   "cell_type": "markdown",
   "id": "8516b4a6",
   "metadata": {},
   "source": [
    "# Multi-dimensional list"
   ]
  },
  {
   "cell_type": "code",
   "execution_count": 20,
   "id": "aaab2276",
   "metadata": {},
   "outputs": [
    {
     "data": {
      "text/plain": [
       "[[0, 1, 2], [3, 4, 5, 6], [seven, eight]]"
      ]
     },
     "execution_count": 20,
     "metadata": {},
     "output_type": "execute_result"
    }
   ],
   "source": [
    "val mutList2D = mutableListOf(\n",
    "    mutableListOf<Int>(0, 1, 2),\n",
    "    mutableListOf<Int>(3, 4, 5, 6),\n",
    "    mutableListOf<String>(\"seven\", \"eight\")\n",
    ")\n",
    "mutList2D"
   ]
  },
  {
   "cell_type": "code",
   "execution_count": 12,
   "id": "c18539f8",
   "metadata": {},
   "outputs": [
    {
     "data": {
      "text/plain": [
       "[[[0, 1], [2, 3]], [[4, 5], [6, 7]]]"
      ]
     },
     "execution_count": 12,
     "metadata": {},
     "output_type": "execute_result"
    }
   ],
   "source": [
    "val mutList3D = mutableListOf(\n",
    "    mutableListOf(mutableListOf<Int>(0,1), mutableListOf<Int>(2,3)),\n",
    "    mutableListOf(mutableListOf<Int>(4,5), mutableListOf<Int>(6,7))\n",
    ")\n",
    "mutList3D"
   ]
  },
  {
   "cell_type": "code",
   "execution_count": 21,
   "id": "65f0e19a",
   "metadata": {},
   "outputs": [
    {
     "name": "stderr",
     "output_type": "stream",
     "text": [
      "Line_878.jupyter-kts (1:17 - 30) Not enough information to infer type variable T\n",
      "Line_878.jupyter-kts (2:5 - 18) Not enough information to infer type variable T\n",
      "Line_878.jupyter-kts (3:5 - 18) Not enough information to infer type variable T"
     ]
    }
   ],
   "source": [
    "val mutListMD = mutableListOf(\n",
    "    mutableListOf(),\n",
    "    mutableListOf()\n",
    ")"
   ]
  },
  {
   "cell_type": "code",
   "execution_count": 22,
   "id": "d289f757",
   "metadata": {},
   "outputs": [
    {
     "data": {
      "text/plain": [
       "[[[0, 0, 0], [0, 0, 0], [0, 0, 0]], [[0, 0, 0], [0, 0, 0], [0, 0, 0]], [[0, 0, 0], [0, 0, 0], [0, 0, 0]]]"
      ]
     },
     "execution_count": 22,
     "metadata": {},
     "output_type": "execute_result"
    }
   ],
   "source": [
    "val mutList3D = mutableListOf(\n",
    "mutableListOf(MutableList<Int>(3) { 0 }, MutableList<Int>(3) { 0 }, MutableList<Int>(3) { 0 }),\n",
    "mutableListOf(MutableList<Int>(3) { 0 }, MutableList<Int>(3) { 0 }, MutableList<Int>(3) { 0 }),\n",
    "mutableListOf(MutableList<Int>(3) { 0 }, MutableList<Int>(3) { 0 }, MutableList<Int>(3) { 0 })\n",
    ")\n",
    "mutList3D"
   ]
  },
  {
   "cell_type": "code",
   "execution_count": 23,
   "id": "29686c1c",
   "metadata": {
    "scrolled": true
   },
   "outputs": [
    {
     "name": "stdout",
     "output_type": "stream",
     "text": [
      "stdin:3\n",
      "stdin:1 2 3\n",
      "stdin:4 5 6\n",
      "stdin:7 8 9\n",
      "1 3\n",
      "7 9"
     ]
    }
   ],
   "source": [
    "    //Do not touch code below\n",
    "    var inputList: MutableList<MutableList<String>> = mutableListOf()\n",
    "    val n = readLine()!!.toInt()\n",
    "    for (i in 0 until n) {\n",
    "        val strings = readLine()!!.split(' ').toMutableList()\n",
    "        inputList.add(strings)\n",
    "    }\n",
    "    print(\"${inputList[0][0]} ${inputList[0][n - 1]}\\n${inputList[n - 1][0]} ${inputList[n - 1][n - 1]}\")"
   ]
  },
  {
   "cell_type": "code",
   "execution_count": 62,
   "id": "9b829ad1",
   "metadata": {},
   "outputs": [
    {
     "name": "stdout",
     "output_type": "stream",
     "text": [
      "stdin:3\n",
      "stdin:sdfkl eh er erwo\n",
      "stdin:sfdal;\n",
      "stdin:kfgj eroier iierwo \n",
      "[[kfgj, eroier, iierwo, ], [sdfkl, eh, er, erwo]]"
     ]
    }
   ],
   "source": [
    "    //Do not touch code below\n",
    "    var inputList: MutableList<MutableList<String>> = mutableListOf()\n",
    "    val n = readLine()!!.toInt()\n",
    "    for (i in 0 until n) {\n",
    "        val strings = readLine()!!.split(' ').toMutableList()\n",
    "        inputList.add(strings)\n",
    "    }\n",
    "    print(\"[${inputList.last()}, ${inputList.first()}]\")"
   ]
  },
  {
   "cell_type": "markdown",
   "id": "287b9746",
   "metadata": {},
   "source": [
    "# When expression"
   ]
  },
  {
   "cell_type": "code",
   "execution_count": 30,
   "id": "4ef61874",
   "metadata": {},
   "outputs": [
    {
     "name": "stdout",
     "output_type": "stream",
     "text": [
      "stdin:poewjrhcxv\n",
      "stdin:endsWith\n",
      "stdin:cxv\n",
      "true"
     ]
    }
   ],
   "source": [
    "    val a = readLine()!!\n",
    "    val op = readLine()!!\n",
    "    val b = readLine()!!\n",
    "    print(\n",
    "        when (op) {\n",
    "            \"equals\" -> a == b\n",
    "            \"plus\" -> a + b\n",
    "            \"endsWith\" -> a.endsWith(b)\n",
    "            else -> \"Unknown operation\"\n",
    "        }\n",
    "    )"
   ]
  },
  {
   "cell_type": "code",
   "execution_count": 34,
   "id": "a6335496",
   "metadata": {
    "scrolled": true
   },
   "outputs": [
    {
     "name": "stdout",
     "output_type": "stream",
     "text": [
      "stdin:10\n",
      "T"
     ]
    }
   ],
   "source": [
    "    val a = readLine()!!.toInt()\n",
    "    print(\n",
    "        when (a) {\n",
    "            0, 1, 2, 3, 5, 8, 13, 21, 34, 55 -> 'F'\n",
    "            6, 10, 15, 28, 36, 45 -> 'T'\n",
    "            100, 1000, 10000, 100000 -> 'P'\n",
    "            else -> 'N'\n",
    "        }\n",
    "    )"
   ]
  },
  {
   "cell_type": "code",
   "execution_count": 40,
   "id": "6f1fce40",
   "metadata": {},
   "outputs": [
    {
     "name": "stdout",
     "output_type": "stream",
     "text": [
      "stdin:i123456\n",
      "123457"
     ]
    }
   ],
   "source": [
    "import java.util.Scanner\n",
    "\n",
    "    val scanner = Scanner(System.`in`)\n",
    "    if (scanner.hasNext()) {\n",
    "        val input = scanner.nextLine()\n",
    "        print(\n",
    "            when (input.first()) {\n",
    "                'i' -> input.substring(1).toInt() + 1\n",
    "                's' -> input.substring(1).reversed()\n",
    "                else -> input\n",
    "            }\n",
    "        )\n",
    "    } else {\n",
    "        print(\"\")\n",
    "    }"
   ]
  },
  {
   "cell_type": "code",
   "execution_count": 64,
   "id": "3e2ecd39",
   "metadata": {},
   "outputs": [
    {
     "name": "stdout",
     "output_type": "stream",
     "text": [
      "stdin:4\n",
      "No!"
     ]
    }
   ],
   "source": [
    "    val n = readLine()!!.toInt()\n",
    "    print(\n",
    "        when (n) {\n",
    "            2 -> \"Yes!\"\n",
    "            1, 3, 4 -> \"No!\"\n",
    "            else -> \"Unknown number\"\n",
    "        }\n",
    "    )"
   ]
  },
  {
   "cell_type": "code",
   "execution_count": 1,
   "id": "4623a6c7",
   "metadata": {},
   "outputs": [
    {
     "name": "stdout",
     "output_type": "stream",
     "text": [
      "stdin:4\n",
      "You have chosen a rhombus"
     ]
    }
   ],
   "source": [
    "    val inp = readLine()!!\n",
    "    print(\n",
    "        when (inp) {\n",
    "            \"1\" -> \"You have chosen a square\"\n",
    "            \"2\" -> \"You have chosen a circle\"\n",
    "            \"3\" -> \"You have chosen a triangle\"\n",
    "            \"4\" -> \"You have chosen a rhombus\"\n",
    "            else -> \"There is no such shape!\"    \n",
    "        }\n",
    "    )"
   ]
  },
  {
   "cell_type": "markdown",
   "id": "2574b484",
   "metadata": {},
   "source": [
    "# Floating-point types"
   ]
  },
  {
   "cell_type": "code",
   "execution_count": 1,
   "id": "764ecee6",
   "metadata": {},
   "outputs": [
    {
     "name": "stdout",
     "output_type": "stream",
     "text": [
      "stdin:2\n",
      "stdin:-1\n",
      "stdin:2\n",
      "1.5"
     ]
    }
   ],
   "source": [
    "    val a = readLine()!!.toDouble()\n",
    "    val b = readLine()!!.toDouble()\n",
    "    val c = readLine()!!.toDouble()\n",
    "    print((c - b) / a)"
   ]
  },
  {
   "cell_type": "code",
   "execution_count": 2,
   "id": "b88ee1f2",
   "metadata": {
    "scrolled": true
   },
   "outputs": [
    {
     "name": "stdout",
     "output_type": "stream",
     "text": [
      "stdin:25\n",
      "1963.4375000000002"
     ]
    }
   ],
   "source": [
    "    val r = readLine()!!.toInt()\n",
    "    val pi = 3.1415\n",
    "    print(pi * r * r)"
   ]
  },
  {
   "cell_type": "code",
   "execution_count": 3,
   "id": "01667482",
   "metadata": {},
   "outputs": [
    {
     "name": "stdout",
     "output_type": "stream",
     "text": [
      "stdin:1.7\n",
      "stdin:5.5\n",
      "91.63"
     ]
    }
   ],
   "source": [
    "val G = 9.8\n",
    "\n",
    "    val ro = readLine()!!.toDouble()\n",
    "    val h = readLine()!!.toDouble()\n",
    "    print(ro * G * h)"
   ]
  },
  {
   "cell_type": "markdown",
   "id": "2e2cab92",
   "metadata": {},
   "source": [
    "# Taming exceptions"
   ]
  },
  {
   "cell_type": "code",
   "execution_count": 12,
   "id": "20912baf",
   "metadata": {
    "scrolled": false
   },
   "outputs": [
    {
     "name": "stdout",
     "output_type": "stream",
     "text": [
      "stdin:124253\n",
      "stdin:0\n",
      "Division by zero, please fix the second argument!"
     ]
    }
   ],
   "source": [
    "    val a = readLine()!!.toInt()\n",
    "    val b = readLine()!!.toInt()\n",
    "    print(if (b == 0) \"Division by zero, please fix the second argument!\" else a / b)"
   ]
  },
  {
   "cell_type": "code",
   "execution_count": 56,
   "id": "e3745e32",
   "metadata": {},
   "outputs": [
    {
     "data": {
      "text/plain": [
       "0"
      ]
     },
     "execution_count": 56,
     "metadata": {},
     "output_type": "execute_result"
    }
   ],
   "source": [
    "fun parseCardNumber(cardNumber: String): Long {\n",
    "    var min = 1000_0000_0000_0000\n",
    "    var result = 0L\n",
    "    var i = 0\n",
    "    var startZero = true\n",
    "    for (c in cardNumber) {\n",
    "        when (i) {\n",
    "            in 0..3, in 5..8, in 10..13, in 15..18 ->\n",
    "                if (c in '0'..'9') {\n",
    "                    result = result * 10 + c.toString().toShort()\n",
    "                } else {\n",
    "                    throw Exception(\"At $i no digit was found\")\n",
    "                }\n",
    "            4, 9, 14 ->\n",
    "                if (c != ' ') {\n",
    "                    throw Exception(\"At $i no space was found\")\n",
    "                }\n",
    "            else -> throw Exception(\"Too long input\")\n",
    "        }\n",
    "        if (c != ' ' && startZero) {\n",
    "            if (c != '0') {\n",
    "                startZero = false\n",
    "            } else {\n",
    "                min /= 10\n",
    "            }\n",
    "        }\n",
    "        i++\n",
    "    }\n",
    "    if (result < min) {\n",
    "        throw Exception(\"Too short input\")\n",
    "    }\n",
    "    return result\n",
    "}\n",
    "\n",
    "parseCardNumber(\"0000 0000 0000 0000\")"
   ]
  },
  {
   "cell_type": "code",
   "execution_count": 8,
   "id": "3bf130c1",
   "metadata": {
    "collapsed": true
   },
   "outputs": [
    {
     "name": "stdout",
     "output_type": "stream",
     "text": [
      "stdin:125\n",
      "stdin:0\n"
     ]
    },
    {
     "name": "stderr",
     "output_type": "stream",
     "text": [
      "The race can't be won with this car\r\n",
      "java.lang.Exception: The race can't be won with this car\r\n",
      "\tat Line_326.findCar(Line_326.jupyter-kts:5)\r\n",
      "\tat Line_326.<init>(Line_326.jupyter-kts:10)\r\n",
      "\tat java.base/jdk.internal.reflect.NativeConstructorAccessorImpl.newInstance0(Native Method)\r\n",
      "\tat java.base/jdk.internal.reflect.NativeConstructorAccessorImpl.newInstance(NativeConstructorAccessorImpl.java:77)\r\n",
      "\tat java.base/jdk.internal.reflect.DelegatingConstructorAccessorImpl.newInstance(DelegatingConstructorAccessorImpl.java:45)\r\n",
      "\tat java.base/java.lang.reflect.Constructor.newInstanceWithCaller(Constructor.java:499)\r\n",
      "\tat java.base/java.lang.reflect.Constructor.newInstance(Constructor.java:480)\r\n",
      "\tat kotlin.script.experimental.jvm.BasicJvmScriptEvaluator.evalWithConfigAndOtherScriptsResults(BasicJvmScriptEvaluator.kt:100)\r\n",
      "\tat kotlin.script.experimental.jvm.BasicJvmScriptEvaluator.invoke$suspendImpl(BasicJvmScriptEvaluator.kt:47)\r\n",
      "\tat kotlin.script.experimental.jvm.BasicJvmScriptEvaluator.invoke(BasicJvmScriptEvaluator.kt)\r\n",
      "\tat kotlin.script.experimental.jvm.BasicJvmReplEvaluator.eval(BasicJvmReplEvaluator.kt:49)\r\n",
      "\tat org.jetbrains.kotlinx.jupyter.repl.impl.InternalEvaluatorImpl$eval$resultWithDiagnostics$1.invokeSuspend(InternalEvaluatorImpl.kt:99)\r\n",
      "\tat kotlin.coroutines.jvm.internal.BaseContinuationImpl.resumeWith(ContinuationImpl.kt:33)\r\n",
      "\tat kotlinx.coroutines.DispatchedTask.run(DispatchedTask.kt:106)\r\n",
      "\tat kotlinx.coroutines.EventLoopImplBase.processNextEvent(EventLoop.common.kt:279)\r\n",
      "\tat kotlinx.coroutines.BlockingCoroutine.joinBlocking(Builders.kt:85)\r\n",
      "\tat kotlinx.coroutines.BuildersKt__BuildersKt.runBlocking(Builders.kt:59)\r\n",
      "\tat kotlinx.coroutines.BuildersKt.runBlocking(Unknown Source)\r\n",
      "\tat kotlinx.coroutines.BuildersKt__BuildersKt.runBlocking$default(Builders.kt:38)\r\n",
      "\tat kotlinx.coroutines.BuildersKt.runBlocking$default(Unknown Source)\r\n",
      "\tat org.jetbrains.kotlinx.jupyter.repl.impl.InternalEvaluatorImpl.eval(InternalEvaluatorImpl.kt:99)\r\n",
      "\tat org.jetbrains.kotlinx.jupyter.repl.impl.CellExecutorImpl$execute$1$result$1.invoke(CellExecutorImpl.kt:63)\r\n",
      "\tat org.jetbrains.kotlinx.jupyter.repl.impl.CellExecutorImpl$execute$1$result$1.invoke(CellExecutorImpl.kt:62)\r\n",
      "\tat org.jetbrains.kotlinx.jupyter.ReplForJupyterImpl.withHost(repl.kt:604)\r\n",
      "\tat org.jetbrains.kotlinx.jupyter.repl.impl.CellExecutorImpl.execute(CellExecutorImpl.kt:62)\r\n",
      "\tat org.jetbrains.kotlinx.jupyter.repl.CellExecutor$DefaultImpls.execute$default(CellExecutor.kt:13)\r\n",
      "\tat org.jetbrains.kotlinx.jupyter.ReplForJupyterImpl$evalEx$1.invoke(repl.kt:424)\r\n",
      "\tat org.jetbrains.kotlinx.jupyter.ReplForJupyterImpl$evalEx$1.invoke(repl.kt:413)\r\n",
      "\tat org.jetbrains.kotlinx.jupyter.ReplForJupyterImpl.withEvalContext(repl.kt:377)\r\n",
      "\tat org.jetbrains.kotlinx.jupyter.ReplForJupyterImpl.evalEx(repl.kt:413)\r\n",
      "\tat org.jetbrains.kotlinx.jupyter.ReplForJupyterImpl.eval(repl.kt:461)\r\n",
      "\tat org.jetbrains.kotlinx.jupyter.messaging.ProtocolKt$shellMessagesHandler$res$1.invoke(protocol.kt:301)\r\n",
      "\tat org.jetbrains.kotlinx.jupyter.messaging.ProtocolKt$shellMessagesHandler$res$1.invoke(protocol.kt:300)\r\n",
      "\tat org.jetbrains.kotlinx.jupyter.JupyterConnection$runExecution$execThread$1.invoke(connection.kt:180)\r\n",
      "\tat org.jetbrains.kotlinx.jupyter.JupyterConnection$runExecution$execThread$1.invoke(connection.kt:178)\r\n",
      "\tat kotlin.concurrent.ThreadsKt$thread$thread$1.run(Thread.kt:30)\r\n"
     ]
    }
   ],
   "source": [
    "fun findCar(): String {\n",
    "    val maxSpeed = readLine()!!.toInt()\n",
    "    val acceleration = readLine()!!.toInt()\n",
    "    if (maxSpeed < 120 || acceleration !in 1..4) {\n",
    "        throw Exception(\"The race can't be won with this car\")\n",
    "    }\n",
    "    return \"I will definitely win!\"\n",
    "}\n",
    "\n",
    "findCar()"
   ]
  },
  {
   "cell_type": "markdown",
   "id": "474a16f5",
   "metadata": {},
   "source": [
    "#  The try-catch statement"
   ]
  },
  {
   "cell_type": "code",
   "execution_count": 10,
   "id": "6c6ba83f",
   "metadata": {},
   "outputs": [
    {
     "name": "stdout",
     "output_type": "stream",
     "text": [
      "stdin:ldsfldjdk\n",
      "stdin:0\n",
      "Read values are not integers.\n",
      "0\n"
     ]
    }
   ],
   "source": [
    "fun intDivision(x: String, y: String): Int {\n",
    "    var result: Int\n",
    "    try {\n",
    "        result = x.toInt() / y.toInt()\n",
    "    } catch (e: NumberFormatException) {\n",
    "        println(\"Read values are not integers.\")\n",
    "        result = 0\n",
    "    } catch (e: ArithmeticException) {\n",
    "        println(\"Exception: division by zero!\")\n",
    "        result = 0\n",
    "    }\n",
    "    return result.toInt()\n",
    "}\n",
    "\n",
    "val x = readLine()!!\n",
    "val y = readLine()!!\n",
    "println(intDivision(x, y))"
   ]
  },
  {
   "cell_type": "code",
   "execution_count": 12,
   "id": "10e08b56",
   "metadata": {},
   "outputs": [
    {
     "data": {
      "text/plain": [
       "The input word is too short!"
      ]
     },
     "execution_count": 12,
     "metadata": {},
     "output_type": "execute_result"
    }
   ],
   "source": [
    "fun printFifthCharacter(input: String): String {\n",
    "    try {\n",
    "        input[4]\n",
    "    } catch (e: StringIndexOutOfBoundsException) {\n",
    "        return \"The input word is too short!\"\n",
    "    }\n",
    "    return \"The fifth character of the entered word is ${input[4]}\"\n",
    "}\n",
    "\n",
    "printFifthCharacter(\"meme\")"
   ]
  },
  {
   "cell_type": "code",
   "execution_count": 15,
   "id": "b97d3848",
   "metadata": {},
   "outputs": [
    {
     "data": {
      "text/plain": [
       "0.0"
      ]
     },
     "execution_count": 15,
     "metadata": {},
     "output_type": "execute_result"
    }
   ],
   "source": [
    "fun convertStringToDouble(input: String): Double {\n",
    "    try {\n",
    "        return input.toDouble()\n",
    "    } catch (e: NumberFormatException) {\n",
    "        return 0.0\n",
    "    }\n",
    "}\n",
    "\n",
    "convertStringToDouble(\"d\")"
   ]
  },
  {
   "cell_type": "markdown",
   "id": "5e9d3e69",
   "metadata": {},
   "source": [
    "# The try-catch-finally statement"
   ]
  },
  {
   "cell_type": "code",
   "execution_count": 22,
   "id": "662fe850",
   "metadata": {},
   "outputs": [
    {
     "name": "stdout",
     "output_type": "stream",
     "text": [
      "stdin:sdg dasga\n",
      "Good luck!\n",
      "Don't lose the towel, traveler sdg dasga!"
     ]
    }
   ],
   "source": [
    "fun pepTalk(name: String) : String {\n",
    "    val array = name.split(\" \").toTypedArray()\n",
    "    val firstName = array[0]\n",
    "    val secondName = array[1]\n",
    "    return \"Don't lose the towel, traveler $firstName $secondName!\"\n",
    "}   \n",
    "// do not change the function above        \n",
    "\n",
    "    val name = readLine()!!\n",
    "    val advice = try {\n",
    "        pepTalk(name)\n",
    "    } catch (e: ArrayIndexOutOfBoundsException) {\n",
    "        \"Don't lose the towel, nameless one.\"\n",
    "    }\n",
    "    println(\"Good luck!\")\n",
    "    print(advice)"
   ]
  },
  {
   "cell_type": "code",
   "execution_count": 30,
   "id": "09982d65",
   "metadata": {},
   "outputs": [
    {
     "name": "stdout",
     "output_type": "stream",
     "text": [
      "For input string: \"nine\"\r\n"
     ]
    },
    {
     "data": {
      "text/plain": [
       "-1"
      ]
     },
     "execution_count": 30,
     "metadata": {},
     "output_type": "execute_result"
    }
   ],
   "source": [
    "fun calculateBrakingDistance(v1: String, a: String): Int {\n",
    "    return try {\n",
    "        -(v1.toInt() * v1.toInt()) / (2 * a.toInt())\n",
    "    } catch (e: ArithmeticException) {\n",
    "        println(\"The car does not slow down!\")\n",
    "        -1\n",
    "    } catch (e: NumberFormatException) {\n",
    "        println(e.message)\n",
    "        -1\n",
    "    }\n",
    "}\n",
    "\n",
    "calculateBrakingDistance(\"nine\", \"one\")"
   ]
  },
  {
   "cell_type": "code",
   "execution_count": 36,
   "id": "4853a47b",
   "metadata": {
    "scrolled": true
   },
   "outputs": [
    {
     "name": "stdout",
     "output_type": "stream",
     "text": [
      "stdin:burgir\n",
      "The answer is a number\n",
      "42\n"
     ]
    }
   ],
   "source": [
    "    val answer : Int = try { readLine()!!.toInt() } catch (e: Exception){ 42 }\n",
    "        finally { println(\"The answer is a number\") }   \n",
    "    println(answer)"
   ]
  },
  {
   "cell_type": "markdown",
   "id": "306372a3",
   "metadata": {},
   "source": [
    "#  Jumps and returns"
   ]
  },
  {
   "cell_type": "code",
   "execution_count": 2,
   "id": "23330240",
   "metadata": {},
   "outputs": [
    {
     "name": "stdout",
     "output_type": "stream",
     "text": [
      "Before the loop\r\n",
      "1\r\n",
      "2\r\n",
      "After the loop\r\n"
     ]
    }
   ],
   "source": [
    "println(\"Before the loop\")  \n",
    "for (i in 1..10) {  \n",
    "    if (i == 3) {  \n",
    "        break  \n",
    "    }  \n",
    "    println(i)  \n",
    "}  \n",
    "println(\"After the loop\")  "
   ]
  },
  {
   "cell_type": "code",
   "execution_count": 8,
   "id": "b619c77d",
   "metadata": {},
   "outputs": [
    {
     "name": "stdout",
     "output_type": "stream",
     "text": [
      "i = 1, j = 1, k = 1\r\n",
      "i = 1, j = 1, k = 2\r\n",
      "i = 1, j = 1, k = 3\r\n"
     ]
    }
   ],
   "source": [
    "loop@ for (i in 1..3) {\n",
    "    for (j in 1..3) {\n",
    "        for (k in 1..3) {\n",
    "            println(\"i = $i, j = $j, k = $k\")\n",
    "            if (k == 3) break@loop\n",
    "        }\n",
    "    }\n",
    "}"
   ]
  },
  {
   "cell_type": "code",
   "execution_count": 11,
   "id": "4151de54",
   "metadata": {},
   "outputs": [
    {
     "name": "stdout",
     "output_type": "stream",
     "text": [
      "1122"
     ]
    }
   ],
   "source": [
    "fun myin() {\n",
    "    for (i in 1..3) {\n",
    "        if (i == 1)\n",
    "            continue\n",
    "        print(1)\n",
    "        loop@ for (j in 1..2) {\n",
    "            for (k in 1..2) {\n",
    "                if (i == 2 || j == 3) break@loop\n",
    "                print(2)\n",
    "            }\n",
    "            if (j == 1) return\n",
    "            print(3)\n",
    "        }\n",
    "    }\n",
    "}\n",
    "\n",
    "myin()"
   ]
  },
  {
   "cell_type": "code",
   "execution_count": 46,
   "id": "efd5140c",
   "metadata": {},
   "outputs": [
    {
     "name": "stdout",
     "output_type": "stream",
     "text": [
      "stdin:hello\n",
      "abcdfgijkmnpqrstuvwxyz"
     ]
    }
   ],
   "source": [
    "    var result = \"abcdefghijklmnopqrstuvwxyz\"\n",
    "    val input = readLine()!!\n",
    "    for (letter in input) result = result.replace(letter.toString(), \"\")\n",
    "    print(result)"
   ]
  },
  {
   "cell_type": "code",
   "execution_count": 3,
   "id": "c294d681",
   "metadata": {},
   "outputs": [
    {
     "name": "stdout",
     "output_type": "stream",
     "text": [
      "stdin:z\n",
      "abcdefghijklmnopqrstuvwxy"
     ]
    }
   ],
   "source": [
    "    val a = readLine()!!.first()\n",
    "    for (c in 'a'..'z') print(if (c == a) break else c)"
   ]
  },
  {
   "cell_type": "markdown",
   "id": "85354f34",
   "metadata": {},
   "source": [
    "# Getting substrings"
   ]
  },
  {
   "cell_type": "code",
   "execution_count": 5,
   "id": "c04978e2",
   "metadata": {},
   "outputs": [
    {
     "name": "stdout",
     "output_type": "stream",
     "text": [
      "bai\r\n"
     ]
    }
   ],
   "source": [
    "var example = \"Good morning\"    \n",
    "example = example.replace(\"morning\", \"bye\")\n",
    "example = \"bai\"\n",
    "println(example)"
   ]
  },
  {
   "cell_type": "code",
   "execution_count": 1,
   "id": "386ce6a8",
   "metadata": {},
   "outputs": [
    {
     "data": {
      "text/plain": [
       "GOOoD"
      ]
     },
     "execution_count": 1,
     "metadata": {},
     "output_type": "execute_result"
    }
   ],
   "source": [
    "val a = \"GooD\"\n",
    "a.substringBefore('o') + \"OO\" + a.substringAfter('o')"
   ]
  },
  {
   "cell_type": "code",
   "execution_count": 11,
   "id": "93b8efff",
   "metadata": {},
   "outputs": [
    {
     "data": {
      "text/plain": [
       "true"
      ]
     },
     "execution_count": 11,
     "metadata": {},
     "output_type": "execute_result"
    }
   ],
   "source": [
    "val example = \"Example\"\n",
    "example.substring(3, 7) == example.substring(3)"
   ]
  },
  {
   "cell_type": "code",
   "execution_count": 14,
   "id": "300530d3",
   "metadata": {},
   "outputs": [
    {
     "data": {
      "text/plain": [
       "Kotlin is a language"
      ]
     },
     "execution_count": 14,
     "metadata": {},
     "output_type": "execute_result"
    }
   ],
   "source": [
    "val example = \"Kotlin is a language\"\n",
    "example.replace(\" language\", \"n island\")\n",
    "example"
   ]
  },
  {
   "cell_type": "code",
   "execution_count": 17,
   "id": "cb534292",
   "metadata": {},
   "outputs": [
    {
     "name": "stdout",
     "output_type": "stream",
     "text": [
      "stdin:OIUoiuoO\n",
      "stdin:oiuOIUOo\n"
     ]
    },
    {
     "data": {
      "text/plain": [
       "true"
      ]
     },
     "execution_count": 17,
     "metadata": {},
     "output_type": "execute_result"
    }
   ],
   "source": [
    "readLine()!!.lowercase() == readLine()!!.lowercase()"
   ]
  },
  {
   "cell_type": "code",
   "execution_count": 18,
   "id": "0e91dea3",
   "metadata": {},
   "outputs": [
    {
     "name": "stdout",
     "output_type": "stream",
     "text": [
      "stdin:abcd\n",
      "dbca"
     ]
    }
   ],
   "source": [
    "    val str = readLine()!!\n",
    "    print(str.substring(str.length - 1) + str.substring(1, str.length - 1) + str.substring(0, 1))"
   ]
  },
  {
   "cell_type": "markdown",
   "id": "1d14072e",
   "metadata": {},
   "source": [
    "#  Processing strings"
   ]
  },
  {
   "cell_type": "code",
   "execution_count": 3,
   "id": "368de03a",
   "metadata": {},
   "outputs": [
    {
     "data": {
      "text/plain": [
       " abcda"
      ]
     },
     "execution_count": 3,
     "metadata": {},
     "output_type": "execute_result"
    }
   ],
   "source": [
    "val str1 = \"aaabbcccdaa\"\n",
    "var str2 = \" \"\n",
    "\n",
    "for (ch in str1) {\n",
    "    if (ch != str2.last()) {\n",
    "        str2 += ch\n",
    "    }\n",
    "}\n",
    "str2"
   ]
  },
  {
   "cell_type": "code",
   "execution_count": 9,
   "id": "c34364ec",
   "metadata": {
    "scrolled": true
   },
   "outputs": [
    {
     "name": "stdout",
     "output_type": "stream",
     "text": [
      "stdin:3 3 3 12\n",
      "WMWrqr585!@!"
     ]
    }
   ],
   "source": [
    "    val input = readLine()!!.split(\" \").map { it.toInt() }.toMutableList()\n",
    "    while (input[0] > 0) {\n",
    "        print(if (input[3] % 2 == 0) \"W\" else \"M\")\n",
    "        input[0]--\n",
    "        input[3]--\n",
    "    }\n",
    "    while (input[1] > 0) {\n",
    "        print(if (input[3] % 2 == 0) \"q\" else \"r\")\n",
    "        input[1]--\n",
    "        input[3]--\n",
    "    }\n",
    "    while (input[2] > 0) {\n",
    "        print(if (input[3] % 2 == 0) \"5\" else \"8\")\n",
    "        input[2]--\n",
    "        input[3]--\n",
    "    }\n",
    "    while (input[3] > 0) {\n",
    "        print(if (input[3] % 2 == 0) \"@\" else \"!\")\n",
    "        input[3]--\n",
    "    }"
   ]
  },
  {
   "cell_type": "code",
   "execution_count": 36,
   "id": "3bffe147",
   "metadata": {
    "scrolled": true
   },
   "outputs": [
    {
     "name": "stdout",
     "output_type": "stream",
     "text": [
      "stdin:biiiiig\n",
      "2"
     ]
    }
   ],
   "source": [
    "val BADROW = 3\n",
    "\n",
    "fun isVova(letter: Char) = when (letter) {\n",
    "    'a', 'o', 'y', 'e', 'u', 'i' -> true\n",
    "    else -> false\n",
    "}\n",
    "\n",
    "    val word = readLine()!!\n",
    "    var vova = isVova(word[0])\n",
    "    var bad = 0\n",
    "    var result = 0\n",
    "    for (letter in word) {\n",
    "        if (isVova(letter)) {\n",
    "            if (vova) {\n",
    "                bad++\n",
    "            } else {\n",
    "                bad = 1\n",
    "                vova = true\n",
    "            }\n",
    "        } else {\n",
    "            if (vova) {\n",
    "                bad = 1\n",
    "                vova = false\n",
    "            } else {\n",
    "                bad++\n",
    "            }\n",
    "        }\n",
    "        if (bad == BADROW) {\n",
    "            bad = 1\n",
    "            result++\n",
    "        }\n",
    "    }\n",
    "    print(result)"
   ]
  },
  {
   "cell_type": "code",
   "execution_count": 40,
   "id": "f3e63591",
   "metadata": {},
   "outputs": [
    {
     "name": "stdout",
     "output_type": "stream",
     "text": [
      "stdin:Hello 3\n",
      "loHel"
     ]
    }
   ],
   "source": [
    "    val input = readLine()!!.split(\" \").map { it }.toMutableList()\n",
    "    val n = input[1].toInt()\n",
    "    if (n >= input[0].length) {\n",
    "        print(input[0])\n",
    "    } else {\n",
    "        print(input[0].substring(n, input[0].length) + input[0].substring(0, n))\n",
    "    }"
   ]
  },
  {
   "cell_type": "code",
   "execution_count": null,
   "id": "3be5264d",
   "metadata": {},
   "outputs": [],
   "source": [
    "fun r(value: Int, context: Any): Unit {\n",
    "    println(value)\n",
    "    print(context)\n",
    "}\n",
    "\n",
    "fun square(value: Int, context: Any, continuation: (Int, Any) -> Unit) {\n",
    "    return continuation(Math.sqrt(value.toDouble()), context)\n",
    "}\n",
    "\n",
    "square(4, \"Hello\", r(9, \"Bye\"))"
   ]
  },
  {
   "cell_type": "code",
   "execution_count": 8,
   "id": "99f0cbc6",
   "metadata": {
    "scrolled": true
   },
   "outputs": [
    {
     "name": "stdout",
     "output_type": "stream",
     "text": [
      "stdin:123456\n",
      "Regular"
     ]
    }
   ],
   "source": [
    "    val n = readLine()!!\n",
    "    var a = 0\n",
    "    var b = 0\n",
    "    for (digit in 0..5) {\n",
    "        if (digit < 3) {\n",
    "            a += n[digit] - '0'\n",
    "        } else {\n",
    "            b += n[digit] - '0'\n",
    "        }\n",
    "    }\n",
    "    print(if (a == b) \"Lucky\" else \"Regular\")"
   ]
  },
  {
   "cell_type": "code",
   "execution_count": 4,
   "id": "74d6e72b",
   "metadata": {},
   "outputs": [
    {
     "name": "stdout",
     "output_type": "stream",
     "text": [
      "stdin:helloy yelloy ullebok\n",
      "stdin:ll\n",
      "3"
     ]
    }
   ],
   "source": [
    "    val string = readLine()!!\n",
    "    val toFind = readLine()!!\n",
    "    val lWas = string.length\n",
    "    val lOfFind = toFind.length\n",
    "    val withoutFind = string.replace(toFind, \"\")\n",
    "    print((lWas - withoutFind.length) / lOfFind)"
   ]
  },
  {
   "cell_type": "code",
   "execution_count": 5,
   "id": "b8d955aa",
   "metadata": {},
   "outputs": [
    {
     "name": "stdout",
     "output_type": "stream",
     "text": [
      "stdin:GGaa\n",
      "50.0"
     ]
    }
   ],
   "source": [
    "    val rna = readLine()!!.lowercase()\n",
    "    var result = 0.0\n",
    "    for (content in rna) {\n",
    "        if (content == 'g' || content == 'c') {\n",
    "            result++\n",
    "        }\n",
    "    }\n",
    "    print(result * 100 / rna.length)"
   ]
  },
  {
   "cell_type": "code",
   "execution_count": 6,
   "id": "5640fbe3",
   "metadata": {},
   "outputs": [
    {
     "name": "stdout",
     "output_type": "stream",
     "text": [
      "stdin:12\n"
     ]
    }
   ],
   "source": [
    "    val str = readLine()!!.split(\"\").map { it }.toMutableList()\n",
    "    str.removeAt(str.size / 2)\n",
    "    if (str.size % 2 != 0) {\n",
    "        str.removeAt(str.size / 2)\n",
    "    }\n",
    "    print(str.joinToString(\"\"))"
   ]
  },
  {
   "cell_type": "markdown",
   "id": "b7851af7",
   "metadata": {},
   "source": [
    "# Functions as objects"
   ]
  },
  {
   "cell_type": "code",
   "execution_count": 3,
   "id": "5072d4c9",
   "metadata": {},
   "outputs": [
    {
     "name": "stdout",
     "output_type": "stream",
     "text": [
      "16\r\n",
      "Hello"
     ]
    }
   ],
   "source": [
    "fun f(value: Int, context: Any): Unit {\n",
    "    println(value)\n",
    "    print(context)\n",
    "}\n",
    "\n",
    "fun square(value: Int, context: Any, continuation: (Int, Any) -> Unit) {\n",
    "    continuation(value * value, context)\n",
    "}\n",
    "\n",
    "square(4, \"Hello\", ::f)"
   ]
  },
  {
   "cell_type": "code",
   "execution_count": 13,
   "id": "8317cb9c",
   "metadata": {},
   "outputs": [
    {
     "data": {
      "text/plain": [
       "1"
      ]
     },
     "execution_count": 13,
     "metadata": {},
     "output_type": "execute_result"
    }
   ],
   "source": [
    "fun identity(a: Int)= a\n",
    "\n",
    "fun half(a: Int)= a / 2\n",
    "\n",
    "fun zero(a: Int)= 0\n",
    "\n",
    "fun generate(functionName: String): (Int) -> Int {\n",
    "    return if (functionName == \"identity\") ::identity else if (functionName == \"half\") ::half else ::zero\n",
    "}\n",
    "\n",
    "generate(\"identity\")(1)"
   ]
  },
  {
   "cell_type": "markdown",
   "id": "1d9c8596",
   "metadata": {},
   "source": [
    "# Lambda expressions"
   ]
  },
  {
   "cell_type": "code",
   "execution_count": 1,
   "id": "5f88314a",
   "metadata": {},
   "outputs": [
    {
     "data": {
      "text/plain": [
       "720"
      ]
     },
     "execution_count": 1,
     "metadata": {},
     "output_type": "execute_result"
    }
   ],
   "source": [
    "    val lambda: (Long, Long) -> Long = {\n",
    "        a, b -> \n",
    "        var result = b\n",
    "        for (i in a until b) result *= i\n",
    "        \n",
    "        result\n",
    "    }\n",
    "    lambda(2, 6)"
   ]
  },
  {
   "cell_type": "code",
   "execution_count": 3,
   "id": "d62320db",
   "metadata": {},
   "outputs": [
    {
     "name": "stdout",
     "output_type": "stream",
     "text": [
      "1\r\n",
      "2\r\n",
      "fizz\r\n",
      "4\r\n",
      "buzz\r\n",
      "fizz\r\n",
      "7\r\n",
      "8\r\n",
      "fizz\r\n",
      "buzz\r\n",
      "11\r\n",
      "fizz\r\n",
      "13\r\n",
      "14\r\n",
      "fizzbuzz\r\n",
      "16\r\n"
     ]
    }
   ],
   "source": [
    "fun fizzbuzz(from: Int, to: Int, transformation: (Int) -> String) {\n",
    "    for (number in from..to) {\n",
    "        println(transformation(number))\n",
    "    }\n",
    "}\n",
    "\n",
    "    fizzbuzz(1, 16) { number ->\n",
    "        if (number % 15 == 0) {\n",
    "            return@fizzbuzz \"fizzbuzz\"\n",
    "        }\n",
    "        if (number % 3 == 0) {\n",
    "            return@fizzbuzz \"fizz\"\n",
    "        }\n",
    "        if (number % 5 == 0) {\n",
    "            return@fizzbuzz \"buzz\"\n",
    "        }\n",
    "        return@fizzbuzz number.toString()\n",
    "    }\n"
   ]
  },
  {
   "cell_type": "code",
   "execution_count": 10,
   "id": "639cdb4a",
   "metadata": {},
   "outputs": [
    {
     "data": {
      "text/plain": [
       "48"
      ]
     },
     "execution_count": 10,
     "metadata": {},
     "output_type": "execute_result"
    }
   ],
   "source": [
    "fun a(x: Int) = 3 * x\n",
    "\n",
    "fun b(x: Int) = x * x\n",
    "\n",
    "fun compose(g: (Int) -> Int, h: (Int) -> Int): (Int) -> Int {\n",
    "    return {x -> g(h(x))}\n",
    "}\n",
    "\n",
    "compose(::a, ::b)(4)"
   ]
  },
  {
   "cell_type": "code",
   "execution_count": 13,
   "id": "1e07beb6",
   "metadata": {},
   "outputs": [
    {
     "data": {
      "text/plain": [
       "22"
      ]
     },
     "execution_count": 13,
     "metadata": {},
     "output_type": "execute_result"
    }
   ],
   "source": [
    "    val a = 1\n",
    "    val b = 4\n",
    "    val c = 10\n",
    "    val lambda: (Int) -> Int = { a * it * it + b * it + c }\n",
    "    lambda(2)"
   ]
  },
  {
   "cell_type": "code",
   "execution_count": 15,
   "id": "8ee321db",
   "metadata": {},
   "outputs": [
    {
     "data": {
      "text/plain": [
       "0"
      ]
     },
     "execution_count": 15,
     "metadata": {},
     "output_type": "execute_result"
    }
   ],
   "source": [
    "var counter: () -> Int = { -42 }\n",
    "\n",
    "fun reinitializeCounter(): Int {\n",
    "    var value = 0\n",
    "    counter = { ++value }\n",
    "    return value\n",
    "}\n",
    "\n",
    "reinitializeCounter()"
   ]
  },
  {
   "cell_type": "code",
   "execution_count": 16,
   "id": "49aa7049",
   "metadata": {},
   "outputs": [
    {
     "data": {
      "text/plain": [
       "6"
      ]
     },
     "execution_count": 16,
     "metadata": {},
     "output_type": "execute_result"
    }
   ],
   "source": [
    "    val lambda: (Int, Int) -> Int = { a, b -> Math.max(a, b) }\n",
    "    lambda(6, 4)"
   ]
  },
  {
   "cell_type": "code",
   "execution_count": 18,
   "id": "71389c7d",
   "metadata": {},
   "outputs": [
    {
     "data": {
      "text/plain": [
       "true"
      ]
     },
     "execution_count": 18,
     "metadata": {},
     "output_type": "execute_result"
    }
   ],
   "source": [
    "    val originalPredicate: (Char) -> Boolean = {it=='x'}\n",
    "    \n",
    "    val notPredicate: (Char) -> Boolean = { it -> !(originalPedicate(it)) }\n",
    "    \n",
    "    notPredicate('a')"
   ]
  },
  {
   "cell_type": "markdown",
   "id": "fed0e23c",
   "metadata": {},
   "source": [
    "# Bitwise and bit-shift operations"
   ]
  },
  {
   "cell_type": "code",
   "execution_count": 12,
   "id": "662f156a",
   "metadata": {
    "scrolled": false
   },
   "outputs": [
    {
     "name": "stdout",
     "output_type": "stream",
     "text": [
      "stdin:4 65 65\n",
      "4"
     ]
    }
   ],
   "source": [
    "    val (a, b, c) = readLine()!!.split(\" \").map { it.toInt() }\n",
    "    print(if (a xor b == 0) c else if (a xor c == 0) b else a)"
   ]
  },
  {
   "cell_type": "markdown",
   "id": "25eb4280",
   "metadata": {},
   "source": [
    "# Arrays"
   ]
  },
  {
   "cell_type": "code",
   "execution_count": 16,
   "id": "3f615910",
   "metadata": {},
   "outputs": [
    {
     "name": "stdout",
     "output_type": "stream",
     "text": [
      "stdin:32 5 65 76 234\n",
      "234 5 65 76 32\n"
     ]
    }
   ],
   "source": [
    "    val numbers = readLine()!!.split(' ').map { it.toInt() }.toIntArray()\n",
    "    // Do not touch lines above\n",
    "    val mem = numbers[0]\n",
    "    numbers[0] = numbers[numbers.lastIndex]\n",
    "    numbers[numbers.lastIndex] = mem\n",
    "    // Do not touch lines below\n",
    "    println(numbers.joinToString(separator = \" \"))"
   ]
  },
  {
   "cell_type": "code",
   "execution_count": 18,
   "id": "f1f959e8",
   "metadata": {},
   "outputs": [
    {
     "name": "stdout",
     "output_type": "stream",
     "text": [
      "1, 0, 0, 0, 0, 0, 0, 0, 0, 10, 0, 0, 0, 0, 0, 0, 0, 0, 0, 0, 0, 0, 0, 0, 0, 0, 0, 0, 0, 0, 0, 0, 0, 0, 0, 0, 0, 0, 0, 0, 0, 0, 0, 0, 0, 0, 0, 0, 0, 0, 0, 0, 0, 0, 0, 0, 0, 0, 0, 0, 0, 0, 0, 0, 0, 0, 0, 0, 0, 0, 0, 0, 0, 0, 0, 0, 0, 0, 0, 0, 0, 0, 0, 0, 0, 0, 0, 0, 0, 0, 0, 0, 0, 0, 0, 0, 0, 0, 0, 100\r\n"
     ]
    }
   ],
   "source": [
    "    val numbers = IntArray(100) { 0 }\n",
    "    numbers[0] = 1\n",
    "    numbers[9] = 10\n",
    "    numbers[99] = 100\n",
    "    // do not touch the lines below\n",
    "    println(numbers.joinToString())"
   ]
  },
  {
   "cell_type": "code",
   "execution_count": 20,
   "id": "31d14d83",
   "metadata": {},
   "outputs": [
    {
     "data": {
      "text/plain": [
       "[0, 0, 0]"
      ]
     },
     "execution_count": 20,
     "metadata": {},
     "output_type": "execute_result"
    }
   ],
   "source": [
    "val array = IntArray(3)\n",
    "array"
   ]
  },
  {
   "cell_type": "markdown",
   "id": "9c579bdd",
   "metadata": {},
   "source": [
    "#  String arrays"
   ]
  },
  {
   "cell_type": "code",
   "execution_count": 1,
   "id": "e60dc1be",
   "metadata": {},
   "outputs": [
    {
     "data": {
      "text/plain": [
       "[string, another]"
      ]
     },
     "execution_count": 1,
     "metadata": {},
     "output_type": "execute_result"
    }
   ],
   "source": [
    "val list = mutableListOf(\"string\")\n",
    "list.add(\"another\")\n",
    "list"
   ]
  },
  {
   "cell_type": "code",
   "execution_count": 8,
   "id": "449bb2e7",
   "metadata": {
    "scrolled": true
   },
   "outputs": [
    {
     "name": "stderr",
     "output_type": "stream",
     "text": [
      "Line_360.jupyter-kts (2:1 - 4) Val cannot be reassigned"
     ]
    }
   ],
   "source": [
    "val arr = arrayOf(\"stringer\")\n",
    "arr += \"other\""
   ]
  },
  {
   "cell_type": "code",
   "execution_count": 9,
   "id": "83e04f1c",
   "metadata": {},
   "outputs": [
    {
     "data": {
      "text/plain": [
       "[Tokyo, Moscow, Paris, Washington, Beijing]"
      ]
     },
     "execution_count": 9,
     "metadata": {},
     "output_type": "execute_result"
    }
   ],
   "source": [
    "val capitals = arrayOf(\"Tokyo\", \"Moscow\", \"Paris\", \"Washington\", \"Beijing\")\n",
    "capitals"
   ]
  },
  {
   "cell_type": "code",
   "execution_count": 10,
   "id": "10c7f192",
   "metadata": {},
   "outputs": [
    {
     "data": {
      "text/plain": [
       "[]"
      ]
     },
     "execution_count": 10,
     "metadata": {},
     "output_type": "execute_result"
    }
   ],
   "source": [
    "    val myEmptyArray = emptyArray<String>()\n",
    "myEmptyArray"
   ]
  },
  {
   "cell_type": "code",
   "execution_count": 17,
   "id": "cccaec54",
   "metadata": {},
   "outputs": [
    {
     "name": "stdout",
     "output_type": "stream",
     "text": [
      "stdin:123,324\n",
      "stdin:324\n",
      "123, 324, 324"
     ]
    }
   ],
   "source": [
    "    var backFromTheWall = readLine()!!.split(',').map { it }.toTypedArray()\n",
    "    val returnedWatchman = readLine()!!.toString()  \n",
    "    // do not touch the lines above\n",
    "    backFromTheWall += returnedWatchman\n",
    "    print(backFromTheWall.joinToString(\", \"))"
   ]
  },
  {
   "cell_type": "code",
   "execution_count": 19,
   "id": "a1a729ea",
   "metadata": {
    "scrolled": true
   },
   "outputs": [
    {
     "name": "stdout",
     "output_type": "stream",
     "text": [
      "stdin:12,23\n",
      "stdin:12,23\n",
      "true"
     ]
    }
   ],
   "source": [
    "    val beyondTheWall = readLine()!!.split(',').map { it }.toTypedArray()\n",
    "    val backFromTheWall = readLine()!!.split(',').map { it }.toTypedArray()    \n",
    "    // do not touch the lines above\n",
    "    print(beyondTheWall.contentEquals(backFromTheWall))"
   ]
  },
  {
   "cell_type": "code",
   "execution_count": 3,
   "id": "029656df",
   "metadata": {},
   "outputs": [
    {
     "name": "stdout",
     "output_type": "stream",
     "text": [
      "stdin:1 2 3\n",
      "stdin:4 5 6\n",
      "1, 2, 3, 4, 5, 6"
     ]
    }
   ],
   "source": [
    "    val firstArray = readLine()!!.split(' ').map { it }.toTypedArray()\n",
    "    val secondArray = readLine()!!.split(' ').map { it }.toTypedArray()\n",
    "    // do not touch the lines above\n",
    "    print(\"${firstArray.joinToString(\", \")}, ${secondArray.joinToString(\", \")}\")"
   ]
  },
  {
   "cell_type": "markdown",
   "id": "97fa61e5",
   "metadata": {},
   "source": [
    "#  Multi-dimensional array"
   ]
  },
  {
   "cell_type": "code",
   "execution_count": 2,
   "id": "1fe071b6",
   "metadata": {},
   "outputs": [
    {
     "name": "stdout",
     "output_type": "stream",
     "text": [
      "stdin:4\n",
      "stdin:1 2 3\n",
      "stdin:4 5 6\n",
      "stdin:7 8 9\n",
      "stdin:10 11 12\n",
      "7, 8, 9"
     ]
    }
   ],
   "source": [
    "    var inputArray: Array<Array<String>> = arrayOf()\n",
    "    val n = readLine()!!.toInt()\n",
    "    for (i in 0 until n) {\n",
    "        val strings = readLine()!!.split(' ').toTypedArray()\n",
    "        inputArray += strings\n",
    "    }\n",
    "    // Do not change lines above\n",
    "    print(inputArray[2].joinToString(\", \"))"
   ]
  },
  {
   "cell_type": "code",
   "execution_count": 3,
   "id": "b2118f75",
   "metadata": {
    "scrolled": false
   },
   "outputs": [
    {
     "name": "stdout",
     "output_type": "stream",
     "text": [
      "stdin:3\n",
      "stdin:M a g i c\n",
      "stdin:i s\n",
      "stdin:b a b a b o y\n",
      "[[b, a, b, a, b, o, y], [M, a, g, i, c]]"
     ]
    }
   ],
   "source": [
    "    //Do not touch code below\n",
    "    var inputArray: Array<Array<String>> = arrayOf()\n",
    "    val n = readLine()!!.toInt()\n",
    "    for (i in 0 until n) {\n",
    "        val strings = readLine()!!.split(' ').toTypedArray()\n",
    "        inputArray += strings\n",
    "    }\n",
    "    val resultArray = arrayOf(inputArray[inputArray.lastIndex], inputArray[0])\n",
    "    print(resultArray.contentDeepToString())"
   ]
  },
  {
   "cell_type": "code",
   "execution_count": 2,
   "id": "22e9b55d",
   "metadata": {},
   "outputs": [
    {
     "name": "stdout",
     "output_type": "stream",
     "text": [
      "[[[0, 0, 0], [0, 0, 0], [0, 0, 0]], [[0, 0, 0], [0, 0, 0], [0, 0, 0]], [[0, 0, 0], [0, 0, 0], [0, 0, 0]]]"
     ]
    }
   ],
   "source": [
    "    val mutList3D = arrayOf(\n",
    "        arrayOf(Array<Int>(3) { 0 }, Array<Int>(3) { 0 }, Array<Int>(3) { 0 }),\n",
    "        arrayOf(Array<Int>(3) { 0 }, Array<Int>(3) { 0 }, Array<Int>(3) { 0 }),\n",
    "        arrayOf(Array<Int>(3) { 0 }, Array<Int>(3) { 0 }, Array<Int>(3) { 0 })\n",
    "    )\n",
    "    print(mutList3D.contentDeepToString())"
   ]
  },
  {
   "cell_type": "markdown",
   "id": "9f16688a",
   "metadata": {},
   "source": [
    "# Writing files"
   ]
  },
  {
   "cell_type": "code",
   "execution_count": 27,
   "id": "3510baf3",
   "metadata": {},
   "outputs": [],
   "source": [
    "import java.io.File"
   ]
  },
  {
   "cell_type": "code",
   "execution_count": 58,
   "id": "a6ceea55",
   "metadata": {},
   "outputs": [
    {
     "name": "stdout",
     "output_type": "stream",
     "text": [
      "stdin:324432\n"
     ]
    }
   ],
   "source": [
    "val text = readLine()!!\n",
    "val myFile = File(\"MyFile.txt\")\n",
    "myFile.writeText(text.repeat(2))"
   ]
  },
  {
   "cell_type": "markdown",
   "id": "78e9f349",
   "metadata": {},
   "source": [
    "# Image colors "
   ]
  },
  {
   "cell_type": "code",
   "execution_count": 60,
   "id": "ca0d9869",
   "metadata": {},
   "outputs": [],
   "source": [
    "import java.awt.Color"
   ]
  },
  {
   "cell_type": "code",
   "execution_count": 93,
   "id": "738fe5f0",
   "metadata": {},
   "outputs": [
    {
     "name": "stdout",
     "output_type": "stream",
     "text": [
      "stdin:123 231 222 232\n",
      "2078793448"
     ]
    }
   ],
   "source": [
    "fun printARGB() {\n",
    "    val parts = readLine()!!.split(\" \").map { it.toInt() }.toMutableList()\n",
    "    if ((Math.min(Math.min(parts[0], parts[1]), Math.min(parts[2], parts[3]))) < 0 || Math.max(Math.max(parts[0], parts[1]), Math.max(parts[2], parts[3])) > 255) {\n",
    "        print(\"Invalid input\")\n",
    "    } else {\n",
    "        val result = Color(parts[1], parts[2], parts[3], parts[0])\n",
    "        print(result.hashCode().toUInt())\n",
    "    }\n",
    "}\n",
    "\n",
    "printARGB()"
   ]
  },
  {
   "cell_type": "markdown",
   "id": "6d4cea2b",
   "metadata": {},
   "source": [
    "# Image libraries"
   ]
  },
  {
   "cell_type": "code",
   "execution_count": 95,
   "id": "8145b0d6",
   "metadata": {},
   "outputs": [],
   "source": [
    "import java.awt.Color\n",
    "import java.awt.image.BufferedImage"
   ]
  },
  {
   "cell_type": "code",
   "execution_count": 99,
   "id": "8aef5b7a",
   "metadata": {
    "scrolled": true
   },
   "outputs": [
    {
     "data": {
      "text/html": [
       "<img src=\"data:image/png;base64,iVBORw0KGgoAAAANSUhEUgAAAMgAAADICAIAAAAiOjnJAAAE3ElEQVR4Xu3SW2LbSAxEUe9/0zMZx8nIlkj1A0AXgHs+JbKJrsLHPx+AD3YLxv6uFLsFMz+Wid2CgZdr9PJHYNTNAt38Bdx5uzpvHwB+GlyawceA/0yty9TD6GthURZeQS/LK7L8IurbXI7N11GTyVqYHII6DBfC8CjkZr4K5gciH6clcDoWObjW73o4dAUUH/AJaAmrPOxDOC+47ODP4YwjNR/5KOIcLPjgp+HreLXHB4A9kVJFxoANqTqlhsE6wSIFR8Ic2QplB8N74uWJj4fXUtSWYkj8L1FhiUbtLl1V6QbuKGlJScfuInU9qYevrEAxBa5QTZlKylykgmJlFLtOViVrKHmpTAoXUPhq6spHX/6CipqE3uSaKlrF3eqyJzUMuuGVo7WNuO3FIzQPt/n1vRDrByGYI9C/iMIMUf5AIAYI8SVi2UJ8NwhnEcG9RUTTiGwQQU0grCnENYSYFhDaGwS0jOguEc0mAnyBUEwQ4zfEYYgwvxCEOSIlAi+tg219eX9N42167VjtQm534XMaRd3oqhpaBN7iknqKx178etrKhl/2YnkUrKDglXIqVUSpy+RXpI4i16glfSnpL1BX4moSj95DyoJSDt1PspqSjdtbmrLSDIo/ElSWYES8Il2c9HB4R7Q+0bEwQ65EuYGwSqhKoVFgQaJQiSFg7XCthz8PT8fKPfZhRDlQ8YFP4oTQokM/htOC6g76DJS4l+7+AahyrN7xaGTgsgAuhyIb4zUwPg6ZmS2D2UGowmAlDI5ARVuLsfUyqltcj8XX0Mn0kky/gK4mVmXiUWBwYYYeAr57szZv/gauXS7P5R/AmBcr9OInYN63RWKrYOhrndgq2GOrYO9zq1gtmHpYKHYLRp5W6ekHYNbFEl38DIy4XZ/bP4ErA4sz8AjwaHhlhh8EJpdl8nH0tLQmSy+hj40F2XgVtW2vxvYBqMdoKYyOQQ2m62B6GPJyWASHI5GL2wq4HQx9zuU7Hw9NIbWHfAQ6AgsP/BTOCq86/IOId6jkQ59FjKP1Hv04/AgUKzACbMlUKjMI9omVKTYO1kjWKDkUxgkXKDwa7slXJz8gniUpLcmY+C1VXamG7SxhUQlH7iZtRWkH7yB5OcnHr6pELSUuUUmhQgpdJbtyVZS7UEZFSyh6rSxKx1/6csoaBN/gimraRN7mogqahd3suqe0jLnlpSM1Drjx1b21j7Z9AB4I9RMxmCLOB4RhhCCfEMk2IrxAMBsI7xbxLCG2AYQ0icCGEdUwoppEYAMIaQmx3SKeDYR3gWC2EeETIjFCkA8IwxRxfiIGB+1DbR+An8bRNr56jJYBt7x0vGYxN7vuWW3CbnNRHQ0ib3BFTaWDL305fUXjL3qtXMqVUO5CeRWqotBVaihRSIlL1JO8luTj15a2nLSD95GwooQj95SqqFTDIkldScbEI/nS5AfEFeHqhEfDCMkCJYfCLLEaxcbBDpkyZQaBFYFKBUaAh6PFHv04vB2q99BnESm85PAP4pTAqgM/BQUhhYd8BGqca3c+Hsrcync7GFk4rIDDkcjIdBFMD0N2RutgdAwq2V6K7QNQ1cZqbLyKDpYWZOkldDO5JpOPo7PhZRl+EPhtYGUGHgGe3S7O7Z/AvYv1ufgZGPe0RE8/AGseVomtgqlfC/Uv7b+Mgnu5CyAAAAAASUVORK5CYII=\"/>"
      ]
     },
     "execution_count": 99,
     "metadata": {},
     "output_type": "execute_result"
    }
   ],
   "source": [
    "fun drawLines(): BufferedImage {\n",
    "    val image = BufferedImage(200, 200, BufferedImage.TYPE_INT_RGB)\n",
    "    val graphics = image.createGraphics()\n",
    "    graphics.color = Color.red\n",
    "    graphics.drawLine(0, 0, 200, 200)\n",
    "    graphics.color = Color.green\n",
    "    graphics.drawLine(0, 200, 200, 0)\n",
    "    return image\n",
    "}\n",
    "\n",
    "drawLines()"
   ]
  },
  {
   "cell_type": "code",
   "execution_count": 102,
   "id": "75c32874",
   "metadata": {
    "scrolled": true
   },
   "outputs": [
    {
     "data": {
      "text/html": [
       "<img src=\"data:image/png;base64,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\"/>"
      ]
     },
     "execution_count": 102,
     "metadata": {},
     "output_type": "execute_result"
    }
   ],
   "source": [
    "fun drawCircles(): BufferedImage {\n",
    "    val image = BufferedImage(200, 200, BufferedImage.TYPE_INT_RGB)\n",
    "    val graphics = image.createGraphics()\n",
    "    graphics.color = Color.red\n",
    "    graphics.drawOval(50, 50, 100, 100)\n",
    "    graphics.color = Color.yellow\n",
    "    graphics.drawOval(50, 75, 100, 100)\n",
    "    graphics.color = Color.green\n",
    "    graphics.drawOval(75, 50, 100, 100)\n",
    "    graphics.color = Color.blue\n",
    "    graphics.drawOval(75, 75, 100, 100)\n",
    "    return image\n",
    "}\n",
    "\n",
    "drawCircles()"
   ]
  },
  {
   "cell_type": "code",
   "execution_count": 104,
   "id": "d1ae0a8f",
   "metadata": {},
   "outputs": [
    {
     "data": {
      "text/html": [
       "<img src=\"data:image/png;base64,iVBORw0KGgoAAAANSUhEUgAAAMgAAADICAIAAAAiOjnJAAAB9UlEQVR4Xu3VCU7EMAwFUO5/6UE0qeNsZZkFId5Tq0ntnxQllXh7AwAAAAAAAAAAAAAAAAAAAAAAAAAAAAAA2LqNhUUli+51bPbd/GP97tv/o48d73d9rmTRvY6tfTf/OD/5a7nHueNt13Pldl5z9zo2O7vHxD4/z10uGJVcv0gOsbh5hXnHo1JL/Sl13X1sFi+JQcl30yMZlVWxW+oy2RVjGi8QOx4HkSvzKU3ddWw25UvsyHfTIx2Vfkabsn71ZbE2eLq243EK51lEKx/OxWC4B6v8blzmr98b3VzMydos3Wr4mnm+tOPj1VpRW31PLdbfg0/zXaCM49rMag8pWWa3Yn0YujzZvOOLY0vX3M0r5HvwaX4KlJ965e6UbLFarKJ4PsWYZ0tns6ocg9prhbO4jeXTrZYTd3c3+ELxGNVCGdTIEGgJXiAOaV0ZT6l197F5yaN8VnN7Ny4L1mpXPJfoky28KUaHF5p3PVfKEQ2VYVDGNZbv3m7iblwe63/A4+H4HRdP/aviEOAvGs/+bvGd1FUfujh/ysPPfvy4AAAAAAAAAAAAAAAAAAAAAAAAAAAAAAAAAAAAAAAAAAAAAAAAAAAAAAAAAAAAAAAAAAAAAAAAAAAAAAAAAAAAAAAAAAAAAAAAAAAAAAAAAAAAAAAAANh4Bx+u+BZGHyPfAAAAAElFTkSuQmCC\"/>"
      ]
     },
     "execution_count": 104,
     "metadata": {},
     "output_type": "execute_result"
    }
   ],
   "source": [
    "fun drawStrings(): BufferedImage {\n",
    "    val image = BufferedImage(200, 200, BufferedImage.TYPE_INT_RGB)\n",
    "    val graphics = image.createGraphics()\n",
    "    val text = \"Hello, images!\"\n",
    "    graphics.color = Color.red\n",
    "    graphics.drawString(text, 50, 50)\n",
    "    graphics.color = Color.green\n",
    "    graphics.drawString(text, 51, 51)\n",
    "    graphics.color = Color.blue\n",
    "    graphics.drawString(text, 52, 52)\n",
    "    return image\n",
    "}\n",
    "\n",
    "drawStrings()"
   ]
  },
  {
   "cell_type": "code",
   "execution_count": 105,
   "id": "b7c1b9d6",
   "metadata": {},
   "outputs": [
    {
     "data": {
      "text/html": [
       "<img src=\"data:image/png;base64,iVBORw0KGgoAAAANSUhEUgAAAfQAAAH0CAIAAABEtEjdAAAHt0lEQVR4Xu3TsQ3AMADDsPz/dPpBpxoaSsInWOcAAAAAAAAAAAAAAAAAAAAAAAAAAAAAAAAAAAAAAAAAAAAAAAAAAAAAAAAAAAAAAAAAAAAAAAAAAAAAAAAAAAAAAAAAAAAAAAAAAAAAAAAAAAAAAAAAAAAAAAAAAAAAAAAAAAAAAAAAAAAAAAAAAAAAAAAAAAAAAAAAAAAAAAAAAAAAAAAAAAAAAAAAAAAAAAAAwA9dM6sH33MsaGmQCceClgaZcCxoaZAJx4KWBplwLGhpkAnHgpYGmXAsaGmQCceClgaZcCxoaZAJx4KWBplwLGhpkAnHgpYGmXAsaGmQCceClgaZcCxoaZAJx4KWBplwLGhpkAnHgpYGmXAsaGmQCceClgaZcCxoaZAJx4KWBplwLGhpkAnHgpYGmXAsaGmQCceClgaZcCxoaZAJx4KWBplwLGhpkAnHgpYGmXAsaGmQCceClgaZcCxoaZAJx4KWBplwLGhpkAnHgpYGmXAsaGmQCceClgaZcCxoaZAJx4KWBplwLGhpkAnHgpYGmXAsaGmQCceClgaZcCxoaZAJx4KWBplwLGhpkAnHgpYGmXAsaGmQCceClgaZcCxoaZAJx4KWBplwLGhpkAnHgpYGmXAsaGmQCceClgaZcCxoaZAJx4KWBplwLGhpkAnHgpYGmXAsaGmQCceClgaZcCxoaZAJx4KWBplwLGhpkAnHgpYGmXAsaGmQCceClgaZcCxoaZAJx4KWBplwLGhpkAnHgpYGmXAsaGmQCceClgaZcCxoaZAJx4KWBplwLGhpkAnHgpYGmXAsaGmQCceClgaZcCxoaZAJx4KWBplwLGhpkAnHgpYGmXAsaGmQCceClgaZcCxoaZAJx4KWBplwLGhpkAnHgpYGmXAsaGmQCceClgaZcCxoaZAJx4KWBplwLGhpkAnHgpYGmXAsaGmQCceClgaZcCxoaZAJx4KWBplwLGhpkAnHgpYGmXAsaGmQCceClgaZcCxoaZAJx4KWBplwLGhpkAnHgpYGmXAsaGmQCceClgaZcCxoaZAJx4KWBplwLGhpkAnHgpYGmXAsaGmQCceClgaZcCxoaZAJx4KWBplwLGhpkAnHgpYGmXAsaGmQCceClgaZcCxoaZAJx4KWBplwLGhpkAnHgpYGmXAsaGmQCceClgaZcCxoaZAJx4KWBplwLGhpkAnHgpYGmXAsaGmQCceClgaZcCxoaZAJx4KWBplwLGhpkAnHgpYGmXAsaGmQCceClgaZcCxoaZAJx4KWBplwLGhpkAnHgpYGmXAsaGmQCceClgaZcCxoaZAJx4KWBplwLGhpkAnHgpYGmXAsaGmQCceClgaZcCxoaZAJx4KWBplwLGhpkAnHgpYGmXAsaGmQCceClgaZcCxoaZAJx4KWBplwLGhpkAnHgpYGmXAsaGmQCceClgaZcCxoaZAJx4KWBplwLGhpkAnHgpYGmXAsaGmQCceClgaZcCxoaZAJx4KWBplwLGhpkAnHgpYGmXAsaGmQCceClgaZcCxoaZAJx4KWBplwLGhpkAnHgpYGmXAsaGmQCceClgaZcCxoaZAJx4KWBplwLGhpkAnHgpYGmXAsaGmQCceClgaZcCxoaZAJx4KWBplwLGhpkAnHgpYGmXAsaGmQCceClgaZcCxoaZAJx4KWBplwLGhpkAnHgpYGmXAsaGmQCceClgaZcCxoaZAJx4KWBplwLGhpkAnHgpYGmXAsaGmQCceClgaZcCxoaZAJx4KWBplwLGhpkAnHgpYGmXAsaGmQCceClgaZcCxoaZAJx4KWBplwLGhpkAnHgpYGmXAsaGmQCceClgaZcCxoaZAJx4KWBplwLGhpkAnHgpYGmXAsaGmQCceClgaZcCxoaZAJx4KWBplwLGhpkAnHgpYGmXAsaGmQCceClgaZcCxoaZAJx4KWBplwLGhpkAnHgpYGmXAsaGmQCceClgaZcCxoaZAJx4KWBplwLGhpkAnHgpYGmXAsaGmQCceClgaZcCxoaZAJx4KWBplwLGhpkAnHgpYGmXAsaGmQCceClgaZcCxoaZAJx4KWBplwLGhpkAnHgpYGmXAsaGmQCceClgaZcCxoaZAJx4KWBplwLGhpkAnHgpYGmXAsaGmQCceClgaZcCxoaZAJx4KWBplwLGhpkAnHgpYGmXAsaGmQCceClgaZcCxoaZAJx4KWBplwLGhpkAnHgpYGmXAsaGmQCceClgaZcCxoaZAJx4KWBplwLGhpkAnHgpYGmXAsaGmQCceClgaZcCxoaZAJx4KWBplwLGhpkAnHgpYGmXAsaGmQCceClgaZcCxoaZAJx4KWBplwLGhpkAnHgpYGmXAsaGmQCceClgaZcCxoaZAJx4KWBplwLGhpkAnHgpYGmXAsaGmQCceClgaZcCxoaZAJx4KWBplwLGhpkIlrZvUAAAAAAAAAAAAAAAAAAAAAAAAAAAAAAAAAAAAAAAAAAAAAAAAAAAAAAAAAAAAAAAAAAAAAAAAAAAAAAAAAAAAAAAAAAAAAAAAAAAAAAAAAAAAAAAAAAAAAAAAAAAAAAAAAAAAAAAAAAAAAAAAAAAAAAAAAAAAAAAAAAAAAAAAAAAAAAAAAAAAAAAAAAAAAAAB49wCNGquNyWcfqAAAAABJRU5ErkJggg==\"/>"
      ]
     },
     "execution_count": 105,
     "metadata": {},
     "output_type": "execute_result"
    }
   ],
   "source": [
    "fun drawSquare(): BufferedImage {\n",
    "    val image = BufferedImage(500, 500, BufferedImage.TYPE_INT_RGB)\n",
    "    val graphics = image.createGraphics()\n",
    "    graphics.color = Color.red\n",
    "    graphics.drawRect(100, 100, 300, 300)\n",
    "    return image\n",
    "}\n",
    "\n",
    "drawSquare()"
   ]
  },
  {
   "cell_type": "markdown",
   "id": "623d0276",
   "metadata": {},
   "source": [
    "#  List"
   ]
  },
  {
   "cell_type": "code",
   "execution_count": 2,
   "id": "a99d3fdd",
   "metadata": {},
   "outputs": [
    {
     "name": "stdout",
     "output_type": "stream",
     "text": [
      "8 2 "
     ]
    }
   ],
   "source": [
    "fun solution(numbers: List<Int>) {\n",
    "    for (el in numbers) print(if (el % 2 == 0) \"$el \" else \"\")\n",
    "}\n",
    "\n",
    "solution(listOf(8, 11, 13, 2))"
   ]
  },
  {
   "cell_type": "code",
   "execution_count": 4,
   "id": "8f27d131",
   "metadata": {
    "scrolled": true
   },
   "outputs": [
    {
     "name": "stdout",
     "output_type": "stream",
     "text": [
      "2 4 "
     ]
    }
   ],
   "source": [
    "fun solution(products: List<String>, product: String) {\n",
    "    for (i in 0..products.lastIndex) print(if (products[i] == product) \"$i \" else \"\")\n",
    "}\n",
    "\n",
    "solution(listOf(\"a\", \"b\", \"c\", \"d\", \"c\"), \"c\")"
   ]
  },
  {
   "cell_type": "markdown",
   "id": "58c56140",
   "metadata": {},
   "source": [
    "#  Random"
   ]
  },
  {
   "cell_type": "code",
   "execution_count": 1,
   "id": "91f792e2",
   "metadata": {},
   "outputs": [],
   "source": [
    "import kotlin.random.Random"
   ]
  },
  {
   "cell_type": "code",
   "execution_count": 2,
   "id": "0fdfe91b",
   "metadata": {},
   "outputs": [
    {
     "data": {
      "text/plain": [
       "1"
      ]
     },
     "execution_count": 2,
     "metadata": {},
     "output_type": "execute_result"
    }
   ],
   "source": [
    "fun throwD6(): Int {\n",
    "    val numberOnTheDice = Random.nextInt(1, 7)\n",
    "    return numberOnTheDice\n",
    "}\n",
    "\n",
    "throwD6()"
   ]
  },
  {
   "cell_type": "code",
   "execution_count": 7,
   "id": "e28f57a7",
   "metadata": {},
   "outputs": [
    {
     "data": {
      "text/plain": [
       "\\A9MV{FI$x"
      ]
     },
     "execution_count": 7,
     "metadata": {},
     "output_type": "execute_result"
    }
   ],
   "source": [
    "fun generatePredictablePassword(seed: Int): String {\n",
    "    var randomPassword = \"\"\n",
    "    val rndm = Random(seed)\n",
    "    repeat(10) {\n",
    "        val c = rndm.nextInt(33, 127).toChar()\n",
    "        randomPassword += c\n",
    "    }\n",
    "    return randomPassword\n",
    "}\n",
    "\n",
    "generatePredictablePassword(32)"
   ]
  },
  {
   "cell_type": "code",
   "execution_count": 2,
   "id": "fb26b187",
   "metadata": {
    "scrolled": true
   },
   "outputs": [
    {
     "data": {
      "text/plain": [
       "-602833986"
      ]
     },
     "execution_count": 2,
     "metadata": {},
     "output_type": "execute_result"
    }
   ],
   "source": [
    "fun createDiceGameRandomizer(n: Int): Int {\n",
    "    var hisNumbers = MutableList(0) { 0 }\n",
    "    var ourNumbers = MutableList(0) { 0 }\n",
    "    var seed = 0\n",
    "    while (ourNumbers.sum() <= hisNumbers.sum()) {\n",
    "        seed = Random.nextInt()\n",
    "        val rndm = Random(seed)\n",
    "        hisNumbers = MutableList(n) { rndm.nextInt(1, 7) }\n",
    "        ourNumbers = MutableList(n) { rndm.nextInt(1, 7) }\n",
    "    }\n",
    "    return seed\n",
    "}\n",
    "\n",
    "createDiceGameRandomizer(10)"
   ]
  },
  {
   "cell_type": "code",
   "execution_count": 7,
   "id": "6a0c1170",
   "metadata": {},
   "outputs": [
    {
     "data": {
      "text/plain": [
       "21 29 26 20 28 23 29"
      ]
     },
     "execution_count": 7,
     "metadata": {},
     "output_type": "execute_result"
    }
   ],
   "source": [
    "fun generateTemperature(seed: Int): String{\n",
    "    val rndm = Random(seed)\n",
    "    val journal = MutableList(7) { rndm.nextInt(20, 31) }\n",
    "    return journal.joinToString(\" \")\n",
    "}\n",
    "\n",
    "generateTemperature(32)"
   ]
  },
  {
   "cell_type": "markdown",
   "id": "a55ab0a1",
   "metadata": {},
   "source": [
    " # Declaring classes"
   ]
  },
  {
   "cell_type": "code",
   "execution_count": 8,
   "id": "3251fbce",
   "metadata": {},
   "outputs": [
    {
     "name": "stdout",
     "output_type": "stream",
     "text": [
      "12"
     ]
    }
   ],
   "source": [
    "class Rectangle(val width: Int, val height: Int)\n",
    "\n",
    "fun printArea(rectangle: Rectangle) {\n",
    "    print(rectangle.width * rectangle.height)\n",
    "}\n",
    "\n",
    "val fig = Rectangle(3, 4)\n",
    "printArea(fig)"
   ]
  },
  {
   "cell_type": "code",
   "execution_count": 11,
   "id": "2ea6bd06",
   "metadata": {},
   "outputs": [
    {
     "data": {
      "text/plain": [
       "Line_608$Point3D@6ef7623"
      ]
     },
     "execution_count": 11,
     "metadata": {},
     "output_type": "execute_result"
    }
   ],
   "source": [
    "class Point3D {\n",
    "    var x: Int = 0\n",
    "    var y: Int = 0\n",
    "    var z: Int = 0\n",
    "}\n",
    "\n",
    "fun createPoint(x: Int, y: Int, z: Int): Point3D {\n",
    "    val point = Point3D()\n",
    "    point.x = x\n",
    "    point.y = y\n",
    "    point.z = z\n",
    "    return point\n",
    "}\n",
    "\n",
    "createPoint(2, 4, -1)"
   ]
  },
  {
   "cell_type": "markdown",
   "id": "bf817fef",
   "metadata": {},
   "source": [
    "# Functional decomposition"
   ]
  },
  {
   "cell_type": "code",
   "execution_count": 15,
   "id": "4cd28480",
   "metadata": {
    "scrolled": true
   },
   "outputs": [
    {
     "data": {
      "text/plain": [
       "4.0"
      ]
     },
     "execution_count": 15,
     "metadata": {},
     "output_type": "execute_result"
    }
   ],
   "source": [
    "fun f(x: Double): Double = when {\n",
    "    x <= 0 -> f1(x)\n",
    "    x >= 1 -> f3(x)\n",
    "    else -> f2(x)\n",
    "}\n",
    "\n",
    "// implement your functions here\n",
    "fun f1(x: Double) = x * x + 1\n",
    "\n",
    "fun f2(x: Double) = 1 / (x * x)\n",
    "\n",
    "fun f3(x: Double) = x * x - 1\n",
    "\n",
    "f(0.5)"
   ]
  },
  {
   "cell_type": "code",
   "execution_count": 26,
   "id": "ff5fef10",
   "metadata": {},
   "outputs": [
    {
     "name": "stdout",
     "output_type": "stream",
     "text": [
      "stdin:1\n",
      "stdin:2\n",
      "stdin:3\n",
      "No real roots!\n"
     ]
    }
   ],
   "source": [
    "fun calculateDiscriminant(a: Double, b: Double, c: Double): Double {\n",
    "    return b * b - 4 * a * c\n",
    "}\n",
    "\n",
    "fun calculateRoots(a: Double, b: Double, c: Double, discriminant: Double) {\n",
    "    val x1 = (-b + discriminant.pow(0.5)) / (2 * a)\n",
    "    val x2 = (-b - discriminant.pow(0.5)) / (2 * a)\n",
    "    if (x1 == x2) {\n",
    "        println(\"x = $x1\")\n",
    "    } else {\n",
    "        println(\"x1 = $x1\")\n",
    "        println(\"x2 = $x2\")\n",
    "    }\n",
    "}\n",
    "\n",
    "    val a = readLine()!!.toDouble()\n",
    "    val b = readLine()!!.toDouble()\n",
    "    val c = readLine()!!.toDouble()\n",
    "\n",
    "    val discriminant = calculateDiscriminant(a, b, c)\n",
    "\n",
    "    if (discriminant < 0.0) {\n",
    "        println(\"No real roots!\")\n",
    "    } else {\n",
    "        calculateRoots(a, b, c, discriminant)\n",
    "    }"
   ]
  },
  {
   "cell_type": "markdown",
   "id": "4ba9c853",
   "metadata": {},
   "source": [
    "# Default arguments"
   ]
  },
  {
   "cell_type": "code",
   "execution_count": 32,
   "id": "7adae342",
   "metadata": {},
   "outputs": [
    {
     "name": "stdout",
     "output_type": "stream",
     "text": [
      "stdin:HIDDEN\n",
      "Hello, secret user!"
     ]
    }
   ],
   "source": [
    "fun greeting(name: String = \"secret user\") {\n",
    "    print(\"Hello, $name!\")\n",
    "}\n",
    "\n",
    "    val name = readLine()!!\n",
    "    when (name) {\n",
    "        \"HIDDEN\" -> greeting()\n",
    "        else -> greeting(name)\n",
    "    }"
   ]
  },
  {
   "cell_type": "code",
   "execution_count": 34,
   "id": "cf427edd",
   "metadata": {},
   "outputs": [
    {
     "data": {
      "text/plain": [
       "A&B&C"
      ]
     },
     "execution_count": 34,
     "metadata": {},
     "output_type": "execute_result"
    }
   ],
   "source": [
    "fun concatenate(a: String, b: String, c: String, d: String = \" \"): String {\n",
    "    val row = listOf(a, b, c)\n",
    "    return row.joinToString(d)\n",
    "}\n",
    "\n",
    "concatenate(\"A\", \"B\", \"C\", \"&\")"
   ]
  },
  {
   "cell_type": "code",
   "execution_count": 36,
   "id": "8227b82b",
   "metadata": {},
   "outputs": [
    {
     "data": {
      "text/plain": [
       "11"
      ]
     },
     "execution_count": 36,
     "metadata": {},
     "output_type": "execute_result"
    }
   ],
   "source": [
    "fun polynomial(x: Int, c: Int, b: Int = 0, a: Int = 0) = a * x * x + b * x + c\n",
    "\n",
    "polynom(2, 3, 4)"
   ]
  },
  {
   "cell_type": "code",
   "execution_count": 42,
   "id": "c415be6b",
   "metadata": {
    "scrolled": true
   },
   "outputs": [
    {
     "data": {
      "text/plain": [
       "30"
      ]
     },
     "execution_count": 42,
     "metadata": {},
     "output_type": "execute_result"
    }
   ],
   "source": [
    "fun tip(bill: Int, percentage: Int = 10) = bill * percentage / 100\n",
    "\n",
    "tip(200, 15)"
   ]
  },
  {
   "cell_type": "code",
   "execution_count": 1,
   "id": "3a2f94df",
   "metadata": {
    "scrolled": true
   },
   "outputs": [
    {
     "data": {
      "text/plain": [
       "4"
      ]
     },
     "execution_count": 1,
     "metadata": {},
     "output_type": "execute_result"
    }
   ],
   "source": [
    "fun sum5(a1: Int, a2: Int, a3: Int = 0, a4: Int = 0, a5: Int = 0) = a1 + a2 + a3 + a4 + a5\n",
    "\n",
    "sum5(2, 2)"
   ]
  },
  {
   "cell_type": "code",
   "execution_count": 2,
   "id": "b31b3bd9",
   "metadata": {},
   "outputs": [
    {
     "data": {
      "text/plain": [
       "6"
      ]
     },
     "execution_count": 2,
     "metadata": {},
     "output_type": "execute_result"
    }
   ],
   "source": [
    "fun getVolume(a: Int, b: Int = 1, c: Int = 1) = a * b * c\n",
    "\n",
    "getVolume(6)"
   ]
  },
  {
   "cell_type": "markdown",
   "id": "af5c37e3",
   "metadata": {},
   "source": [
    "# Named arguments"
   ]
  },
  {
   "cell_type": "code",
   "execution_count": 45,
   "id": "8cd91256",
   "metadata": {},
   "outputs": [
    {
     "data": {
      "text/plain": [
       "4.0"
      ]
     },
     "execution_count": 45,
     "metadata": {},
     "output_type": "execute_result"
    }
   ],
   "source": [
    "fun perimeter(x1: Double, y1: Double, x2: Double, y2: Double, x3: Double, y3: Double, x4: Double = x3, y4: Double = y3): Double {\n",
    "    var result = Math.hypot((x2 - x1), (y2 - y1))\n",
    "    result += Math.hypot((x3 - x2), (y3 - y2))\n",
    "    result += Math.hypot((x4 - x3), (y4 - y3))\n",
    "    result += Math.hypot((x1 - x4), (y1 - y4))\n",
    "    return result\n",
    "}\n",
    "\n",
    "perimeter(0.0, 0.0, 1.0, 0.0, 1.0, 1.0, 0.0, 1.0)"
   ]
  },
  {
   "cell_type": "code",
   "execution_count": 131,
   "id": "c11f1973",
   "metadata": {},
   "outputs": [
    {
     "name": "stdout",
     "output_type": "stream",
     "text": [
      "20000"
     ]
    }
   ],
   "source": [
    "fun carPrice(old: Int = 5, kilometers: Int = 100000, maximumSpeed: Int = 120, automatic: Boolean = false) {\n",
    "    var result = 20000\n",
    "    result -= old * 2000\n",
    "    result += (maximumSpeed - 120) * 100\n",
    "    result -= kilometers / 10000 * 200\n",
    "    result += if (automatic) 1500 else 0\n",
    "    print(result)\n",
    "}\n",
    "\n",
    "carPrice(0, 0)"
   ]
  },
  {
   "cell_type": "code",
   "execution_count": 4,
   "id": "e870424e",
   "metadata": {},
   "outputs": [
    {
     "name": "stdout",
     "output_type": "stream",
     "text": [
      "stdin:percent\n",
      "stdin:10\n",
      "2593"
     ]
    }
   ],
   "source": [
    "fun pow(x: Double, n: Int): Double = if (n == 1) x else x * pow(x, n - 1)\n",
    "\n",
    "fun interest(amount: Int = 1000, percent: Int = 5, years: Int = 10) {\n",
    "    print((amount * pow(1 + percent / 100.0, years)).toInt())\n",
    "}\n",
    "\n",
    "    val changed = readLine()!!\n",
    "    val value = readLine()!!.toInt()\n",
    "    when (changed) {\n",
    "        \"amount\" -> interest(amount = value)\n",
    "        \"percent\" -> interest(percent = value)\n",
    "        \"years\" -> interest(years = value)\n",
    "    }"
   ]
  },
  {
   "cell_type": "code",
   "execution_count": 8,
   "id": "0589e651",
   "metadata": {},
   "outputs": [
    {
     "data": {
      "text/plain": [
       "Hello, Mr. Anderson"
      ]
     },
     "execution_count": 8,
     "metadata": {},
     "output_type": "execute_result"
    }
   ],
   "source": [
    "fun greetUser(\n",
    "    name: String,\n",
    "    admin: Boolean = false,\n",
    "    smith: Boolean = false,\n",
    "    honorific: String = \"\",\n",
    "    greet: String = \"Greetings\"\n",
    "): String {\n",
    "    return if (!admin && !smith) {\n",
    "        \"$greet, $honorific $name\"\n",
    "    } else {\n",
    "        \"Matrix Error\"\n",
    "    }\n",
    "}\n",
    "// do not change lines above        \n",
    "\n",
    "fun greetNeo() = greetUser(name = \"Anderson\", greet = \"Hello\", honorific = \"Mr.\")\n",
    "\n",
    "greetNeo()"
   ]
  },
  {
   "cell_type": "code",
   "execution_count": 11,
   "id": "4bd92394",
   "metadata": {},
   "outputs": [
    {
     "name": "stdout",
     "output_type": "stream",
     "text": [
      "stdin:120\n",
      "stdin:no limit\n",
      "Exceeds the limit by 60 kilometers per hour"
     ]
    }
   ],
   "source": [
    "fun dai(speed: Int, limit: Int = 60) {\n",
    "    if (speed > limit) {\n",
    "        print(\"Exceeds the limit by ${speed - limit} kilometers per hour\")\n",
    "    } else {\n",
    "        print(\"Within the limit\")\n",
    "    }\n",
    "}\n",
    "\n",
    "    val currentSpeed = readLine()!!.toInt()\n",
    "    val limitStr = readLine()!!\n",
    "    if (limitStr == \"no limit\") {\n",
    "        dai(currentSpeed)\n",
    "    } else {\n",
    "        dai(currentSpeed, limitStr.toInt())\n",
    "    }"
   ]
  },
  {
   "cell_type": "code",
   "execution_count": 15,
   "id": "dc19a538",
   "metadata": {},
   "outputs": [
    {
     "data": {
      "text/plain": [
       "https://localhost:443"
      ]
     },
     "execution_count": 15,
     "metadata": {},
     "output_type": "execute_result"
    }
   ],
   "source": [
    "fun url(host: String = \"localhost\", port: Int = 443) = \"https://$host:$port\"\n",
    "\n",
    "url()"
   ]
  },
  {
   "cell_type": "markdown",
   "id": "9fd86510",
   "metadata": {},
   "source": [
    "#  Constructors"
   ]
  },
  {
   "cell_type": "code",
   "execution_count": 13,
   "id": "0761653e",
   "metadata": {},
   "outputs": [],
   "source": [
    "class Pet(val name: String, val owner: String, val animal: String = \"cat\")\n",
    "\n",
    "val johnsCat = Pet(\"Meow\", \"Human\")"
   ]
  },
  {
   "cell_type": "code",
   "execution_count": 15,
   "id": "684f149c",
   "metadata": {
    "scrolled": true
   },
   "outputs": [
    {
     "data": {
      "text/plain": [
       "-986654323456789987"
      ]
     },
     "execution_count": 15,
     "metadata": {},
     "output_type": "execute_result"
    }
   ],
   "source": [
    "class BankAccount(val deposited: Long, val withdrawn: Long) {\n",
    "    val balance = deposited - withdrawn\n",
    "}\n",
    "\n",
    "val atm = BankAccount(1000000000000000, 987654323456789987)\n",
    "atm.balance"
   ]
  },
  {
   "cell_type": "code",
   "execution_count": 25,
   "id": "48e7e64b",
   "metadata": {},
   "outputs": [
    {
     "name": "stdout",
     "output_type": "stream",
     "text": [
      "stdin:312\n",
      "127\n"
     ]
    }
   ],
   "source": [
    "    val timerValue = readLine()!!.toInt()\n",
    "    val timer = ByteTimer(timerValue)\n",
    "    println(timer.time)\n",
    "\n",
    "class ByteTimer(var time: Int) {\n",
    "    init {\n",
    "        time = if (time < -128) -128 else Math.min(time, 127)\n",
    "    }\n",
    "}"
   ]
  },
  {
   "cell_type": "markdown",
   "id": "2e454708",
   "metadata": {},
   "source": [
    "#  Member functions"
   ]
  },
  {
   "cell_type": "code",
   "execution_count": 27,
   "id": "26481012",
   "metadata": {},
   "outputs": [
    {
     "data": {
      "text/plain": [
       "0"
      ]
     },
     "execution_count": 27,
     "metadata": {},
     "output_type": "execute_result"
    }
   ],
   "source": [
    "class Car(val make: String, val year: Int) {\n",
    "\n",
    "    var speed: Int = 0\n",
    "\n",
    "    fun accelerate() {\n",
    "        this.speed += 5\n",
    "    }\n",
    "    \n",
    "    fun decelerate() {\n",
    "        this.speed = Math.max(this.speed - 5, 0)\n",
    "    }\n",
    "}\n",
    "\n",
    "val zaz = Car(\"ЗАЗ-965\", 1960)\n",
    "zaz.decelerate()\n",
    "zaz.speed"
   ]
  },
  {
   "cell_type": "code",
   "execution_count": 28,
   "id": "87507ac4",
   "metadata": {},
   "outputs": [
    {
     "name": "stdout",
     "output_type": "stream",
     "text": [
      "exe.exe\r\n",
      "png.png\r\n",
      "txt.txt\r\n",
      "0\r\n"
     ]
    }
   ],
   "source": [
    "class Application(val name: String) {\n",
    "    fun run(arg1: String, arg2: String, arg3: String) {\n",
    "        println(this.name)\n",
    "        println(arg1)\n",
    "        println(arg2)\n",
    "        println(arg3)\n",
    "    }\n",
    "}\n",
    "\n",
    "Application(\"exe.exe\").run(\"png.png\", \"txt.txt\", \"0\")"
   ]
  },
  {
   "cell_type": "code",
   "execution_count": 29,
   "id": "4555e828",
   "metadata": {},
   "outputs": [
    {
     "data": {
      "text/plain": [
       "30.0"
      ]
     },
     "execution_count": 29,
     "metadata": {},
     "output_type": "execute_result"
    }
   ],
   "source": [
    "class Box(var height: Double, var width: Double, var length: Double) {\n",
    "    fun getVolume() = this.height * this.width * this.length\n",
    "}\n",
    "\n",
    "Box(2.0, 3.0, 5.0).getVolume()"
   ]
  },
  {
   "cell_type": "code",
   "execution_count": 31,
   "id": "7330f0b0",
   "metadata": {},
   "outputs": [
    {
     "name": "stdout",
     "output_type": "stream",
     "text": [
      "Hello, my name is fem, I need a doctor."
     ]
    }
   ],
   "source": [
    "class Patient(val name: String) {\n",
    "    fun say() {\n",
    "        print(\"Hello, my name is $name, I need a doctor.\")\n",
    "    }\n",
    "}\n",
    "\n",
    "Patient(\"fem\").say()"
   ]
  },
  {
   "cell_type": "markdown",
   "id": "3c0cfcd6",
   "metadata": {},
   "source": [
    "# Extension functions"
   ]
  },
  {
   "cell_type": "code",
   "execution_count": 2,
   "id": "83014d09",
   "metadata": {},
   "outputs": [
    {
     "name": "stdout",
     "output_type": "stream",
     "text": [
      "2"
     ]
    }
   ],
   "source": [
    "fun Int.lastDigit(): Int = this % 10\n",
    "\n",
    "print(12.lastDigit())"
   ]
  },
  {
   "cell_type": "code",
   "execution_count": 3,
   "id": "df644638",
   "metadata": {},
   "outputs": [
    {
     "name": "stdout",
     "output_type": "stream",
     "text": [
      "24990 24990"
     ]
    }
   ],
   "source": [
    "//Do not fix code below \n",
    "fun next(prev: Int): Int = prev * 1000 - 10\n",
    "\n",
    "//write your code here\n",
    "fun Int.nextValue(): Int = this * 1000 - 10\n",
    "\n",
    "print(\"${next(25)} ${25.nextValue()}\")"
   ]
  },
  {
   "cell_type": "code",
   "execution_count": null,
   "id": "ce954d3f",
   "metadata": {},
   "outputs": [],
   "source": [
    "// Do not fix code below\n",
    "class Fridge {\n",
    "    fun open() = println(1)\n",
    "    fun find(productName: String): Product {\n",
    "        println(productName)\n",
    "        return 4\n",
    "    }\n",
    "    fun close() = println(3)\n",
    "}\n",
    "\n",
    "// Write your code here\n",
    "fun Fridge.take(productName: String): Product {\n",
    "    this.open()\n",
    "    val result = this.find(productName)\n",
    "    this.close()\n",
    "    return result\n",
    "}"
   ]
  },
  {
   "cell_type": "markdown",
   "id": "34a3bed9",
   "metadata": {},
   "source": [
    "# Properties accessors"
   ]
  },
  {
   "cell_type": "code",
   "execution_count": 25,
   "id": "a1d44d4c",
   "metadata": {},
   "outputs": [
    {
     "name": "stdout",
     "output_type": "stream",
     "text": [
      "stdin:1\n",
      "stdin:2\n",
      "stdin:3\n",
      "Dubai"
     ]
    }
   ],
   "source": [
    "class City(val name: String) {\n",
    "    var degrees: Int = when (name) {\n",
    "        \"Dubai\" -> 30\n",
    "        \"Hanoi\" -> 20\n",
    "        else -> 5\n",
    "    } \n",
    "        set(value) {\n",
    "            if (value in -92..57) {\n",
    "                field = value\n",
    "            }\n",
    "        } get() = field\n",
    "}        \n",
    "\n",
    "    val first = readLine()!!.toInt()\n",
    "    val second = readLine()!!.toInt()\n",
    "    val third = readLine()!!.toInt()\n",
    "    val firstCity = City(\"Dubai\")\n",
    "    firstCity.degrees = first\n",
    "    val secondCity = City(\"Moscow\")\n",
    "    secondCity.degrees = second\n",
    "    val thirdCity = City(\"Hanoi\")\n",
    "    thirdCity.degrees = third\n",
    "    if (firstCity.degrees == secondCity.degrees && secondCity.degrees <= thirdCity.degrees || firstCity.degrees == thirdCity.degrees && thirdCity.degrees <= secondCity.degrees || thirdCity.degrees == secondCity.degrees && secondCity.degrees <= firstCity.degrees) {\n",
    "        print(\"neither\")\n",
    "    } else {\n",
    "        if (firstCity.degrees < secondCity.degrees && firstCity.degrees < thirdCity.degrees) {\n",
    "            print(firstCity.name)\n",
    "        } else if (secondCity.degrees < firstCity.degrees && secondCity.degrees < thirdCity.degrees) {\n",
    "            print(secondCity.name)\n",
    "        } else {\n",
    "            print(thirdCity.name)\n",
    "        }\n",
    "    }"
   ]
  },
  {
   "cell_type": "code",
   "execution_count": 29,
   "id": "e31bc5da",
   "metadata": {},
   "outputs": [
    {
     "data": {
      "text/plain": [
       "50000000"
      ]
     },
     "execution_count": 29,
     "metadata": {},
     "output_type": "execute_result"
    }
   ],
   "source": [
    "class City(val name: String) {\n",
    "    var population: Int = 0\n",
    "        set(value) {\n",
    "            if (value > 0) {\n",
    "                field = Math.min(value, 50_000_000)\n",
    "            }\n",
    "        }\n",
    "}\n",
    "\n",
    "val citik = City(\"Hole\")\n",
    "citik.population = 50_000_001\n",
    "citik.population"
   ]
  },
  {
   "cell_type": "markdown",
   "id": "5c62a8fa",
   "metadata": {},
   "source": [
    "# Secondary constructor"
   ]
  },
  {
   "cell_type": "code",
   "execution_count": 7,
   "id": "a7566637",
   "metadata": {},
   "outputs": [
    {
     "data": {
      "text/plain": [
       "18"
      ]
     },
     "execution_count": 7,
     "metadata": {},
     "output_type": "execute_result"
    }
   ],
   "source": [
    "class IceCreamOrder {\n",
    "    var price: Int = 0\n",
    "    \n",
    "    constructor(popsicles: Int) {\n",
    "        this.price = popsicles * 7\n",
    "    }\n",
    "    \n",
    "    constructor(scoops: Int, toppings: Int) {\n",
    "        this.price = scoops * 5 + toppings * 2\n",
    "    }\n",
    "}\n",
    "\n",
    "val a = IceCreamOrder(2, 4)\n",
    "a.price"
   ]
  },
  {
   "cell_type": "code",
   "execution_count": 9,
   "id": "c4d29860",
   "metadata": {},
   "outputs": [
    {
     "name": "stdout",
     "output_type": "stream",
     "text": [
      "white fabric is created\r\n",
      "black dots pattern is printed on the fabric\r\n"
     ]
    },
    {
     "data": {
      "text/plain": [
       "dots"
      ]
     },
     "execution_count": 9,
     "metadata": {},
     "output_type": "execute_result"
    }
   ],
   "source": [
    "class Fabric(var color: String) {\n",
    "    var pattern: String = \"none\"\n",
    "    var patternColor: String = \"none\"\n",
    "    init {\n",
    "        println(\"$color fabric is created\")\n",
    "    }\n",
    "\n",
    "    constructor(color: String, pattern: String, patternColor: String): this(color) {\n",
    "        this.pattern = pattern\n",
    "        this.patternColor = patternColor\n",
    "        println(\"$patternColor $pattern pattern is printed on the fabric\")\n",
    "    }\n",
    "}\n",
    "\n",
    "val fa = Fabric(\"white\", \"dots\", \"black\")\n",
    "fa.pattern"
   ]
  },
  {
   "cell_type": "code",
   "execution_count": 11,
   "id": "ba3e57a0",
   "metadata": {},
   "outputs": [
    {
     "data": {
      "text/plain": [
       "7.5"
      ]
     },
     "execution_count": 11,
     "metadata": {},
     "output_type": "execute_result"
    }
   ],
   "source": [
    "class EspressoMachine {\n",
    "    var costPerServing: Float = 0f\n",
    "    \n",
    "    constructor(coffeeCapsulesCount: Int, totalCost: Float) {\n",
    "        this.costPerServing = totalCost / coffeeCapsulesCount\n",
    "    }\n",
    "    \n",
    "    constructor(coffeeBeansWeight: Float, totalCost: Float) {\n",
    "        this.costPerServing = totalCost / (coffeeBeansWeight / 10)\n",
    "    }\n",
    "}\n",
    "\n",
    "val machine = EspressoMachine(20f, 15f)\n",
    "machine.costPerServing"
   ]
  },
  {
   "cell_type": "markdown",
   "id": "9ec89c9b",
   "metadata": {},
   "source": [
    "# Scopes"
   ]
  },
  {
   "cell_type": "code",
   "execution_count": 6,
   "id": "a03d94ec",
   "metadata": {
    "scrolled": true
   },
   "outputs": [
    {
     "name": "stdout",
     "output_type": "stream",
     "text": [
      "169\r\n",
      "2197\r\n",
      "28561\r\n",
      "371293\r\n",
      "4826809\r\n",
      "62748517\r\n",
      "815730721\r\n",
      "10604499373\r\n",
      "137858491849\r\n"
     ]
    }
   ],
   "source": [
    "    var thirteen = 13L\n",
    "    for (i in 2..10) {\n",
    "        thirteen *= 13\n",
    "        println(thirteen)\n",
    "    }"
   ]
  },
  {
   "cell_type": "markdown",
   "id": "6da320f7",
   "metadata": {},
   "source": [
    "# Nested and inner classes"
   ]
  },
  {
   "cell_type": "code",
   "execution_count": 12,
   "id": "a91b25cb",
   "metadata": {},
   "outputs": [
    {
     "name": "stdout",
     "output_type": "stream",
     "text": [
      "The Toyota Camry vehicle has 777 horsepower.\r\n"
     ]
    }
   ],
   "source": [
    "class Vehicle {\n",
    "    var name = \"\"\n",
    "\n",
    "    constructor(name: String) {\n",
    "        this.name = name\n",
    "    }\n",
    "\n",
    "    inner class Engine {\n",
    "        var horsePower = 0\n",
    "\n",
    "        constructor(horsePower: Int) {\n",
    "            this.horsePower = horsePower\n",
    "        }\n",
    "\n",
    "        fun start() {\n",
    "            println(\"RRRrrrrrrr....\")\n",
    "        }\n",
    "\n",
    "        fun printHorsePower() {\n",
    "            println(\"The $name vehicle has $horsePower horsepower.\")\n",
    "        }\n",
    "    }\n",
    "}\n",
    "\n",
    "val camry = Vehicle(\"Toyota Camry\")\n",
    "val power = camry.Engine(777)\n",
    "power.printHorsePower()"
   ]
  },
  {
   "cell_type": "code",
   "execution_count": 17,
   "id": "7896ffa5",
   "metadata": {},
   "outputs": [
    {
     "data": {
      "text/plain": [
       "106.0"
      ]
     },
     "execution_count": 17,
     "metadata": {},
     "output_type": "execute_result"
    }
   ],
   "source": [
    "class Intern(val weeklyWorkload: Int) {\n",
    "    val baseWorkload = 20\n",
    "\n",
    "    class Salary {\n",
    "        val basePay = 50\n",
    "        val extraHoursPay = 2.8\n",
    "    }\n",
    "\n",
    "    val salo = Salary()\n",
    "    val weeklySalary = if (weeklyWorkload < 20) 0 else this.salo.basePay + (weeklyWorkload - 20) * this.salo.extraHoursPay\n",
    "}\n",
    "\n",
    "val worker = Intern(40)\n",
    "worker.weeklySalary"
   ]
  },
  {
   "cell_type": "code",
   "execution_count": 19,
   "id": "def0c7d6",
   "metadata": {},
   "outputs": [
    {
     "name": "stdout",
     "output_type": "stream",
     "text": [
      "The employee wears a blue suit in size 50\r\n"
     ]
    }
   ],
   "source": [
    "class Employee(val clothesSize: Int) {\n",
    "    class Uniform {\n",
    "        val uniformType = \"suit\"\n",
    "        val uniformColor = \"blue\"\n",
    "    }\n",
    "    \n",
    "    val wear = Uniform()\n",
    "    fun printUniformInfo() {\n",
    "        println(\"The employee wears a ${wear.uniformColor} ${wear.uniformType} in size $clothesSize\")\n",
    "    }\n",
    "}\n",
    "\n",
    "val worker = Employee(50)\n",
    "worker.printUniformInfo()"
   ]
  },
  {
   "cell_type": "code",
   "execution_count": 24,
   "id": "640028f8",
   "metadata": {},
   "outputs": [
    {
     "name": "stdout",
     "output_type": "stream",
     "text": [
      "The hero uses trident. The total strength is 1300.\n",
      "The villain uses bomb. The total strength is 1200.\n"
     ]
    }
   ],
   "source": [
    "class Hero {\n",
    "    val baseStrength = 1000\n",
    "    class Equipment {\n",
    "        val weapon = \"trident\"\n",
    "        val weaponStrength = 300\n",
    "    }\n",
    "}\n",
    "\n",
    "class Villain {\n",
    "    val baseStrength = 500\n",
    "    class Equipment {\n",
    "        val weapon = \"bomb\"\n",
    "        val weaponStrength = 700\n",
    "    }\n",
    "}\n",
    "\n",
    "    val heroEquipment = Hero.Equipment()\n",
    "    val heroTotalStrength = Hero().baseStrength + heroEquipment.weaponStrength\n",
    "\n",
    "    val villainEquipment = Villain.Equipment()\n",
    "    val villainTotalStrength = Villain().baseStrength + villainEquipment.weaponStrength\n",
    "\n",
    "    // the following lines should remain as they are\n",
    "    println(\"The hero uses ${heroEquipment.weapon}. The total strength is $heroTotalStrength.\")\n",
    "    println(\"The villain uses ${villainEquipment.weapon}. The total strength is $villainTotalStrength.\")"
   ]
  },
  {
   "cell_type": "markdown",
   "id": "a486f477",
   "metadata": {},
   "source": [
    "# Object declarations "
   ]
  },
  {
   "cell_type": "code",
   "execution_count": 6,
   "id": "a2620b2f",
   "metadata": {},
   "outputs": [
    {
     "data": {
      "text/plain": [
       "1.5"
      ]
     },
     "execution_count": 6,
     "metadata": {},
     "output_type": "execute_result"
    }
   ],
   "source": [
    "object Math {\n",
    "    fun abs(a: Int) = if (a >= 0) a else -a\n",
    "    fun abs(a: Double) = if (a >= 0) a else -a\n",
    "}\n",
    "\n",
    "Math.abs(-1.5)"
   ]
  },
  {
   "cell_type": "code",
   "execution_count": 9,
   "id": "eac428e1",
   "metadata": {},
   "outputs": [
    {
     "name": "stdout",
     "output_type": "stream",
     "text": [
      "Task live solved!\r\n",
      "Task live solved!\r\n"
     ]
    },
    {
     "data": {
      "text/plain": [
       "2"
      ]
     },
     "execution_count": 9,
     "metadata": {},
     "output_type": "execute_result"
    }
   ],
   "source": [
    "class Task(val name: String)\n",
    "\n",
    "object Manager {\n",
    "    var solvedTask = 0\n",
    "    fun solveTask(task: Task) {\n",
    "        println(\"Task ${task.name} solved!\")\n",
    "        solvedTask++\n",
    "    }\n",
    "}\n",
    "\n",
    "val t = Task(\"live\")\n",
    "val m = Manager\n",
    "Manager.solveTask(t)\n",
    "val s = Manager\n",
    "s.solveTask(t)\n",
    "s.solvedTask"
   ]
  },
  {
   "cell_type": "code",
   "execution_count": 5,
   "id": "eb2ec186",
   "metadata": {},
   "outputs": [
    {
     "data": {
      "text/plain": [
       "4"
      ]
     },
     "execution_count": 5,
     "metadata": {},
     "output_type": "execute_result"
    }
   ],
   "source": [
    "class Block {\n",
    "    var color = \"White\"\n",
    "    object BlockProperties {\n",
    "        var length = 6\n",
    "        var width = 4\n",
    "        fun blocksInBox(boxL: Int, boxW: Int) = (boxL / length) * (boxW / width) \n",
    "    }\n",
    "}\n",
    "\n",
    "Block.BlockProperties.blocksInBox(14, 9)"
   ]
  },
  {
   "cell_type": "markdown",
   "id": "809cee19",
   "metadata": {},
   "source": [
    "# Enum"
   ]
  },
  {
   "cell_type": "code",
   "execution_count": 5,
   "id": "e163e2e0",
   "metadata": {},
   "outputs": [
    {
     "name": "stdout",
     "output_type": "stream",
     "text": [
      "stdin:red\n",
      "1"
     ]
    }
   ],
   "source": [
    "enum class Rainbow(val color: String, val rgb: String) {\n",
    "    RED(\"Red\", \"#FF0000\"),\n",
    "    ORANGE(\"Orange\", \"#FF7F00\"),\n",
    "    YELLOW(\"Yellow\", \"#FFFF00\"),\n",
    "    GREEN(\"Green\", \"#00FF00\"),\n",
    "    BLUE(\"Blue\", \"#0000FF\"),\n",
    "    INDIGO(\"Indigo\", \"#4B0082\"),\n",
    "    VIOLET(\"Violet\", \"#8B00FF\"), \n",
    "}\n",
    "\n",
    "    val c = readLine()!!\n",
    "    print(Rainbow.valueOf(c.uppercase()).ordinal + 1)"
   ]
  },
  {
   "cell_type": "code",
   "execution_count": 23,
   "id": "2eaa5d16",
   "metadata": {},
   "outputs": [
    {
     "name": "stdout",
     "output_type": "stream",
     "text": [
      "stdin:bad good\n",
      "false"
     ]
    }
   ],
   "source": [
    "enum class Countries(val currency: String) {\n",
    "    Germany(\"Euro\"),\n",
    "    Mali(\"CFA franc\"),\n",
    "    Dominica(\"Eastern Caribbean dollar\"),\n",
    "    Canada(\"Canadian dollar\"),\n",
    "    Spain(\"Euro\"),\n",
    "    Australia(\"Australian dollar\"),\n",
    "    Brazil(\"Brazilian real\"),\n",
    "    Senegal(\"CFA franc\"),\n",
    "    France(\"Euro\"),\n",
    "    Grenada(\"Eastern Caribbean dollar\"),\n",
    "    Kiribati(\"Australian dollar\");\n",
    "    \n",
    "    companion object {\n",
    "        fun equal(a: String, b: String): Boolean {\n",
    "            try {\n",
    "                return valueOf(a).currency == valueOf(b).currency\n",
    "            } catch (e: IllegalArgumentException) {\n",
    "                return false\n",
    "            }\n",
    "        }\n",
    "    }\n",
    "}\n",
    "\n",
    "    val input = readLine()!!.split(' ').map { it }.toList()\n",
    "    print(Countries.equal(input[0], input[1]))"
   ]
  },
  {
   "cell_type": "code",
   "execution_count": 25,
   "id": "727a587b",
   "metadata": {},
   "outputs": [
    {
     "data": {
      "text/plain": [
       "true"
      ]
     },
     "execution_count": 25,
     "metadata": {},
     "output_type": "execute_result"
    }
   ],
   "source": [
    "enum class DangerLevel(val n: Int) {\n",
    "    HIGH(3),\n",
    "    MEDIUM(2),\n",
    "    LOW(1);\n",
    "    \n",
    "    fun getLevel() = this.n    \n",
    "}\n",
    "\n",
    "val high = DangerLevel.HIGH\n",
    "val medium = DangerLevel.MEDIUM\n",
    "\n",
    "high.getLevel() > medium.getLevel()"
   ]
  },
  {
   "cell_type": "markdown",
   "id": "82719540",
   "metadata": {},
   "source": [
    "# BigInteger"
   ]
  },
  {
   "cell_type": "code",
   "execution_count": 1,
   "id": "83d9975a",
   "metadata": {},
   "outputs": [],
   "source": [
    "import java.math.BigInteger"
   ]
  },
  {
   "cell_type": "code",
   "execution_count": 2,
   "id": "1ae95c2f",
   "metadata": {},
   "outputs": [
    {
     "name": "stdout",
     "output_type": "stream",
     "text": [
      "stdin:6\n",
      "55340232221128654848"
     ]
    }
   ],
   "source": [
    "    print(\"9223372036854775808\".toBigInteger() * readLine()!!.toBigInteger())"
   ]
  },
  {
   "cell_type": "code",
   "execution_count": 3,
   "id": "6f76d8c6",
   "metadata": {},
   "outputs": [
    {
     "name": "stdout",
     "output_type": "stream",
     "text": [
      "stdin:2\n",
      "stdin:3\n",
      "3"
     ]
    }
   ],
   "source": [
    "    val a = readLine()!!.toBigInteger()\n",
    "    val b = readLine()!!.toBigInteger()\n",
    "    print(if (a - b == (a - b).abs()) a else b)"
   ]
  },
  {
   "cell_type": "code",
   "execution_count": 5,
   "id": "4d4312b0",
   "metadata": {},
   "outputs": [
    {
     "name": "stdout",
     "output_type": "stream",
     "text": [
      "stdin:12345678908765\n",
      "stdin:1243256574895\n",
      "90% 9%"
     ]
    }
   ],
   "source": [
    "    val a = readLine()!!.toBigInteger()\n",
    "    val b = readLine()!!.toBigInteger()\n",
    "    val sum = a + b\n",
    "    print(\"${a * \"100\".toBigInteger() / sum}% ${b * \"100\".toBigInteger() / sum}%\")"
   ]
  },
  {
   "cell_type": "code",
   "execution_count": 7,
   "id": "474690c5",
   "metadata": {},
   "outputs": [
    {
     "name": "stdout",
     "output_type": "stream",
     "text": [
      "stdin:4\n",
      "stdin:6\n",
      "12"
     ]
    }
   ],
   "source": [
    "    val a = readLine()!!.toBigInteger()\n",
    "    val b = readLine()!!.toBigInteger()\n",
    "    print(a * b / a.gcd(b))"
   ]
  },
  {
   "cell_type": "code",
   "execution_count": 8,
   "id": "62c7f1d4",
   "metadata": {
    "scrolled": true
   },
   "outputs": [
    {
     "name": "stdout",
     "output_type": "stream",
     "text": [
      "stdin:-99999999999999999\n",
      "stdin:10000000000000000\n",
      "stdin:20000000000000000\n",
      "stdin:999999999999999999999\n",
      "999999999999000010000000000000001"
     ]
    }
   ],
   "source": [
    "    val a = readLine()!!.toBigInteger()\n",
    "    val b = readLine()!!.toBigInteger()\n",
    "    val c = readLine()!!.toBigInteger()\n",
    "    val d = readLine()!!.toBigInteger()\n",
    "    print((-a) * b + c - d)"
   ]
  },
  {
   "cell_type": "code",
   "execution_count": 9,
   "id": "8c1d878f",
   "metadata": {
    "scrolled": true
   },
   "outputs": [
    {
     "name": "stdout",
     "output_type": "stream",
     "text": [
      "stdin:10000\n",
      "stdin:10\n",
      "10000 = 10 * 1000 + 0"
     ]
    }
   ],
   "source": [
    "    val a = readLine()!!.toBigInteger()\n",
    "    val b = readLine()!!.toBigInteger()\n",
    "    val divs = a.divideAndRemainder(b)\n",
    "    print(\"$a = $b * ${divs[0]} + ${divs[1]}\")"
   ]
  },
  {
   "cell_type": "markdown",
   "id": "d00e6bdb",
   "metadata": {},
   "source": [
    "#  BigDecimal"
   ]
  },
  {
   "cell_type": "code",
   "execution_count": 11,
   "id": "2d578fa7",
   "metadata": {},
   "outputs": [],
   "source": [
    "import java.math.BigDecimal\n",
    "import java.math.RoundingMode"
   ]
  },
  {
   "cell_type": "code",
   "execution_count": 15,
   "id": "a17c0f23",
   "metadata": {},
   "outputs": [
    {
     "name": "stdout",
     "output_type": "stream",
     "text": [
      "stdin:-3.5\n",
      "stdin:0\n",
      "-3"
     ]
    }
   ],
   "source": [
    "    val n = BigDecimal(readLine()!!)\n",
    "    val s = readLine()!!.toInt()\n",
    "    print(n.setScale(s, RoundingMode.HALF_DOWN))"
   ]
  },
  {
   "cell_type": "code",
   "execution_count": 16,
   "id": "b65f1532",
   "metadata": {
    "scrolled": true
   },
   "outputs": [
    {
     "name": "stdout",
     "output_type": "stream",
     "text": [
      "stdin:7.00000000000000000000000000000001\n",
      "stdin:8.7777777777777772\n",
      "stdin:1.999999999999999999999999999999999999\n",
      "17.777777777777777200000000000000009999"
     ]
    }
   ],
   "source": [
    "    val a = BigDecimal(readLine()!!)\n",
    "    val b = BigDecimal(readLine()!!)\n",
    "    val c = BigDecimal(readLine()!!)\n",
    "    print(a + b + c)"
   ]
  },
  {
   "cell_type": "code",
   "execution_count": 18,
   "id": "677637e6",
   "metadata": {},
   "outputs": [
    {
     "name": "stdout",
     "output_type": "stream",
     "text": [
      "stdin:5\n",
      "stdin:7\n",
      "stdin:37526473596845785096598544.53653879640578\n",
      "74419847553764131971306604121955997068263667521223929875384270904246170594749834378402002773234134253669551441686239041688640731.20299303904338981602574055560375707"
     ]
    }
   ],
   "source": [
    "    var p = readLine()!!.toInt()\n",
    "    val s = readLine()!!.toInt()\n",
    "    var n = BigDecimal(readLine()!!)\n",
    "    n = n.setScale(s, RoundingMode.FLOOR)\n",
    "    var result = BigDecimal(\"1\")\n",
    "    while (p > 0) {\n",
    "        result *= n\n",
    "        p--\n",
    "    }\n",
    "    print(result)"
   ]
  },
  {
   "cell_type": "code",
   "execution_count": 20,
   "id": "b8f5f7a6",
   "metadata": {},
   "outputs": [
    {
     "name": "stdout",
     "output_type": "stream",
     "text": [
      "stdin:100000000000000000000.000000000000001\n",
      "stdin:-6\n",
      "stdin:34364356335.00000001\n",
      "33333333344788118776"
     ]
    }
   ],
   "source": [
    "    val a = BigDecimal(readLine()!!)\n",
    "    val b = BigDecimal(readLine()!!)\n",
    "    val c = BigDecimal(readLine()!!)\n",
    "    print(((a + b + c) / BigDecimal(\"3\")).setScale(0, RoundingMode.DOWN))"
   ]
  },
  {
   "cell_type": "code",
   "execution_count": 21,
   "id": "af2df10d",
   "metadata": {},
   "outputs": [
    {
     "name": "stdout",
     "output_type": "stream",
     "text": [
      "-3.001"
     ]
    }
   ],
   "source": [
    "var number = BigDecimal(\"2.001\")\n",
    "number += BigDecimal.ONE\n",
    "number = -number\n",
    "number.setScale(1, RoundingMode.HALF_DOWN)\n",
    "print(number)"
   ]
  },
  {
   "cell_type": "code",
   "execution_count": 26,
   "id": "26292d2e",
   "metadata": {},
   "outputs": [
    {
     "name": "stdout",
     "output_type": "stream",
     "text": [
      "stdin:100000.2\n",
      "stdin:20\n",
      "stdin:1\n",
      "Amount of money in the account: 120000.24"
     ]
    }
   ],
   "source": [
    "    val startingAmount = BigDecimal(readLine()!!)\n",
    "    val yearlyPercent = BigDecimal(readLine()!!)\n",
    "    var years = readLine()!!.toInt()\n",
    "    val n = BigDecimal.ONE + yearlyPercent.setScale(2 + yearlyPercent.scale()) / BigDecimal(\"100\")\n",
    "    var result = BigDecimal.ONE\n",
    "    while (years > 0) {\n",
    "        result *= n\n",
    "        years--\n",
    "    }\n",
    "    result *= startingAmount\n",
    "    print(\"Amount of money in the account: ${result.setScale(2, RoundingMode.CEILING)}\")"
   ]
  },
  {
   "cell_type": "markdown",
   "id": "670c8f99",
   "metadata": {},
   "source": [
    "# Function references"
   ]
  },
  {
   "cell_type": "code",
   "execution_count": 29,
   "id": "aeaceb7f",
   "metadata": {},
   "outputs": [
    {
     "name": "stdout",
     "output_type": "stream",
     "text": [
      "stdin:desc\n",
      "stdin:3 6 3 2 6 2\n",
      "6 6 3 3 2 2 "
     ]
    }
   ],
   "source": [
    "fun aComp(a: Int, b: Int) = if (a < b) a else b \n",
    "\n",
    "fun dComp(a: Int, b: Int) = if (a > b) a else b\n",
    "\n",
    "fun sort(array: MutableList<Int>, comparator: (Int, Int) -> Int) {\n",
    "    for (i in 0 until array.size - 1) {\n",
    "        for (j in 0 until array.size - i - 1) {\n",
    "            if (comparator(array[j], array[j + 1]) == array[j + 1]) {\n",
    "                val temp = array[j]\n",
    "                array[j] = array[j + 1]\n",
    "                array[j + 1] = temp\n",
    "            }\n",
    "        }\n",
    "    }\n",
    "}\n",
    "\n",
    "    val isAscending: Boolean = readLine()!! == \"ascending\"\n",
    "    val list: MutableList<Int> = readLine()!!.split(' ').map { it.toInt() }.toMutableList()\n",
    "\n",
    "    val comparator: (Int, Int) -> Int = if (isAscending) ::aComp else ::dComp\n",
    "\n",
    "    sort(list, comparator)\n",
    "    list.forEach { e -> print(\"$e \") }"
   ]
  },
  {
   "cell_type": "code",
   "execution_count": 30,
   "id": "49a4fa2a",
   "metadata": {
    "collapsed": true
   },
   "outputs": [
    {
     "name": "stdout",
     "output_type": "stream",
     "text": [
      "stdin:3\n",
      "stdin:Jack Ford 3-14-32 jafo@eke.bi\n",
      "Employee 1\n",
      "full name: Jack Ford\n",
      "tel. num: 3-14-32\n",
      "email: jafo@eke.bi\n",
      "stdin:Mar Dle 0 ex@dlm.ds\n",
      "Employee 2\n",
      "full name: Mar Dle\n",
      "tel. num: 0\n",
      "email: ex@dlm.ds\n",
      "stdin:Ere Xpen 0 zen@cme.re\n",
      "Employee 3\n",
      "full name: Ere Xpen\n",
      "tel. num: 0\n",
      "email: zen@cme.re\n"
     ]
    }
   ],
   "source": [
    "class Employee(val id: Int, val name: String, val lastName: String, val telNum: String, val email: String) {\n",
    "\n",
    "    fun printData() {\n",
    "        println(\"Employee $id\")\n",
    "        println(\"full name: $name $lastName\")\n",
    "        println(\"tel. num: $telNum\")\n",
    "        println(\"email: $email\")\n",
    "    }\n",
    "}\n",
    "\n",
    "fun createEmployees(employeeCreator: (Int, String, String, String, String) -> Employee, count: Int) {\n",
    "    for (i in 1..count) {\n",
    "        val (name, lastName, telNum, email) = readLine()!!.split(' ').toList()\n",
    "        val newEmployee = Employee(i, name, lastName, telNum, email)\n",
    "        newEmployee.printData()\n",
    "    }\n",
    "}\n",
    "\n",
    "    val count = readLine()!!.toInt() \n",
    "    createEmployees(::Employee, count)"
   ]
  },
  {
   "cell_type": "code",
   "execution_count": 32,
   "id": "207b6c26",
   "metadata": {},
   "outputs": [
    {
     "name": "stdout",
     "output_type": "stream",
     "text": [
      "stdin:1 2 3 4 5\n",
      "2 12 6 14 10 "
     ]
    }
   ],
   "source": [
    "fun multiplyByTwo(number: Int): Int {\n",
    "    return number * 2\n",
    "}\n",
    "\n",
    "fun addTen(number: Int): Int {\n",
    "    return number + 10\n",
    "}\n",
    "\n",
    "fun changeNumber(changeFunction: (Int) -> Int, number: Int) {\n",
    "    val newNumber = changeFunction(number)\n",
    "    print(\"$newNumber \")\n",
    "}\n",
    "\n",
    "\n",
    "    val numbers = readLine()!!.split(' ').map { it.toInt() }.toList()\n",
    "    for (number in numbers) {\n",
    "        changeNumber(if (number % 2 == 0) ::addTen else ::multiplyByTwo, number)\n",
    "    }"
   ]
  },
  {
   "cell_type": "code",
   "execution_count": 34,
   "id": "91182311",
   "metadata": {},
   "outputs": [
    {
     "name": "stdout",
     "output_type": "stream",
     "text": [
      "stdin:3\n",
      "stdin:5\n",
      "stdin:add\n",
      "8"
     ]
    }
   ],
   "source": [
    "fun add(x: Int, y: Int) = x + y\n",
    "\n",
    "fun subtract(x: Int, y: Int) = x - y\n",
    "\n",
    "fun divide(x: Int, y: Int) = x / y\n",
    "\n",
    "fun multiply(x: Int, y: Int) = x * y\n",
    "\n",
    "fun calculate(x: Int, y: Int, operator: (Int, Int) -> Int) = operator(x, y)\n",
    "\n",
    "\n",
    "    val x: Int = readLine()!!.toInt()\n",
    "    val y: Int = readLine()!!.toInt()\n",
    "    val operator: String = readLine()!!\n",
    "    print(calculate(x, y, when (operator) {\n",
    "                \"add\" -> ::add\n",
    "                \"subtract\" -> ::subtract\n",
    "                \"multiply\" -> ::multiply\n",
    "                else -> ::divide\n",
    "            }\n",
    "        )\n",
    "    )"
   ]
  },
  {
   "cell_type": "markdown",
   "id": "baa54699",
   "metadata": {},
   "source": [
    "# Mutable List"
   ]
  },
  {
   "cell_type": "code",
   "execution_count": 11,
   "id": "cd50622b",
   "metadata": {},
   "outputs": [
    {
     "data": {
      "text/plain": [
       "[a, b, d]"
      ]
     },
     "execution_count": 11,
     "metadata": {},
     "output_type": "execute_result"
    }
   ],
   "source": [
    "fun solution(elements: MutableList<String>, index: Int): MutableList<String> {\n",
    "    elements.removeAt(index)\n",
    "    return elements\n",
    "}\n",
    "\n",
    "solution(mutableListOf(\"a\", \"b\", \"c\", \"d\"), 2)"
   ]
  },
  {
   "cell_type": "code",
   "execution_count": 12,
   "id": "978f2bc4",
   "metadata": {},
   "outputs": [
    {
     "data": {
      "text/plain": [
       "[a, b, Banana, d]"
      ]
     },
     "execution_count": 12,
     "metadata": {},
     "output_type": "execute_result"
    }
   ],
   "source": [
    "fun solution(strings: MutableList<String>, str: String): MutableList<String> {\n",
    "    for (i in 0 until strings.size) {\n",
    "        if (strings[i] == str) {\n",
    "            strings[i] = \"Banana\"\n",
    "        }\n",
    "    }\n",
    "    return strings\n",
    "}\n",
    "\n",
    "solution(mutableListOf(\"a\", \"b\", \"c\", \"d\"), \"c\")"
   ]
  },
  {
   "cell_type": "code",
   "execution_count": 14,
   "id": "dee107e6",
   "metadata": {},
   "outputs": [
    {
     "data": {
      "text/plain": [
       "[1, 2, 3, 4, 5]"
      ]
     },
     "execution_count": 14,
     "metadata": {},
     "output_type": "execute_result"
    }
   ],
   "source": [
    "fun solution(first: List<Int>, second: List<Int>): MutableList<Int> {\n",
    "    val result = MutableList(0) { 0 }\n",
    "    for (el in first) {\n",
    "        result.add(el)\n",
    "    }\n",
    "    for (el in second) {\n",
    "        result.add(el)\n",
    "    }\n",
    "    return result\n",
    "}\n",
    "\n",
    "solution(listOf(1, 2, 3), listOf(4, 5))"
   ]
  },
  {
   "cell_type": "code",
   "execution_count": 15,
   "id": "d7242ea9",
   "metadata": {},
   "outputs": [
    {
     "data": {
      "text/plain": [
       "[1, 2, 3, 4]"
      ]
     },
     "execution_count": 15,
     "metadata": {},
     "output_type": "execute_result"
    }
   ],
   "source": [
    "fun solution(numbers: List<Int>, number: Int): MutableList<Int> {\n",
    "    val result = numbers.toMutableList()\n",
    "    result.add(number)\n",
    "    return result\n",
    "}\n",
    "\n",
    "solution(listOf(1, 2, 3), 4)"
   ]
  },
  {
   "cell_type": "code",
   "execution_count": 17,
   "id": "530f5f16",
   "metadata": {},
   "outputs": [
    {
     "data": {
      "text/plain": [
       "[Potato, Milk, Big Chungus]"
      ]
     },
     "execution_count": 17,
     "metadata": {},
     "output_type": "execute_result"
    }
   ],
   "source": [
    "val shoppingList = mutableListOf(\"Potato\", \"Milk\", \"Eggs\")\n",
    "shoppingList.set(2, \"Big Chungus\")\n",
    "shoppingList"
   ]
  },
  {
   "cell_type": "markdown",
   "id": "d6873de4",
   "metadata": {},
   "source": [
    "# Nullable and non-nullable types"
   ]
  },
  {
   "cell_type": "code",
   "execution_count": 10,
   "id": "75b6798e",
   "metadata": {},
   "outputs": [
    {
     "name": "stdout",
     "output_type": "stream",
     "text": [
      "stdin:\n",
      "-1"
     ]
    }
   ],
   "source": [
    "    val line: String? = readLine()\n",
    "    if (line != null) {\n",
    "        print(line.length)\n",
    "    } else {\n",
    "        print(-1)\n",
    "    }"
   ]
  },
  {
   "cell_type": "markdown",
   "id": "acad4aa1",
   "metadata": {},
   "source": [
    "# Null safety "
   ]
  },
  {
   "cell_type": "code",
   "execution_count": 9,
   "id": "1c068a57",
   "metadata": {
    "collapsed": true
   },
   "outputs": [
    {
     "name": "stdout",
     "output_type": "stream",
     "text": [
      "stdin:\n"
     ]
    },
    {
     "name": "stderr",
     "output_type": "stream",
     "text": [
      "java.lang.IllegalStateException\r\n",
      "java.lang.IllegalStateException: java.lang.IllegalStateException\r\n",
      "\tat Line_352.<init>(Line_352.jupyter-kts:1)\r\n",
      "\tat java.base/jdk.internal.reflect.NativeConstructorAccessorImpl.newInstance0(Native Method)\r\n",
      "\tat java.base/jdk.internal.reflect.NativeConstructorAccessorImpl.newInstance(NativeConstructorAccessorImpl.java:77)\r\n",
      "\tat java.base/jdk.internal.reflect.DelegatingConstructorAccessorImpl.newInstance(DelegatingConstructorAccessorImpl.java:45)\r\n",
      "\tat java.base/java.lang.reflect.Constructor.newInstanceWithCaller(Constructor.java:499)\r\n",
      "\tat java.base/java.lang.reflect.Constructor.newInstance(Constructor.java:480)\r\n",
      "\tat kotlin.script.experimental.jvm.BasicJvmScriptEvaluator.evalWithConfigAndOtherScriptsResults(BasicJvmScriptEvaluator.kt:100)\r\n",
      "\tat kotlin.script.experimental.jvm.BasicJvmScriptEvaluator.invoke$suspendImpl(BasicJvmScriptEvaluator.kt:47)\r\n",
      "\tat kotlin.script.experimental.jvm.BasicJvmScriptEvaluator.invoke(BasicJvmScriptEvaluator.kt)\r\n",
      "\tat kotlin.script.experimental.jvm.BasicJvmReplEvaluator.eval(BasicJvmReplEvaluator.kt:49)\r\n",
      "\tat org.jetbrains.kotlinx.jupyter.repl.impl.InternalEvaluatorImpl$eval$resultWithDiagnostics$1.invokeSuspend(InternalEvaluatorImpl.kt:99)\r\n",
      "\tat kotlin.coroutines.jvm.internal.BaseContinuationImpl.resumeWith(ContinuationImpl.kt:33)\r\n",
      "\tat kotlinx.coroutines.DispatchedTask.run(DispatchedTask.kt:106)\r\n",
      "\tat kotlinx.coroutines.EventLoopImplBase.processNextEvent(EventLoop.common.kt:279)\r\n",
      "\tat kotlinx.coroutines.BlockingCoroutine.joinBlocking(Builders.kt:85)\r\n",
      "\tat kotlinx.coroutines.BuildersKt__BuildersKt.runBlocking(Builders.kt:59)\r\n",
      "\tat kotlinx.coroutines.BuildersKt.runBlocking(Unknown Source)\r\n",
      "\tat kotlinx.coroutines.BuildersKt__BuildersKt.runBlocking$default(Builders.kt:38)\r\n",
      "\tat kotlinx.coroutines.BuildersKt.runBlocking$default(Unknown Source)\r\n",
      "\tat org.jetbrains.kotlinx.jupyter.repl.impl.InternalEvaluatorImpl.eval(InternalEvaluatorImpl.kt:99)\r\n",
      "\tat org.jetbrains.kotlinx.jupyter.repl.impl.CellExecutorImpl$execute$1$result$1.invoke(CellExecutorImpl.kt:63)\r\n",
      "\tat org.jetbrains.kotlinx.jupyter.repl.impl.CellExecutorImpl$execute$1$result$1.invoke(CellExecutorImpl.kt:62)\r\n",
      "\tat org.jetbrains.kotlinx.jupyter.ReplForJupyterImpl.withHost(repl.kt:604)\r\n",
      "\tat org.jetbrains.kotlinx.jupyter.repl.impl.CellExecutorImpl.execute(CellExecutorImpl.kt:62)\r\n",
      "\tat org.jetbrains.kotlinx.jupyter.repl.CellExecutor$DefaultImpls.execute$default(CellExecutor.kt:13)\r\n",
      "\tat org.jetbrains.kotlinx.jupyter.ReplForJupyterImpl$evalEx$1.invoke(repl.kt:424)\r\n",
      "\tat org.jetbrains.kotlinx.jupyter.ReplForJupyterImpl$evalEx$1.invoke(repl.kt:413)\r\n",
      "\tat org.jetbrains.kotlinx.jupyter.ReplForJupyterImpl.withEvalContext(repl.kt:377)\r\n",
      "\tat org.jetbrains.kotlinx.jupyter.ReplForJupyterImpl.evalEx(repl.kt:413)\r\n",
      "\tat org.jetbrains.kotlinx.jupyter.ReplForJupyterImpl.eval(repl.kt:461)\r\n",
      "\tat org.jetbrains.kotlinx.jupyter.messaging.ProtocolKt$shellMessagesHandler$res$1.invoke(protocol.kt:301)\r\n",
      "\tat org.jetbrains.kotlinx.jupyter.messaging.ProtocolKt$shellMessagesHandler$res$1.invoke(protocol.kt:300)\r\n",
      "\tat org.jetbrains.kotlinx.jupyter.JupyterConnection$runExecution$execThread$1.invoke(connection.kt:180)\r\n",
      "\tat org.jetbrains.kotlinx.jupyter.JupyterConnection$runExecution$execThread$1.invoke(connection.kt:178)\r\n",
      "\tat kotlin.concurrent.ThreadsKt$thread$thread$1.run(Thread.kt:30)\r\n"
     ]
    }
   ],
   "source": [
    "        val line = readLine() ?: error(IllegalStateException())\n",
    "        print(\"Elvis says: $line\")"
   ]
  },
  {
   "cell_type": "code",
   "execution_count": 12,
   "id": "dd7c6f45",
   "metadata": {},
   "outputs": [
    {
     "name": "stdout",
     "output_type": "stream",
     "text": [
      "stdin:danger\n",
      "0\n"
     ]
    }
   ],
   "source": [
    "fun check(name: String): String? {\n",
    "    return if (name.length > 5) null else name\n",
    "}\n",
    "\n",
    "    val argument = readLine()!!\n",
    "    println(check(argument)?.length ?: 0)"
   ]
  },
  {
   "cell_type": "code",
   "execution_count": 16,
   "id": "a055ba1d",
   "metadata": {
    "scrolled": true
   },
   "outputs": [
    {
     "name": "stdout",
     "output_type": "stream",
     "text": [
      "stdin:1232134\n",
      "0\n"
     ]
    }
   ],
   "source": [
    "    val number = readLine()!!.toInt()\n",
    "    println(round(number) ?: 0)\n",
    "\n",
    "fun round(number: Int): Int? {\n",
    "    return if (number >= 1000) null else number\n",
    "}"
   ]
  },
  {
   "cell_type": "markdown",
   "id": "8b3ee7b2",
   "metadata": {},
   "source": [
    "# Type system"
   ]
  },
  {
   "cell_type": "code",
   "execution_count": 4,
   "id": "3160c415",
   "metadata": {},
   "outputs": [
    {
     "data": {
      "text/plain": [
       "56"
      ]
     },
     "execution_count": 4,
     "metadata": {},
     "output_type": "execute_result"
    }
   ],
   "source": [
    "fun reverse(input: Int?): Int = if (input == null) -1 else input.toString().reversed().toInt()\n",
    "\n",
    "reverse(650)"
   ]
  },
  {
   "cell_type": "code",
   "execution_count": 6,
   "id": "303fff15",
   "metadata": {},
   "outputs": [
    {
     "data": {
      "text/plain": [
       "6"
      ]
     },
     "execution_count": 6,
     "metadata": {},
     "output_type": "execute_result"
    }
   ],
   "source": [
    "fun getLength(input: String?): Int = if (input == null) -1 else input.length\n",
    "\n",
    "getLength(\"amogus\")"
   ]
  },
  {
   "cell_type": "code",
   "execution_count": 4,
   "id": "723342ac",
   "metadata": {},
   "outputs": [
    {
     "data": {
      "text/plain": [
       "kj32jsd"
      ]
     },
     "execution_count": 4,
     "metadata": {},
     "output_type": "execute_result"
    }
   ],
   "source": [
    "fun isNumber(input: String) = if (input.toIntOrNull() == null) input else input.toInt()\n",
    "\n",
    "isNumber(\"kj32jsd\")"
   ]
  },
  {
   "cell_type": "markdown",
   "id": "9b75d16f",
   "metadata": {},
   "source": [
    "# Inheritance "
   ]
  },
  {
   "cell_type": "code",
   "execution_count": 16,
   "id": "0e75475f",
   "metadata": {},
   "outputs": [
    {
     "name": "stdout",
     "output_type": "stream",
     "text": [
      "stdin:3\n",
      "stdin:100\n",
      "120\n"
     ]
    }
   ],
   "source": [
    "val MAXPRICE = 1_000_000\n",
    "\n",
    "open class House(val rooms: Int, val price: Int) {\n",
    "    var coefficient = 0.0\n",
    "}\n",
    "\n",
    "class Cabin(rooms: Int, price: Int) : House(rooms, price) {\n",
    "    init {\n",
    "        coefficient = 1.0\n",
    "    } \n",
    "}\n",
    "\n",
    "class Bungalow(rooms: Int, price: Int) : House(rooms, price) {\n",
    "    init {\n",
    "        coefficient = 1.2\n",
    "    } \n",
    "}\n",
    "\n",
    "class Cottage(rooms: Int, price: Int) : House(rooms, price) {\n",
    "    init {\n",
    "        coefficient = 1.25\n",
    "    } \n",
    "}\n",
    "\n",
    "class Mansion(rooms: Int, price: Int) : House(rooms, price) {\n",
    "    init {\n",
    "        coefficient = 1.4\n",
    "    } \n",
    "}\n",
    "\n",
    "class Palace(rooms: Int, price: Int) : House(rooms, price) {\n",
    "    init {\n",
    "        coefficient = 1.6\n",
    "    } \n",
    "}\n",
    "\n",
    "fun totalPrice(a: House) = a.price * a.coefficient\n",
    "\n",
    "    val rooms = readLine()!!.toInt()\n",
    "    var price = readLine()!!.toInt()\n",
    "    price = if (price < 0) 0 else if (price > MAXPRICE) MAXPRICE else price\n",
    "    val house = when (rooms) {\n",
    "        2, 3 -> Bungalow(rooms, price)\n",
    "        4 -> Cottage(rooms, price)\n",
    "        5, 6, 7 -> Mansion(rooms, price)\n",
    "        else -> if (rooms > 1) Palace(rooms, price) else Cabin(rooms, price)\n",
    "    }\n",
    "    println(totalPrice(house).toInt())"
   ]
  },
  {
   "cell_type": "code",
   "execution_count": 18,
   "id": "f2d06bc3",
   "metadata": {},
   "outputs": [
    {
     "name": "stdout",
     "output_type": "stream",
     "text": [
      "stdin:tv\n",
      "stdin:200\n",
      "234\n"
     ]
    }
   ],
   "source": [
    "open class Product(val price: Int) {\n",
    "    var tax = 0.0\n",
    "}\n",
    "\n",
    "class Headphones(price: Int) : Product(price) {\n",
    "    init {\n",
    "        tax = 0.11\n",
    "    }\n",
    "}\n",
    "\n",
    "class Smartphone(price: Int) : Product(price) {\n",
    "    init {\n",
    "        tax = 0.15\n",
    "    }\n",
    "}\n",
    "\n",
    "class Tv(price: Int) : Product(price) {\n",
    "    init {\n",
    "        tax = 0.17\n",
    "    }\n",
    "}\n",
    "\n",
    "class Laptop(price: Int) : Product(price) {\n",
    "    init {\n",
    "        tax = 0.19\n",
    "    }\n",
    "}\n",
    "\n",
    "fun totalPrice(a: Product) = a.price + a.price * a.tax\n",
    "\n",
    "    val productType = readLine()!!\n",
    "    val price = readLine()!!.toInt()\n",
    "    val product = when (productType) {\n",
    "        \"smartphone\" -> Smartphone(price)\n",
    "        \"tv\" -> Tv(price)\n",
    "        \"laptop\" -> Laptop(price)\n",
    "        else -> Headphones(price)\n",
    "    }\n",
    "    println(totalPrice(product).toInt())"
   ]
  },
  {
   "cell_type": "code",
   "execution_count": 4,
   "id": "d26bcbb1",
   "metadata": {
    "scrolled": true
   },
   "outputs": [
    {
     "name": "stdout",
     "output_type": "stream",
     "text": [
      "age 3, spiny true, age 3\r\n"
     ]
    }
   ],
   "source": [
    "open class Wood(val age: Int) {\n",
    "    fun getWoodInfo(): String {\n",
    "        return \"age $age\"\n",
    "    }\n",
    "}\n",
    "\n",
    "class Pine(val isSpiny: Boolean, age: Int) : Wood(age) {\n",
    "    fun getPineInfo(): String {\n",
    "        return getWoodInfo() + \", spiny $isSpiny\"\n",
    "    }\n",
    "}\n",
    "\n",
    "    val pine = Pine(true, 3)\n",
    "    println(pine.getPineInfo() + \", \" + pine.getWoodInfo())"
   ]
  },
  {
   "cell_type": "markdown",
   "id": "7deeefef",
   "metadata": {},
   "source": [
    "# toString()  "
   ]
  },
  {
   "cell_type": "code",
   "execution_count": 10,
   "id": "9e1b033e",
   "metadata": {},
   "outputs": [
    {
     "name": "stdout",
     "output_type": "stream",
     "text": [
      "BlackTea{cost=2, volume=300}"
     ]
    }
   ],
   "source": [
    "open class Tea(val cost: Int, val volume: Int) {\n",
    "    override fun toString(): String {\n",
    "        return \"cost=$cost, volume=$volume\"\n",
    "    }\n",
    "}\n",
    "\n",
    "class BlackTea(cost: Int, volume: Int) : Tea(cost, volume) {\n",
    "    override fun toString(): String {\n",
    "        return \"BlackTea{cost=$cost, volume=$volume}\"\n",
    "    }\n",
    "}\n",
    "\n",
    "val t = BlackTea(2, 300)\n",
    "print(t)"
   ]
  },
  {
   "cell_type": "markdown",
   "id": "be963d06",
   "metadata": {},
   "source": [
    "# Data class"
   ]
  },
  {
   "cell_type": "code",
   "execution_count": 12,
   "id": "214509f7",
   "metadata": {},
   "outputs": [
    {
     "name": "stdout",
     "output_type": "stream",
     "text": [
      "Line_1051$NotData@73c12879\r\n",
      "Data(a=hello, b=20)\r\n"
     ]
    }
   ],
   "source": [
    "class NotData(val a: String, val b: Int)\n",
    "data class Data(val a: String, val b: Int)\n",
    "\n",
    "val a = NotData(\"hi\", 10)\n",
    "val b = Data(\"hello\", 20)\n",
    "println(a)\n",
    "println(b)"
   ]
  },
  {
   "cell_type": "code",
   "execution_count": 14,
   "id": "aff40da7",
   "metadata": {},
   "outputs": [
    {
     "name": "stdout",
     "output_type": "stream",
     "text": [
      "Box(height=3, width=6, size=30)"
     ]
    }
   ],
   "source": [
    "data class Box(val height: Int, val length: Int, val width: Int) {\n",
    "    var size: Int = height + length + width\n",
    "    override fun toString(): String {\n",
    "        return \"Box(height=$height, width=$width, size=$size)\"\n",
    "    }\n",
    "}\n",
    "\n",
    "print(Box(3, 21, 6))"
   ]
  },
  {
   "cell_type": "code",
   "execution_count": 17,
   "id": "8734de4f",
   "metadata": {},
   "outputs": [
    {
     "name": "stdout",
     "output_type": "stream",
     "text": [
      "stdin:a\n",
      "stdin:1\n",
      "stdin:2\n",
      "stdin:a\n",
      "stdin:1\n",
      "stdin:3\n",
      "true"
     ]
    }
   ],
   "source": [
    "data class Client(val name: String, val age: Int, val balance: Int) {\n",
    "    override fun equals(other: Any?): Boolean {\n",
    "        other as Client\n",
    "        return this.name == other.name && this.age == other.age\n",
    "    }\n",
    "}\n",
    "\n",
    "fun getClient(): Client {\n",
    "    val name = readLine()!!\n",
    "    val age = readLine()!!.toInt()\n",
    "    val balance = readLine()!!.toInt()\n",
    "    return Client(name, age, balance)\n",
    "}\n",
    "    \n",
    "    val a = getClient()\n",
    "    val b = getClient()\n",
    "    print(a.equals(b))"
   ]
  },
  {
   "cell_type": "code",
   "execution_count": 19,
   "id": "ac2eb34c",
   "metadata": {},
   "outputs": [
    {
     "name": "stdout",
     "output_type": "stream",
     "text": [
      "stdin:3\n",
      "stdin:1\n",
      "stdin:4\n",
      "stdin:9\n",
      "Box(height=3, length=1, width=9)\n",
      "Box(height=3, length=4, width=9)\n"
     ]
    }
   ],
   "source": [
    "// do not change this data class\n",
    "data class Box(val height: Int, val length: Int, val width: Int)\n",
    "\n",
    "    val height = readLine()!!.toInt()\n",
    "    val length1 = readLine()!!.toInt()\n",
    "    val length2 = readLine()!!.toInt()\n",
    "    val width = readLine()!!.toInt()\n",
    "    val a = Box(height, length1, width)\n",
    "    val b = a.copy(length = length2)\n",
    "    println(a)\n",
    "    println(b)"
   ]
  }
 ],
 "metadata": {
  "kernelspec": {
   "display_name": "Kotlin",
   "language": "kotlin",
   "name": "kotlin"
  },
  "language_info": {
   "codemirror_mode": "text/x-kotlin",
   "file_extension": ".kt",
   "mimetype": "text/x-kotlin",
   "name": "kotlin",
   "nbconvert_exporter": "",
   "pygments_lexer": "kotlin",
   "version": "1.7.0-dev-1825"
  }
 },
 "nbformat": 4,
 "nbformat_minor": 5
}

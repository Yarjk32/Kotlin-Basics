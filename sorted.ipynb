{
 "cells": [
  {
   "cell_type": "markdown",
   "id": "94c8dc99",
   "metadata": {},
   "source": [
    "# Relational operators "
   ]
  },
  {
   "cell_type": "code",
   "execution_count": 6,
   "id": "8941667e",
   "metadata": {},
   "outputs": [
    {
     "name": "stdout",
     "output_type": "stream",
     "text": [
      "stdin:2\n",
      "stdin:6\n",
      "stdin:14\n",
      "true"
     ]
    }
   ],
   "source": [
    "    val a = readLine()!!.toInt()\n",
    "    val b = readLine()!!.toInt()\n",
    "    val c = readLine()!!.toInt()\n",
    "    print(a + b == 20 || a + c == 20 || b + c == 20)"
   ]
  },
  {
   "cell_type": "markdown",
   "id": "9d691682",
   "metadata": {},
   "source": [
    "# Work with MutableLists"
   ]
  },
  {
   "cell_type": "code",
   "execution_count": 1,
   "id": "7054cb61",
   "metadata": {
    "collapsed": true
   },
   "outputs": [
    {
     "name": "stderr",
     "output_type": "stream",
     "text": [
      "Java heap space\r\n",
      "java.lang.OutOfMemoryError: Java heap space\r\n",
      "\tat java.base/java.util.Arrays.copyOf(Arrays.java:3481)\r\n",
      "\tat java.base/java.util.ArrayList.grow(ArrayList.java:237)\r\n",
      "\tat java.base/java.util.ArrayList.grow(ArrayList.java:244)\r\n",
      "\tat java.base/java.util.ArrayList.add(ArrayList.java:454)\r\n",
      "\tat java.base/java.util.ArrayList.add(ArrayList.java:467)\r\n",
      "\tat Line_0.<init>(Line_0.jupyter-kts:3)\r\n",
      "\tat java.base/jdk.internal.reflect.NativeConstructorAccessorImpl.newInstance0(Native Method)\r\n",
      "\tat java.base/jdk.internal.reflect.NativeConstructorAccessorImpl.newInstance(NativeConstructorAccessorImpl.java:77)\r\n",
      "\tat java.base/jdk.internal.reflect.DelegatingConstructorAccessorImpl.newInstance(DelegatingConstructorAccessorImpl.java:45)\r\n",
      "\tat java.base/java.lang.reflect.Constructor.newInstanceWithCaller(Constructor.java:499)\r\n",
      "\tat java.base/java.lang.reflect.Constructor.newInstance(Constructor.java:480)\r\n",
      "\tat kotlin.script.experimental.jvm.BasicJvmScriptEvaluator.evalWithConfigAndOtherScriptsResults(BasicJvmScriptEvaluator.kt:100)\r\n",
      "\tat kotlin.script.experimental.jvm.BasicJvmScriptEvaluator.invoke$suspendImpl(BasicJvmScriptEvaluator.kt:47)\r\n",
      "\tat kotlin.script.experimental.jvm.BasicJvmScriptEvaluator.invoke(BasicJvmScriptEvaluator.kt)\r\n",
      "\tat kotlin.script.experimental.jvm.BasicJvmReplEvaluator.eval(BasicJvmReplEvaluator.kt:49)\r\n",
      "\tat org.jetbrains.kotlinx.jupyter.repl.impl.InternalEvaluatorImpl$eval$resultWithDiagnostics$1.invokeSuspend(InternalEvaluatorImpl.kt:99)\r\n",
      "\tat kotlin.coroutines.jvm.internal.BaseContinuationImpl.resumeWith(ContinuationImpl.kt:33)\r\n",
      "\tat kotlinx.coroutines.DispatchedTask.run(DispatchedTask.kt:106)\r\n",
      "\tat kotlinx.coroutines.EventLoopImplBase.processNextEvent(EventLoop.common.kt:274)\r\n",
      "\tat kotlinx.coroutines.BlockingCoroutine.joinBlocking(Builders.kt:85)\r\n",
      "\tat kotlinx.coroutines.BuildersKt__BuildersKt.runBlocking(Builders.kt:59)\r\n",
      "\tat kotlinx.coroutines.BuildersKt.runBlocking(Unknown Source)\r\n",
      "\tat kotlinx.coroutines.BuildersKt__BuildersKt.runBlocking$default(Builders.kt:38)\r\n",
      "\tat kotlinx.coroutines.BuildersKt.runBlocking$default(Unknown Source)\r\n",
      "\tat org.jetbrains.kotlinx.jupyter.repl.impl.InternalEvaluatorImpl.eval(InternalEvaluatorImpl.kt:99)\r\n",
      "\tat org.jetbrains.kotlinx.jupyter.repl.impl.CellExecutorImpl$execute$1$result$1.invoke(CellExecutorImpl.kt:64)\r\n",
      "\tat org.jetbrains.kotlinx.jupyter.repl.impl.CellExecutorImpl$execute$1$result$1.invoke(CellExecutorImpl.kt:63)\r\n",
      "\tat org.jetbrains.kotlinx.jupyter.ReplForJupyterImpl.withHost(repl.kt:603)\r\n",
      "\tat org.jetbrains.kotlinx.jupyter.repl.impl.CellExecutorImpl.execute(CellExecutorImpl.kt:63)\r\n",
      "\tat org.jetbrains.kotlinx.jupyter.repl.CellExecutor$DefaultImpls.execute$default(CellExecutor.kt:13)\r\n",
      "\tat org.jetbrains.kotlinx.jupyter.ReplForJupyterImpl$evalEx$1.invoke(repl.kt:423)\r\n",
      "\tat org.jetbrains.kotlinx.jupyter.ReplForJupyterImpl$evalEx$1.invoke(repl.kt:412)\r\n"
     ]
    }
   ],
   "source": [
    "val mas = mutableListOf<Long>(0)\n",
    "while (true) {\n",
    "    mas.add(0)\n",
    "}"
   ]
  },
  {
   "cell_type": "code",
   "execution_count": 2,
   "id": "b97bb5f7",
   "metadata": {},
   "outputs": [
    {
     "data": {
      "text/plain": [
       "[1, 2, 3, 4, 5]"
      ]
     },
     "execution_count": 2,
     "metadata": {},
     "output_type": "execute_result"
    }
   ],
   "source": [
    "val list = mutableListOf(1, 2, 3, 4, 5)\n",
    "val copyList = mutableListOf<Int>()\n",
    "copyList.addAll(list)\n",
    "list[2] = 10\n",
    "copyList"
   ]
  },
  {
   "cell_type": "code",
   "execution_count": 3,
   "id": "0fa291fd",
   "metadata": {},
   "outputs": [
    {
     "data": {
      "text/plain": [
       "2"
      ]
     },
     "execution_count": 3,
     "metadata": {},
     "output_type": "execute_result"
    }
   ],
   "source": [
    "val numbers = mutableListOf(1, 2, 5, 3, 4, 5)\n",
    "numbers.indexOf(5)"
   ]
  },
  {
   "cell_type": "code",
   "execution_count": 4,
   "id": "a7652eef",
   "metadata": {},
   "outputs": [
    {
     "data": {
      "text/plain": [
       "[]"
      ]
     },
     "execution_count": 4,
     "metadata": {},
     "output_type": "execute_result"
    }
   ],
   "source": [
    "val myEmptyList = MutableList<String>(0) { \"\" }\n",
    "myEmptyList"
   ]
  },
  {
   "cell_type": "code",
   "execution_count": 6,
   "id": "dcd14bbb",
   "metadata": {},
   "outputs": [
    {
     "name": "stdout",
     "output_type": "stream",
     "text": [
      "stdin:fdlkdskjskaj dfkfadjjkdfjfdkjad\n",
      "stdin:kasfjkdsafj sdfksdjfakjfew\n",
      "fdlkdskjskaj, dfkfadjjkdfjfdkjad, kasfjkdsafj, sdfksdjfakjfew"
     ]
    }
   ],
   "source": [
    "    val firstList = readLine()!!.split(' ').map { it }.toMutableList()\n",
    "    val secondList = readLine()!!.split(' ').map { it }.toMutableList()\n",
    "    // do not touch the lines above\n",
    "    print((firstList + secondList).joinToString())"
   ]
  },
  {
   "cell_type": "code",
   "execution_count": 3,
   "id": "24e0216d",
   "metadata": {},
   "outputs": [
    {
     "name": "stdout",
     "output_type": "stream",
     "text": [
      "stdin:24 12\n",
      "36 12\n"
     ]
    }
   ],
   "source": [
    "    val numbers = readLine()!!.split(' ').map{it.toInt()}.toMutableList()\n",
    "    // do not touch the lines above\n",
    "    numbers.add(0, numbers.sum())\n",
    "    numbers.removeAt(numbers.lastIndex - 1)\n",
    "    // do not touch the lines below\n",
    "    println(numbers.joinToString(\" \"))"
   ]
  },
  {
   "cell_type": "markdown",
   "id": "814fe945",
   "metadata": {},
   "source": [
    "# For loop and lists"
   ]
  },
  {
   "cell_type": "code",
   "execution_count": 8,
   "id": "d6d1fddf",
   "metadata": {
    "scrolled": true
   },
   "outputs": [
    {
     "name": "stdout",
     "output_type": "stream",
     "text": [
      "Sun\n",
      "Mon\n",
      "Tues\n",
      "Wed\n",
      "Thur\n",
      "Fri\n",
      "Sat\r\n"
     ]
    }
   ],
   "source": [
    "val daysOfWeek = mutableListOf(\"Sun\", \"Mon\", \"Tues\", \"Wed\", \"Thur\", \"Fri\", \"Sat\")\n",
    "println(daysOfWeek.joinToString(\"\\n\"))"
   ]
  },
  {
   "cell_type": "code",
   "execution_count": 9,
   "id": "bfc6785d",
   "metadata": {},
   "outputs": [
    {
     "name": "stdout",
     "output_type": "stream",
     "text": [
      "stdin:5\n",
      "stdin:1\n",
      "stdin:3\n",
      "stdin:5\n",
      "stdin:2\n",
      "stdin:1\n",
      "stdin:1\n",
      "2"
     ]
    }
   ],
   "source": [
    "    val nums: MutableList<Int> = mutableListOf()\n",
    "    val n = readLine()!!.toInt()\n",
    "    var occurs = 0\n",
    "    repeat(n) {\n",
    "        nums.add(readLine()!!.toInt())\n",
    "    }\n",
    "    val toFind = readLine()!!.toInt()\n",
    "    for (el in nums) if (el == toFind) occurs++\n",
    "    print(occurs)"
   ]
  },
  {
   "cell_type": "code",
   "execution_count": 1,
   "id": "75d13687",
   "metadata": {
    "scrolled": true
   },
   "outputs": [
    {
     "name": "stdout",
     "output_type": "stream",
     "text": [
      "stdin:12 24\n",
      "24\n",
      "12\n"
     ]
    }
   ],
   "source": [
    "val (a, b) = readLine()!!.split(' ').map{it.toInt()}\n",
    "println(a * 2)\n",
    "println(b / 2)"
   ]
  },
  {
   "cell_type": "code",
   "execution_count": 10,
   "id": "fb92dcf5",
   "metadata": {
    "scrolled": true
   },
   "outputs": [
    {
     "name": "stdout",
     "output_type": "stream",
     "text": [
      "stdin:3\n",
      "stdin:100\n",
      "stdin:50\n",
      "stdin:50\n",
      "stdin:10\n",
      "stdin:20\n",
      "stdin:10\n",
      "1"
     ]
    }
   ],
   "source": [
    "    val n = readLine()!!.toInt()\n",
    "    val income = MutableList(n) { readLine()!!.toInt() }\n",
    "    val tax = MutableList(n) { readLine()!!.toDouble() / 100 }\n",
    "    var pay = 0.0\n",
    "    var payMax = 0.0\n",
    "    var iMax = -1\n",
    "    for (i in 0 until n) {\n",
    "        pay = income[i] * tax[i]\n",
    "        if (pay > payMax) {\n",
    "            payMax = pay\n",
    "            iMax = i + 1\n",
    "        }\n",
    "    }\n",
    "    print(iMax)"
   ]
  },
  {
   "cell_type": "code",
   "execution_count": 56,
   "id": "ff62eb16",
   "metadata": {},
   "outputs": [
    {
     "name": "stdout",
     "output_type": "stream",
     "text": [
      "stdin:3\n",
      "stdin:1\n",
      "stdin:3\n",
      "stdin:2\n",
      "stdin:3\n",
      "YES"
     ]
    }
   ],
   "source": [
    "    val nums: MutableList<String> = mutableListOf()\n",
    "    val n = readLine()!!.toInt()\n",
    "    repeat(n) {\n",
    "        nums.add(readLine()!!)\n",
    "    }\n",
    "    val toFind = readLine()!!\n",
    "    print(if (toFind in nums) \"YES\" else \"NO\")"
   ]
  },
  {
   "cell_type": "markdown",
   "id": "8516b4a6",
   "metadata": {},
   "source": [
    "# Multi-dimensional list"
   ]
  },
  {
   "cell_type": "code",
   "execution_count": 20,
   "id": "aaab2276",
   "metadata": {},
   "outputs": [
    {
     "data": {
      "text/plain": [
       "[[0, 1, 2], [3, 4, 5, 6], [seven, eight]]"
      ]
     },
     "execution_count": 20,
     "metadata": {},
     "output_type": "execute_result"
    }
   ],
   "source": [
    "val mutList2D = mutableListOf(\n",
    "    mutableListOf<Int>(0, 1, 2),\n",
    "    mutableListOf<Int>(3, 4, 5, 6),\n",
    "    mutableListOf<String>(\"seven\", \"eight\")\n",
    ")\n",
    "mutList2D"
   ]
  },
  {
   "cell_type": "code",
   "execution_count": 12,
   "id": "c18539f8",
   "metadata": {},
   "outputs": [
    {
     "data": {
      "text/plain": [
       "[[[0, 1], [2, 3]], [[4, 5], [6, 7]]]"
      ]
     },
     "execution_count": 12,
     "metadata": {},
     "output_type": "execute_result"
    }
   ],
   "source": [
    "val mutList3D = mutableListOf(\n",
    "    mutableListOf(mutableListOf<Int>(0,1), mutableListOf<Int>(2,3)),\n",
    "    mutableListOf(mutableListOf<Int>(4,5), mutableListOf<Int>(6,7))\n",
    ")\n",
    "mutList3D"
   ]
  },
  {
   "cell_type": "code",
   "execution_count": 21,
   "id": "65f0e19a",
   "metadata": {},
   "outputs": [
    {
     "name": "stderr",
     "output_type": "stream",
     "text": [
      "Line_878.jupyter-kts (1:17 - 30) Not enough information to infer type variable T\n",
      "Line_878.jupyter-kts (2:5 - 18) Not enough information to infer type variable T\n",
      "Line_878.jupyter-kts (3:5 - 18) Not enough information to infer type variable T"
     ]
    }
   ],
   "source": [
    "val mutListMD = mutableListOf(\n",
    "    mutableListOf(),\n",
    "    mutableListOf()\n",
    ")"
   ]
  },
  {
   "cell_type": "code",
   "execution_count": 22,
   "id": "d289f757",
   "metadata": {},
   "outputs": [
    {
     "data": {
      "text/plain": [
       "[[[0, 0, 0], [0, 0, 0], [0, 0, 0]], [[0, 0, 0], [0, 0, 0], [0, 0, 0]], [[0, 0, 0], [0, 0, 0], [0, 0, 0]]]"
      ]
     },
     "execution_count": 22,
     "metadata": {},
     "output_type": "execute_result"
    }
   ],
   "source": [
    "val mutList3D = mutableListOf(\n",
    "mutableListOf(MutableList<Int>(3) { 0 }, MutableList<Int>(3) { 0 }, MutableList<Int>(3) { 0 }),\n",
    "mutableListOf(MutableList<Int>(3) { 0 }, MutableList<Int>(3) { 0 }, MutableList<Int>(3) { 0 }),\n",
    "mutableListOf(MutableList<Int>(3) { 0 }, MutableList<Int>(3) { 0 }, MutableList<Int>(3) { 0 })\n",
    ")\n",
    "mutList3D"
   ]
  },
  {
   "cell_type": "code",
   "execution_count": 23,
   "id": "29686c1c",
   "metadata": {
    "scrolled": true
   },
   "outputs": [
    {
     "name": "stdout",
     "output_type": "stream",
     "text": [
      "stdin:3\n",
      "stdin:1 2 3\n",
      "stdin:4 5 6\n",
      "stdin:7 8 9\n",
      "1 3\n",
      "7 9"
     ]
    }
   ],
   "source": [
    "    //Do not touch code below\n",
    "    var inputList: MutableList<MutableList<String>> = mutableListOf()\n",
    "    val n = readLine()!!.toInt()\n",
    "    for (i in 0 until n) {\n",
    "        val strings = readLine()!!.split(' ').toMutableList()\n",
    "        inputList.add(strings)\n",
    "    }\n",
    "    print(\"${inputList[0][0]} ${inputList[0][n - 1]}\\n${inputList[n - 1][0]} ${inputList[n - 1][n - 1]}\")"
   ]
  },
  {
   "cell_type": "code",
   "execution_count": 62,
   "id": "9b829ad1",
   "metadata": {},
   "outputs": [
    {
     "name": "stdout",
     "output_type": "stream",
     "text": [
      "stdin:3\n",
      "stdin:sdfkl eh er erwo\n",
      "stdin:sfdal;\n",
      "stdin:kfgj eroier iierwo \n",
      "[[kfgj, eroier, iierwo, ], [sdfkl, eh, er, erwo]]"
     ]
    }
   ],
   "source": [
    "    //Do not touch code below\n",
    "    var inputList: MutableList<MutableList<String>> = mutableListOf()\n",
    "    val n = readLine()!!.toInt()\n",
    "    for (i in 0 until n) {\n",
    "        val strings = readLine()!!.split(' ').toMutableList()\n",
    "        inputList.add(strings)\n",
    "    }\n",
    "    print(\"[${inputList.last()}, ${inputList.first()}]\")"
   ]
  },
  {
   "cell_type": "markdown",
   "id": "287b9746",
   "metadata": {},
   "source": [
    "# When expression"
   ]
  },
  {
   "cell_type": "code",
   "execution_count": 30,
   "id": "4ef61874",
   "metadata": {},
   "outputs": [
    {
     "name": "stdout",
     "output_type": "stream",
     "text": [
      "stdin:poewjrhcxv\n",
      "stdin:endsWith\n",
      "stdin:cxv\n",
      "true"
     ]
    }
   ],
   "source": [
    "    val a = readLine()!!\n",
    "    val op = readLine()!!\n",
    "    val b = readLine()!!\n",
    "    print(\n",
    "        when (op) {\n",
    "            \"equals\" -> a == b\n",
    "            \"plus\" -> a + b\n",
    "            \"endsWith\" -> a.endsWith(b)\n",
    "            else -> \"Unknown operation\"\n",
    "        }\n",
    "    )"
   ]
  },
  {
   "cell_type": "code",
   "execution_count": 34,
   "id": "a6335496",
   "metadata": {
    "scrolled": true
   },
   "outputs": [
    {
     "name": "stdout",
     "output_type": "stream",
     "text": [
      "stdin:10\n",
      "T"
     ]
    }
   ],
   "source": [
    "    val a = readLine()!!.toInt()\n",
    "    print(\n",
    "        when (a) {\n",
    "            0, 1, 2, 3, 5, 8, 13, 21, 34, 55 -> 'F'\n",
    "            6, 10, 15, 28, 36, 45 -> 'T'\n",
    "            100, 1000, 10000, 100000 -> 'P'\n",
    "            else -> 'N'\n",
    "        }\n",
    "    )"
   ]
  },
  {
   "cell_type": "code",
   "execution_count": 40,
   "id": "6f1fce40",
   "metadata": {},
   "outputs": [
    {
     "name": "stdout",
     "output_type": "stream",
     "text": [
      "stdin:i123456\n",
      "123457"
     ]
    }
   ],
   "source": [
    "import java.util.Scanner\n",
    "\n",
    "    val scanner = Scanner(System.`in`)\n",
    "    if (scanner.hasNext()) {\n",
    "        val input = scanner.nextLine()\n",
    "        print(\n",
    "            when (input.first()) {\n",
    "                'i' -> input.substring(1).toInt() + 1\n",
    "                's' -> input.substring(1).reversed()\n",
    "                else -> input\n",
    "            }\n",
    "        )\n",
    "    } else {\n",
    "        print(\"\")\n",
    "    }"
   ]
  },
  {
   "cell_type": "code",
   "execution_count": 64,
   "id": "3e2ecd39",
   "metadata": {},
   "outputs": [
    {
     "name": "stdout",
     "output_type": "stream",
     "text": [
      "stdin:4\n",
      "No!"
     ]
    }
   ],
   "source": [
    "    val n = readLine()!!.toInt()\n",
    "    print(\n",
    "        when (n) {\n",
    "            2 -> \"Yes!\"\n",
    "            1, 3, 4 -> \"No!\"\n",
    "            else -> \"Unknown number\"\n",
    "        }\n",
    "    )"
   ]
  },
  {
   "cell_type": "markdown",
   "id": "2574b484",
   "metadata": {},
   "source": [
    "# Floating-point types"
   ]
  },
  {
   "cell_type": "code",
   "execution_count": 1,
   "id": "764ecee6",
   "metadata": {},
   "outputs": [
    {
     "name": "stdout",
     "output_type": "stream",
     "text": [
      "stdin:2\n",
      "stdin:-1\n",
      "stdin:2\n",
      "1.5"
     ]
    }
   ],
   "source": [
    "    val a = readLine()!!.toDouble()\n",
    "    val b = readLine()!!.toDouble()\n",
    "    val c = readLine()!!.toDouble()\n",
    "    print((c - b) / a)"
   ]
  },
  {
   "cell_type": "code",
   "execution_count": 2,
   "id": "b88ee1f2",
   "metadata": {
    "scrolled": true
   },
   "outputs": [
    {
     "name": "stdout",
     "output_type": "stream",
     "text": [
      "stdin:25\n",
      "1963.4375000000002"
     ]
    }
   ],
   "source": [
    "    val r = readLine()!!.toInt()\n",
    "    val pi = 3.1415\n",
    "    print(pi * r * r)"
   ]
  },
  {
   "cell_type": "code",
   "execution_count": 3,
   "id": "01667482",
   "metadata": {},
   "outputs": [
    {
     "name": "stdout",
     "output_type": "stream",
     "text": [
      "stdin:1.7\n",
      "stdin:5.5\n",
      "91.63"
     ]
    }
   ],
   "source": [
    "val G = 9.8\n",
    "\n",
    "    val ro = readLine()!!.toDouble()\n",
    "    val h = readLine()!!.toDouble()\n",
    "    print(ro * G * h)"
   ]
  },
  {
   "cell_type": "markdown",
   "id": "2e2cab92",
   "metadata": {},
   "source": [
    "# Taming exceptions"
   ]
  },
  {
   "cell_type": "code",
   "execution_count": 12,
   "id": "20912baf",
   "metadata": {
    "scrolled": false
   },
   "outputs": [
    {
     "name": "stdout",
     "output_type": "stream",
     "text": [
      "stdin:124253\n",
      "stdin:0\n",
      "Division by zero, please fix the second argument!"
     ]
    }
   ],
   "source": [
    "    val a = readLine()!!.toInt()\n",
    "    val b = readLine()!!.toInt()\n",
    "    print(if (b == 0) \"Division by zero, please fix the second argument!\" else a / b)"
   ]
  },
  {
   "cell_type": "code",
   "execution_count": 56,
   "id": "e3745e32",
   "metadata": {},
   "outputs": [
    {
     "data": {
      "text/plain": [
       "0"
      ]
     },
     "execution_count": 56,
     "metadata": {},
     "output_type": "execute_result"
    }
   ],
   "source": [
    "fun parseCardNumber(cardNumber: String): Long {\n",
    "    var min = 1000_0000_0000_0000\n",
    "    var result = 0L\n",
    "    var i = 0\n",
    "    var startZero = true\n",
    "    for (c in cardNumber) {\n",
    "        when (i) {\n",
    "            in 0..3, in 5..8, in 10..13, in 15..18 ->\n",
    "                if (c in '0'..'9') {\n",
    "                    result = result * 10 + c.toString().toShort()\n",
    "                } else {\n",
    "                    throw Exception(\"At $i no digit was found\")\n",
    "                }\n",
    "            4, 9, 14 ->\n",
    "                if (c != ' ') {\n",
    "                    throw Exception(\"At $i no space was found\")\n",
    "                }\n",
    "            else -> throw Exception(\"Too long input\")\n",
    "        }\n",
    "        if (c != ' ' && startZero) {\n",
    "            if (c != '0') {\n",
    "                startZero = false\n",
    "            } else {\n",
    "                min /= 10\n",
    "            }\n",
    "        }\n",
    "        i++\n",
    "    }\n",
    "    if (result < min) {\n",
    "        throw Exception(\"Too short input\")\n",
    "    }\n",
    "    return result\n",
    "}\n",
    "\n",
    "parseCardNumber(\"0000 0000 0000 0000\")"
   ]
  },
  {
   "cell_type": "markdown",
   "id": "474a16f5",
   "metadata": {},
   "source": [
    "#  The try-catch statement"
   ]
  },
  {
   "cell_type": "code",
   "execution_count": 10,
   "id": "6c6ba83f",
   "metadata": {},
   "outputs": [
    {
     "name": "stdout",
     "output_type": "stream",
     "text": [
      "stdin:ldsfldjdk\n",
      "stdin:0\n",
      "Read values are not integers.\n",
      "0\n"
     ]
    }
   ],
   "source": [
    "fun intDivision(x: String, y: String): Int {\n",
    "    var result: Int\n",
    "    try {\n",
    "        result = x.toInt() / y.toInt()\n",
    "    } catch (e: NumberFormatException) {\n",
    "        println(\"Read values are not integers.\")\n",
    "        result = 0\n",
    "    } catch (e: ArithmeticException) {\n",
    "        println(\"Exception: division by zero!\")\n",
    "        result = 0\n",
    "    }\n",
    "    return result.toInt()\n",
    "}\n",
    "\n",
    "val x = readLine()!!\n",
    "val y = readLine()!!\n",
    "println(intDivision(x, y))"
   ]
  },
  {
   "cell_type": "code",
   "execution_count": 12,
   "id": "10e08b56",
   "metadata": {},
   "outputs": [
    {
     "data": {
      "text/plain": [
       "The input word is too short!"
      ]
     },
     "execution_count": 12,
     "metadata": {},
     "output_type": "execute_result"
    }
   ],
   "source": [
    "fun printFifthCharacter(input: String): String {\n",
    "    try {\n",
    "        input[4]\n",
    "    } catch (e: StringIndexOutOfBoundsException) {\n",
    "        return \"The input word is too short!\"\n",
    "    }\n",
    "    return \"The fifth character of the entered word is ${input[4]}\"\n",
    "}\n",
    "\n",
    "printFifthCharacter(\"meme\")"
   ]
  },
  {
   "cell_type": "code",
   "execution_count": 15,
   "id": "b97d3848",
   "metadata": {},
   "outputs": [
    {
     "data": {
      "text/plain": [
       "0.0"
      ]
     },
     "execution_count": 15,
     "metadata": {},
     "output_type": "execute_result"
    }
   ],
   "source": [
    "fun convertStringToDouble(input: String): Double {\n",
    "    try {\n",
    "        return input.toDouble()\n",
    "    } catch (e: NumberFormatException) {\n",
    "        return 0.0\n",
    "    }\n",
    "}\n",
    "\n",
    "convertStringToDouble(\"d\")"
   ]
  },
  {
   "cell_type": "markdown",
   "id": "5e9d3e69",
   "metadata": {},
   "source": [
    "# The try-catch-finally statement"
   ]
  },
  {
   "cell_type": "code",
   "execution_count": 22,
   "id": "662fe850",
   "metadata": {},
   "outputs": [
    {
     "name": "stdout",
     "output_type": "stream",
     "text": [
      "stdin:sdg dasga\n",
      "Good luck!\n",
      "Don't lose the towel, traveler sdg dasga!"
     ]
    }
   ],
   "source": [
    "fun pepTalk(name: String) : String {\n",
    "    val array = name.split(\" \").toTypedArray()\n",
    "    val firstName = array[0]\n",
    "    val secondName = array[1]\n",
    "    return \"Don't lose the towel, traveler $firstName $secondName!\"\n",
    "}   \n",
    "// do not change the function above        \n",
    "\n",
    "    val name = readLine()!!\n",
    "    val advice = try {\n",
    "        pepTalk(name)\n",
    "    } catch (e: ArrayIndexOutOfBoundsException) {\n",
    "        \"Don't lose the towel, nameless one.\"\n",
    "    }\n",
    "    println(\"Good luck!\")\n",
    "    print(advice)"
   ]
  },
  {
   "cell_type": "code",
   "execution_count": 30,
   "id": "09982d65",
   "metadata": {},
   "outputs": [
    {
     "name": "stdout",
     "output_type": "stream",
     "text": [
      "For input string: \"nine\"\r\n"
     ]
    },
    {
     "data": {
      "text/plain": [
       "-1"
      ]
     },
     "execution_count": 30,
     "metadata": {},
     "output_type": "execute_result"
    }
   ],
   "source": [
    "fun calculateBrakingDistance(v1: String, a: String): Int {\n",
    "    return try {\n",
    "        -(v1.toInt() * v1.toInt()) / (2 * a.toInt())\n",
    "    } catch (e: ArithmeticException) {\n",
    "        println(\"The car does not slow down!\")\n",
    "        -1\n",
    "    } catch (e: NumberFormatException) {\n",
    "        println(e.message)\n",
    "        -1\n",
    "    }\n",
    "}\n",
    "\n",
    "calculateBrakingDistance(\"nine\", \"one\")"
   ]
  },
  {
   "cell_type": "code",
   "execution_count": 36,
   "id": "4853a47b",
   "metadata": {
    "scrolled": true
   },
   "outputs": [
    {
     "name": "stdout",
     "output_type": "stream",
     "text": [
      "stdin:burgir\n",
      "The answer is a number\n",
      "42\n"
     ]
    }
   ],
   "source": [
    "    val answer : Int = try { readLine()!!.toInt() } catch (e: Exception){ 42 }\n",
    "        finally { println(\"The answer is a number\") }   \n",
    "    println(answer)"
   ]
  },
  {
   "cell_type": "markdown",
   "id": "306372a3",
   "metadata": {},
   "source": [
    "#  Jumps and returns"
   ]
  },
  {
   "cell_type": "code",
   "execution_count": 2,
   "id": "23330240",
   "metadata": {},
   "outputs": [
    {
     "name": "stdout",
     "output_type": "stream",
     "text": [
      "Before the loop\r\n",
      "1\r\n",
      "2\r\n",
      "After the loop\r\n"
     ]
    }
   ],
   "source": [
    "println(\"Before the loop\")  \n",
    "for (i in 1..10) {  \n",
    "    if (i == 3) {  \n",
    "        break  \n",
    "    }  \n",
    "    println(i)  \n",
    "}  \n",
    "println(\"After the loop\")  "
   ]
  },
  {
   "cell_type": "code",
   "execution_count": 8,
   "id": "b619c77d",
   "metadata": {},
   "outputs": [
    {
     "name": "stdout",
     "output_type": "stream",
     "text": [
      "i = 1, j = 1, k = 1\r\n",
      "i = 1, j = 1, k = 2\r\n",
      "i = 1, j = 1, k = 3\r\n"
     ]
    }
   ],
   "source": [
    "loop@ for (i in 1..3) {\n",
    "    for (j in 1..3) {\n",
    "        for (k in 1..3) {\n",
    "            println(\"i = $i, j = $j, k = $k\")\n",
    "            if (k == 3) break@loop\n",
    "        }\n",
    "    }\n",
    "}"
   ]
  },
  {
   "cell_type": "code",
   "execution_count": 11,
   "id": "4151de54",
   "metadata": {},
   "outputs": [
    {
     "name": "stdout",
     "output_type": "stream",
     "text": [
      "1122"
     ]
    }
   ],
   "source": [
    "fun myin() {\n",
    "    for (i in 1..3) {\n",
    "        if (i == 1)\n",
    "            continue\n",
    "        print(1)\n",
    "        loop@ for (j in 1..2) {\n",
    "            for (k in 1..2) {\n",
    "                if (i == 2 || j == 3) break@loop\n",
    "                print(2)\n",
    "            }\n",
    "            if (j == 1) return\n",
    "            print(3)\n",
    "        }\n",
    "    }\n",
    "}\n",
    "\n",
    "myin()"
   ]
  },
  {
   "cell_type": "code",
   "execution_count": 46,
   "id": "efd5140c",
   "metadata": {},
   "outputs": [
    {
     "name": "stdout",
     "output_type": "stream",
     "text": [
      "stdin:hello\n",
      "abcdfgijkmnpqrstuvwxyz"
     ]
    }
   ],
   "source": [
    "    var result = \"abcdefghijklmnopqrstuvwxyz\"\n",
    "    val input = readLine()!!\n",
    "    for (letter in input) result = result.replace(letter.toString(), \"\")\n",
    "    print(result)"
   ]
  },
  {
   "cell_type": "code",
   "execution_count": 3,
   "id": "c294d681",
   "metadata": {},
   "outputs": [
    {
     "name": "stdout",
     "output_type": "stream",
     "text": [
      "stdin:z\n",
      "abcdefghijklmnopqrstuvwxy"
     ]
    }
   ],
   "source": [
    "    val a = readLine()!!.first()\n",
    "    for (c in 'a'..'z') print(if (c == a) break else c)"
   ]
  },
  {
   "cell_type": "markdown",
   "id": "85354f34",
   "metadata": {},
   "source": [
    "# Getting substrings"
   ]
  },
  {
   "cell_type": "code",
   "execution_count": 5,
   "id": "c04978e2",
   "metadata": {},
   "outputs": [
    {
     "name": "stdout",
     "output_type": "stream",
     "text": [
      "bai\r\n"
     ]
    }
   ],
   "source": [
    "var example = \"Good morning\"    \n",
    "example = example.replace(\"morning\", \"bye\")\n",
    "example = \"bai\"\n",
    "println(example)"
   ]
  },
  {
   "cell_type": "code",
   "execution_count": 1,
   "id": "386ce6a8",
   "metadata": {},
   "outputs": [
    {
     "data": {
      "text/plain": [
       "GOOoD"
      ]
     },
     "execution_count": 1,
     "metadata": {},
     "output_type": "execute_result"
    }
   ],
   "source": [
    "val a = \"GooD\"\n",
    "a.substringBefore('o') + \"OO\" + a.substringAfter('o')"
   ]
  },
  {
   "cell_type": "code",
   "execution_count": 11,
   "id": "93b8efff",
   "metadata": {},
   "outputs": [
    {
     "data": {
      "text/plain": [
       "true"
      ]
     },
     "execution_count": 11,
     "metadata": {},
     "output_type": "execute_result"
    }
   ],
   "source": [
    "val example = \"Example\"\n",
    "example.substring(3, 7) == example.substring(3)"
   ]
  },
  {
   "cell_type": "code",
   "execution_count": 14,
   "id": "300530d3",
   "metadata": {},
   "outputs": [
    {
     "data": {
      "text/plain": [
       "Kotlin is a language"
      ]
     },
     "execution_count": 14,
     "metadata": {},
     "output_type": "execute_result"
    }
   ],
   "source": [
    "val example = \"Kotlin is a language\"\n",
    "example.replace(\" language\", \"n island\")\n",
    "example"
   ]
  },
  {
   "cell_type": "code",
   "execution_count": 17,
   "id": "cb534292",
   "metadata": {},
   "outputs": [
    {
     "name": "stdout",
     "output_type": "stream",
     "text": [
      "stdin:OIUoiuoO\n",
      "stdin:oiuOIUOo\n"
     ]
    },
    {
     "data": {
      "text/plain": [
       "true"
      ]
     },
     "execution_count": 17,
     "metadata": {},
     "output_type": "execute_result"
    }
   ],
   "source": [
    "readLine()!!.lowercase() == readLine()!!.lowercase()"
   ]
  },
  {
   "cell_type": "code",
   "execution_count": 18,
   "id": "0e91dea3",
   "metadata": {},
   "outputs": [
    {
     "name": "stdout",
     "output_type": "stream",
     "text": [
      "stdin:abcd\n",
      "dbca"
     ]
    }
   ],
   "source": [
    "    val str = readLine()!!\n",
    "    print(str.substring(str.length - 1) + str.substring(1, str.length - 1) + str.substring(0, 1))"
   ]
  },
  {
   "cell_type": "markdown",
   "id": "1d14072e",
   "metadata": {},
   "source": [
    "#  Processing strings"
   ]
  },
  {
   "cell_type": "code",
   "execution_count": 3,
   "id": "368de03a",
   "metadata": {},
   "outputs": [
    {
     "data": {
      "text/plain": [
       " abcda"
      ]
     },
     "execution_count": 3,
     "metadata": {},
     "output_type": "execute_result"
    }
   ],
   "source": [
    "val str1 = \"aaabbcccdaa\"\n",
    "var str2 = \" \"\n",
    "\n",
    "for (ch in str1) {\n",
    "    if (ch != str2.last()) {\n",
    "        str2 += ch\n",
    "    }\n",
    "}\n",
    "str2"
   ]
  },
  {
   "cell_type": "code",
   "execution_count": 9,
   "id": "c34364ec",
   "metadata": {
    "scrolled": true
   },
   "outputs": [
    {
     "name": "stdout",
     "output_type": "stream",
     "text": [
      "stdin:3 3 3 12\n",
      "WMWrqr585!@!"
     ]
    }
   ],
   "source": [
    "    val input = readLine()!!.split(\" \").map { it.toInt() }.toMutableList()\n",
    "    while (input[0] > 0) {\n",
    "        print(if (input[3] % 2 == 0) \"W\" else \"M\")\n",
    "        input[0]--\n",
    "        input[3]--\n",
    "    }\n",
    "    while (input[1] > 0) {\n",
    "        print(if (input[3] % 2 == 0) \"q\" else \"r\")\n",
    "        input[1]--\n",
    "        input[3]--\n",
    "    }\n",
    "    while (input[2] > 0) {\n",
    "        print(if (input[3] % 2 == 0) \"5\" else \"8\")\n",
    "        input[2]--\n",
    "        input[3]--\n",
    "    }\n",
    "    while (input[3] > 0) {\n",
    "        print(if (input[3] % 2 == 0) \"@\" else \"!\")\n",
    "        input[3]--\n",
    "    }"
   ]
  },
  {
   "cell_type": "code",
   "execution_count": 36,
   "id": "3bffe147",
   "metadata": {
    "scrolled": true
   },
   "outputs": [
    {
     "name": "stdout",
     "output_type": "stream",
     "text": [
      "stdin:biiiiig\n",
      "2"
     ]
    }
   ],
   "source": [
    "val BADROW = 3\n",
    "\n",
    "fun isVova(letter: Char) = when (letter) {\n",
    "    'a', 'o', 'y', 'e', 'u', 'i' -> true\n",
    "    else -> false\n",
    "}\n",
    "\n",
    "    val word = readLine()!!\n",
    "    var vova = isVova(word[0])\n",
    "    var bad = 0\n",
    "    var result = 0\n",
    "    for (letter in word) {\n",
    "        if (isVova(letter)) {\n",
    "            if (vova) {\n",
    "                bad++\n",
    "            } else {\n",
    "                bad = 1\n",
    "                vova = true\n",
    "            }\n",
    "        } else {\n",
    "            if (vova) {\n",
    "                bad = 1\n",
    "                vova = false\n",
    "            } else {\n",
    "                bad++\n",
    "            }\n",
    "        }\n",
    "        if (bad == BADROW) {\n",
    "            bad = 1\n",
    "            result++\n",
    "        }\n",
    "    }\n",
    "    print(result)"
   ]
  },
  {
   "cell_type": "code",
   "execution_count": 40,
   "id": "f3e63591",
   "metadata": {},
   "outputs": [
    {
     "name": "stdout",
     "output_type": "stream",
     "text": [
      "stdin:Hello 3\n",
      "loHel"
     ]
    }
   ],
   "source": [
    "    val input = readLine()!!.split(\" \").map { it }.toMutableList()\n",
    "    val n = input[1].toInt()\n",
    "    if (n >= input[0].length) {\n",
    "        print(input[0])\n",
    "    } else {\n",
    "        print(input[0].substring(n, input[0].length) + input[0].substring(0, n))\n",
    "    }"
   ]
  },
  {
   "cell_type": "code",
   "execution_count": null,
   "id": "3be5264d",
   "metadata": {},
   "outputs": [],
   "source": [
    "fun r(value: Int, context: Any): Unit {\n",
    "    println(value)\n",
    "    print(context)\n",
    "}\n",
    "\n",
    "fun square(value: Int, context: Any, continuation: (Int, Any) -> Unit) {\n",
    "    return continuation(Math.sqrt(value.toDouble()), context)\n",
    "}\n",
    "\n",
    "square(4, \"Hello\", r(9, \"Bye\"))"
   ]
  },
  {
   "cell_type": "code",
   "execution_count": 8,
   "id": "99f0cbc6",
   "metadata": {
    "scrolled": true
   },
   "outputs": [
    {
     "name": "stdout",
     "output_type": "stream",
     "text": [
      "stdin:123456\n",
      "Regular"
     ]
    }
   ],
   "source": [
    "    val n = readLine()!!\n",
    "    var a = 0\n",
    "    var b = 0\n",
    "    for (digit in 0..5) {\n",
    "        if (digit < 3) {\n",
    "            a += n[digit] - '0'\n",
    "        } else {\n",
    "            b += n[digit] - '0'\n",
    "        }\n",
    "    }\n",
    "    print(if (a == b) \"Lucky\" else \"Regular\")"
   ]
  },
  {
   "cell_type": "code",
   "execution_count": 4,
   "id": "74d6e72b",
   "metadata": {},
   "outputs": [
    {
     "name": "stdout",
     "output_type": "stream",
     "text": [
      "stdin:helloy yelloy ullebok\n",
      "stdin:ll\n",
      "3"
     ]
    }
   ],
   "source": [
    "    val string = readLine()!!\n",
    "    val toFind = readLine()!!\n",
    "    val lWas = string.length\n",
    "    val lOfFind = toFind.length\n",
    "    val withoutFind = string.replace(toFind, \"\")\n",
    "    print((lWas - withoutFind.length) / lOfFind)"
   ]
  },
  {
   "cell_type": "markdown",
   "id": "b7851af7",
   "metadata": {},
   "source": [
    "# Functions as objects"
   ]
  },
  {
   "cell_type": "code",
   "execution_count": 3,
   "id": "5072d4c9",
   "metadata": {},
   "outputs": [
    {
     "name": "stdout",
     "output_type": "stream",
     "text": [
      "16\r\n",
      "Hello"
     ]
    }
   ],
   "source": [
    "fun f(value: Int, context: Any): Unit {\n",
    "    println(value)\n",
    "    print(context)\n",
    "}\n",
    "\n",
    "fun square(value: Int, context: Any, continuation: (Int, Any) -> Unit) {\n",
    "    continuation(value * value, context)\n",
    "}\n",
    "\n",
    "square(4, \"Hello\", ::f)"
   ]
  },
  {
   "cell_type": "code",
   "execution_count": 13,
   "id": "8317cb9c",
   "metadata": {},
   "outputs": [
    {
     "data": {
      "text/plain": [
       "1"
      ]
     },
     "execution_count": 13,
     "metadata": {},
     "output_type": "execute_result"
    }
   ],
   "source": [
    "fun identity(a: Int)= a\n",
    "\n",
    "fun half(a: Int)= a / 2\n",
    "\n",
    "fun zero(a: Int)= 0\n",
    "\n",
    "fun generate(functionName: String): (Int) -> Int {\n",
    "    return if (functionName == \"identity\") ::identity else if (functionName == \"half\") ::half else ::zero\n",
    "}\n",
    "\n",
    "generate(\"identity\")(1)"
   ]
  },
  {
   "cell_type": "markdown",
   "id": "1d9c8596",
   "metadata": {},
   "source": [
    "# Lambda expressions"
   ]
  },
  {
   "cell_type": "code",
   "execution_count": 1,
   "id": "5f88314a",
   "metadata": {},
   "outputs": [
    {
     "data": {
      "text/plain": [
       "720"
      ]
     },
     "execution_count": 1,
     "metadata": {},
     "output_type": "execute_result"
    }
   ],
   "source": [
    "    val lambda: (Long, Long) -> Long = {\n",
    "        a, b -> \n",
    "        var result = b\n",
    "        for (i in a until b) result *= i\n",
    "        \n",
    "        result\n",
    "    }\n",
    "    lambda(2, 6)"
   ]
  },
  {
   "cell_type": "code",
   "execution_count": 3,
   "id": "d62320db",
   "metadata": {},
   "outputs": [
    {
     "name": "stdout",
     "output_type": "stream",
     "text": [
      "1\r\n",
      "2\r\n",
      "fizz\r\n",
      "4\r\n",
      "buzz\r\n",
      "fizz\r\n",
      "7\r\n",
      "8\r\n",
      "fizz\r\n",
      "buzz\r\n",
      "11\r\n",
      "fizz\r\n",
      "13\r\n",
      "14\r\n",
      "fizzbuzz\r\n",
      "16\r\n"
     ]
    }
   ],
   "source": [
    "fun fizzbuzz(from: Int, to: Int, transformation: (Int) -> String) {\n",
    "    for (number in from..to) {\n",
    "        println(transformation(number))\n",
    "    }\n",
    "}\n",
    "\n",
    "    fizzbuzz(1, 16) { number ->\n",
    "        if (number % 15 == 0) {\n",
    "            return@fizzbuzz \"fizzbuzz\"\n",
    "        }\n",
    "        if (number % 3 == 0) {\n",
    "            return@fizzbuzz \"fizz\"\n",
    "        }\n",
    "        if (number % 5 == 0) {\n",
    "            return@fizzbuzz \"buzz\"\n",
    "        }\n",
    "        return@fizzbuzz number.toString()\n",
    "    }\n"
   ]
  },
  {
   "cell_type": "code",
   "execution_count": 10,
   "id": "639cdb4a",
   "metadata": {},
   "outputs": [
    {
     "data": {
      "text/plain": [
       "48"
      ]
     },
     "execution_count": 10,
     "metadata": {},
     "output_type": "execute_result"
    }
   ],
   "source": [
    "fun a(x: Int) = 3 * x\n",
    "\n",
    "fun b(x: Int) = x * x\n",
    "\n",
    "fun compose(g: (Int) -> Int, h: (Int) -> Int): (Int) -> Int {\n",
    "    return {x -> g(h(x))}\n",
    "}\n",
    "\n",
    "compose(::a, ::b)(4)"
   ]
  },
  {
   "cell_type": "code",
   "execution_count": 13,
   "id": "1e07beb6",
   "metadata": {},
   "outputs": [
    {
     "data": {
      "text/plain": [
       "22"
      ]
     },
     "execution_count": 13,
     "metadata": {},
     "output_type": "execute_result"
    }
   ],
   "source": [
    "    val a = 1\n",
    "    val b = 4\n",
    "    val c = 10\n",
    "    val lambda: (Int) -> Int = { a * it * it + b * it + c }\n",
    "    lambda(2)"
   ]
  },
  {
   "cell_type": "code",
   "execution_count": 15,
   "id": "8ee321db",
   "metadata": {},
   "outputs": [
    {
     "data": {
      "text/plain": [
       "0"
      ]
     },
     "execution_count": 15,
     "metadata": {},
     "output_type": "execute_result"
    }
   ],
   "source": [
    "var counter: () -> Int = { -42 }\n",
    "\n",
    "fun reinitializeCounter(): Int {\n",
    "    var value = 0\n",
    "    counter = { ++value }\n",
    "    return value\n",
    "}\n",
    "\n",
    "reinitializeCounter()"
   ]
  },
  {
   "cell_type": "code",
   "execution_count": 16,
   "id": "49aa7049",
   "metadata": {},
   "outputs": [
    {
     "data": {
      "text/plain": [
       "6"
      ]
     },
     "execution_count": 16,
     "metadata": {},
     "output_type": "execute_result"
    }
   ],
   "source": [
    "    val lambda: (Int, Int) -> Int = { a, b -> Math.max(a, b) }\n",
    "    lambda(6, 4)"
   ]
  },
  {
   "cell_type": "code",
   "execution_count": 18,
   "id": "71389c7d",
   "metadata": {},
   "outputs": [
    {
     "data": {
      "text/plain": [
       "true"
      ]
     },
     "execution_count": 18,
     "metadata": {},
     "output_type": "execute_result"
    }
   ],
   "source": [
    "    val originalPredicate: (Char) -> Boolean = {it=='x'}\n",
    "    \n",
    "    val notPredicate: (Char) -> Boolean = { it -> !(originalPedicate(it)) }\n",
    "    \n",
    "    notPredicate('a')"
   ]
  },
  {
   "cell_type": "markdown",
   "id": "fed0e23c",
   "metadata": {},
   "source": [
    "# Bitwise and bit-shift operations"
   ]
  },
  {
   "cell_type": "code",
   "execution_count": 12,
   "id": "662f156a",
   "metadata": {
    "scrolled": false
   },
   "outputs": [
    {
     "name": "stdout",
     "output_type": "stream",
     "text": [
      "stdin:4 65 65\n",
      "4"
     ]
    }
   ],
   "source": [
    "    val (a, b, c) = readLine()!!.split(\" \").map { it.toInt() }\n",
    "    print(if (a xor b == 0) c else if (a xor c == 0) b else a)"
   ]
  },
  {
   "cell_type": "markdown",
   "id": "25eb4280",
   "metadata": {},
   "source": [
    "# Arrays"
   ]
  },
  {
   "cell_type": "code",
   "execution_count": 16,
   "id": "3f615910",
   "metadata": {},
   "outputs": [
    {
     "name": "stdout",
     "output_type": "stream",
     "text": [
      "stdin:32 5 65 76 234\n",
      "234 5 65 76 32\n"
     ]
    }
   ],
   "source": [
    "    val numbers = readLine()!!.split(' ').map { it.toInt() }.toIntArray()\n",
    "    // Do not touch lines above\n",
    "    val mem = numbers[0]\n",
    "    numbers[0] = numbers[numbers.lastIndex]\n",
    "    numbers[numbers.lastIndex] = mem\n",
    "    // Do not touch lines below\n",
    "    println(numbers.joinToString(separator = \" \"))"
   ]
  },
  {
   "cell_type": "code",
   "execution_count": 18,
   "id": "f1f959e8",
   "metadata": {},
   "outputs": [
    {
     "name": "stdout",
     "output_type": "stream",
     "text": [
      "1, 0, 0, 0, 0, 0, 0, 0, 0, 10, 0, 0, 0, 0, 0, 0, 0, 0, 0, 0, 0, 0, 0, 0, 0, 0, 0, 0, 0, 0, 0, 0, 0, 0, 0, 0, 0, 0, 0, 0, 0, 0, 0, 0, 0, 0, 0, 0, 0, 0, 0, 0, 0, 0, 0, 0, 0, 0, 0, 0, 0, 0, 0, 0, 0, 0, 0, 0, 0, 0, 0, 0, 0, 0, 0, 0, 0, 0, 0, 0, 0, 0, 0, 0, 0, 0, 0, 0, 0, 0, 0, 0, 0, 0, 0, 0, 0, 0, 0, 100\r\n"
     ]
    }
   ],
   "source": [
    "    val numbers = IntArray(100) { 0 }\n",
    "    numbers[0] = 1\n",
    "    numbers[9] = 10\n",
    "    numbers[99] = 100\n",
    "    // do not touch the lines below\n",
    "    println(numbers.joinToString())"
   ]
  },
  {
   "cell_type": "code",
   "execution_count": 20,
   "id": "31d14d83",
   "metadata": {},
   "outputs": [
    {
     "data": {
      "text/plain": [
       "[0, 0, 0]"
      ]
     },
     "execution_count": 20,
     "metadata": {},
     "output_type": "execute_result"
    }
   ],
   "source": [
    "val array = IntArray(3)\n",
    "array"
   ]
  },
  {
   "cell_type": "markdown",
   "id": "9c579bdd",
   "metadata": {},
   "source": [
    "#  String arrays"
   ]
  },
  {
   "cell_type": "code",
   "execution_count": 1,
   "id": "e60dc1be",
   "metadata": {},
   "outputs": [
    {
     "data": {
      "text/plain": [
       "[string, another]"
      ]
     },
     "execution_count": 1,
     "metadata": {},
     "output_type": "execute_result"
    }
   ],
   "source": [
    "val list = mutableListOf(\"string\")\n",
    "list.add(\"another\")\n",
    "list"
   ]
  },
  {
   "cell_type": "code",
   "execution_count": 8,
   "id": "449bb2e7",
   "metadata": {
    "scrolled": true
   },
   "outputs": [
    {
     "name": "stderr",
     "output_type": "stream",
     "text": [
      "Line_360.jupyter-kts (2:1 - 4) Val cannot be reassigned"
     ]
    }
   ],
   "source": [
    "val arr = arrayOf(\"stringer\")\n",
    "arr += \"other\""
   ]
  },
  {
   "cell_type": "code",
   "execution_count": 9,
   "id": "83e04f1c",
   "metadata": {},
   "outputs": [
    {
     "data": {
      "text/plain": [
       "[Tokyo, Moscow, Paris, Washington, Beijing]"
      ]
     },
     "execution_count": 9,
     "metadata": {},
     "output_type": "execute_result"
    }
   ],
   "source": [
    "val capitals = arrayOf(\"Tokyo\", \"Moscow\", \"Paris\", \"Washington\", \"Beijing\")\n",
    "capitals"
   ]
  },
  {
   "cell_type": "code",
   "execution_count": 10,
   "id": "10c7f192",
   "metadata": {},
   "outputs": [
    {
     "data": {
      "text/plain": [
       "[]"
      ]
     },
     "execution_count": 10,
     "metadata": {},
     "output_type": "execute_result"
    }
   ],
   "source": [
    "    val myEmptyArray = emptyArray<String>()\n",
    "myEmptyArray"
   ]
  },
  {
   "cell_type": "code",
   "execution_count": 17,
   "id": "cccaec54",
   "metadata": {},
   "outputs": [
    {
     "name": "stdout",
     "output_type": "stream",
     "text": [
      "stdin:123,324\n",
      "stdin:324\n",
      "123, 324, 324"
     ]
    }
   ],
   "source": [
    "    var backFromTheWall = readLine()!!.split(',').map { it }.toTypedArray()\n",
    "    val returnedWatchman = readLine()!!.toString()  \n",
    "    // do not touch the lines above\n",
    "    backFromTheWall += returnedWatchman\n",
    "    print(backFromTheWall.joinToString(\", \"))"
   ]
  },
  {
   "cell_type": "code",
   "execution_count": 19,
   "id": "a1a729ea",
   "metadata": {},
   "outputs": [
    {
     "name": "stdout",
     "output_type": "stream",
     "text": [
      "stdin:12,23\n",
      "stdin:12,23\n",
      "true"
     ]
    }
   ],
   "source": [
    "    val beyondTheWall = readLine()!!.split(',').map { it }.toTypedArray()\n",
    "    val backFromTheWall = readLine()!!.split(',').map { it }.toTypedArray()    \n",
    "    // do not touch the lines above\n",
    "    print(beyondTheWall.contentEquals(backFromTheWall))"
   ]
  },
  {
   "cell_type": "markdown",
   "id": "97fa61e5",
   "metadata": {},
   "source": [
    "#  Multi-dimensional array"
   ]
  },
  {
   "cell_type": "code",
   "execution_count": 2,
   "id": "1fe071b6",
   "metadata": {},
   "outputs": [
    {
     "name": "stdout",
     "output_type": "stream",
     "text": [
      "stdin:4\n",
      "stdin:1 2 3\n",
      "stdin:4 5 6\n",
      "stdin:7 8 9\n",
      "stdin:10 11 12\n",
      "7, 8, 9"
     ]
    }
   ],
   "source": [
    "    var inputArray: Array<Array<String>> = arrayOf()\n",
    "    val n = readLine()!!.toInt()\n",
    "    for (i in 0 until n) {\n",
    "        val strings = readLine()!!.split(' ').toTypedArray()\n",
    "        inputArray += strings\n",
    "    }\n",
    "    // Do not change lines above\n",
    "    print(inputArray[2].joinToString(\", \"))"
   ]
  },
  {
   "cell_type": "code",
   "execution_count": 3,
   "id": "b2118f75",
   "metadata": {},
   "outputs": [
    {
     "name": "stdout",
     "output_type": "stream",
     "text": [
      "stdin:3\n",
      "stdin:M a g i c\n",
      "stdin:i s\n",
      "stdin:b a b a b o y\n",
      "[[b, a, b, a, b, o, y], [M, a, g, i, c]]"
     ]
    }
   ],
   "source": [
    "    //Do not touch code below\n",
    "    var inputArray: Array<Array<String>> = arrayOf()\n",
    "    val n = readLine()!!.toInt()\n",
    "    for (i in 0 until n) {\n",
    "        val strings = readLine()!!.split(' ').toTypedArray()\n",
    "        inputArray += strings\n",
    "    }\n",
    "    val resultArray = arrayOf(inputArray[inputArray.lastIndex], inputArray[0])\n",
    "    print(resultArray.contentDeepToString())"
   ]
  },
  {
   "cell_type": "markdown",
   "id": "9f16688a",
   "metadata": {},
   "source": [
    "# Writing files"
   ]
  },
  {
   "cell_type": "code",
   "execution_count": 27,
   "id": "3510baf3",
   "metadata": {},
   "outputs": [],
   "source": [
    "import java.io.File"
   ]
  },
  {
   "cell_type": "code",
   "execution_count": 58,
   "id": "a6ceea55",
   "metadata": {},
   "outputs": [
    {
     "name": "stdout",
     "output_type": "stream",
     "text": [
      "stdin:324432\n"
     ]
    }
   ],
   "source": [
    "val text = readLine()!!\n",
    "val myFile = File(\"MyFile.txt\")\n",
    "myFile.writeText(text.repeat(2))"
   ]
  },
  {
   "cell_type": "markdown",
   "id": "78e9f349",
   "metadata": {},
   "source": [
    "# Image colors "
   ]
  },
  {
   "cell_type": "code",
   "execution_count": 60,
   "id": "ca0d9869",
   "metadata": {},
   "outputs": [],
   "source": [
    "import java.awt.Color"
   ]
  },
  {
   "cell_type": "code",
   "execution_count": 93,
   "id": "738fe5f0",
   "metadata": {},
   "outputs": [
    {
     "name": "stdout",
     "output_type": "stream",
     "text": [
      "stdin:123 231 222 232\n",
      "2078793448"
     ]
    }
   ],
   "source": [
    "fun printARGB() {\n",
    "    val parts = readLine()!!.split(\" \").map { it.toInt() }.toMutableList()\n",
    "    if ((Math.min(Math.min(parts[0], parts[1]), Math.min(parts[2], parts[3]))) < 0 || Math.max(Math.max(parts[0], parts[1]), Math.max(parts[2], parts[3])) > 255) {\n",
    "        print(\"Invalid input\")\n",
    "    } else {\n",
    "        val result = Color(parts[1], parts[2], parts[3], parts[0])\n",
    "        print(result.hashCode().toUInt())\n",
    "    }\n",
    "}\n",
    "\n",
    "printARGB()"
   ]
  },
  {
   "cell_type": "markdown",
   "id": "6d4cea2b",
   "metadata": {},
   "source": [
    "# Image libraries"
   ]
  },
  {
   "cell_type": "code",
   "execution_count": 95,
   "id": "8145b0d6",
   "metadata": {},
   "outputs": [],
   "source": [
    "import java.awt.Color\n",
    "import java.awt.image.BufferedImage"
   ]
  },
  {
   "cell_type": "code",
   "execution_count": 99,
   "id": "8aef5b7a",
   "metadata": {
    "scrolled": true
   },
   "outputs": [
    {
     "data": {
      "text/html": [
       "<img src=\"data:image/png;base64,iVBORw0KGgoAAAANSUhEUgAAAMgAAADICAIAAAAiOjnJAAAE3ElEQVR4Xu3SW2LbSAxEUe9/0zMZx8nIlkj1A0AXgHs+JbKJrsLHPx+AD3YLxv6uFLsFMz+Wid2CgZdr9PJHYNTNAt38Bdx5uzpvHwB+GlyawceA/0yty9TD6GthURZeQS/LK7L8IurbXI7N11GTyVqYHII6DBfC8CjkZr4K5gciH6clcDoWObjW73o4dAUUH/AJaAmrPOxDOC+47ODP4YwjNR/5KOIcLPjgp+HreLXHB4A9kVJFxoANqTqlhsE6wSIFR8Ic2QplB8N74uWJj4fXUtSWYkj8L1FhiUbtLl1V6QbuKGlJScfuInU9qYevrEAxBa5QTZlKylykgmJlFLtOViVrKHmpTAoXUPhq6spHX/6CipqE3uSaKlrF3eqyJzUMuuGVo7WNuO3FIzQPt/n1vRDrByGYI9C/iMIMUf5AIAYI8SVi2UJ8NwhnEcG9RUTTiGwQQU0grCnENYSYFhDaGwS0jOguEc0mAnyBUEwQ4zfEYYgwvxCEOSIlAi+tg219eX9N42167VjtQm534XMaRd3oqhpaBN7iknqKx178etrKhl/2YnkUrKDglXIqVUSpy+RXpI4i16glfSnpL1BX4moSj95DyoJSDt1PspqSjdtbmrLSDIo/ElSWYES8Il2c9HB4R7Q+0bEwQ65EuYGwSqhKoVFgQaJQiSFg7XCthz8PT8fKPfZhRDlQ8YFP4oTQokM/htOC6g76DJS4l+7+AahyrN7xaGTgsgAuhyIb4zUwPg6ZmS2D2UGowmAlDI5ARVuLsfUyqltcj8XX0Mn0kky/gK4mVmXiUWBwYYYeAr57szZv/gauXS7P5R/AmBcr9OInYN63RWKrYOhrndgq2GOrYO9zq1gtmHpYKHYLRp5W6ekHYNbFEl38DIy4XZ/bP4ErA4sz8AjwaHhlhh8EJpdl8nH0tLQmSy+hj40F2XgVtW2vxvYBqMdoKYyOQQ2m62B6GPJyWASHI5GL2wq4HQx9zuU7Hw9NIbWHfAQ6AgsP/BTOCq86/IOId6jkQ59FjKP1Hv04/AgUKzACbMlUKjMI9omVKTYO1kjWKDkUxgkXKDwa7slXJz8gniUpLcmY+C1VXamG7SxhUQlH7iZtRWkH7yB5OcnHr6pELSUuUUmhQgpdJbtyVZS7UEZFSyh6rSxKx1/6csoaBN/gimraRN7mogqahd3suqe0jLnlpSM1Drjx1b21j7Z9AB4I9RMxmCLOB4RhhCCfEMk2IrxAMBsI7xbxLCG2AYQ0icCGEdUwoppEYAMIaQmx3SKeDYR3gWC2EeETIjFCkA8IwxRxfiIGB+1DbR+An8bRNr56jJYBt7x0vGYxN7vuWW3CbnNRHQ0ib3BFTaWDL305fUXjL3qtXMqVUO5CeRWqotBVaihRSIlL1JO8luTj15a2nLSD95GwooQj95SqqFTDIkldScbEI/nS5AfEFeHqhEfDCMkCJYfCLLEaxcbBDpkyZQaBFYFKBUaAh6PFHv04vB2q99BnESm85PAP4pTAqgM/BQUhhYd8BGqca3c+Hsrcync7GFk4rIDDkcjIdBFMD0N2RutgdAwq2V6K7QNQ1cZqbLyKDpYWZOkldDO5JpOPo7PhZRl+EPhtYGUGHgGe3S7O7Z/AvYv1ufgZGPe0RE8/AGseVomtgqlfC/Uv7b+Mgnu5CyAAAAAASUVORK5CYII=\"/>"
      ]
     },
     "execution_count": 99,
     "metadata": {},
     "output_type": "execute_result"
    }
   ],
   "source": [
    "fun drawLines(): BufferedImage {\n",
    "    val image = BufferedImage(200, 200, BufferedImage.TYPE_INT_RGB)\n",
    "    val graphics = image.createGraphics()\n",
    "    graphics.color = Color.red\n",
    "    graphics.drawLine(0, 0, 200, 200)\n",
    "    graphics.color = Color.green\n",
    "    graphics.drawLine(0, 200, 200, 0)\n",
    "    return image\n",
    "}\n",
    "\n",
    "drawLines()"
   ]
  },
  {
   "cell_type": "code",
   "execution_count": 102,
   "id": "75c32874",
   "metadata": {
    "scrolled": true
   },
   "outputs": [
    {
     "data": {
      "text/html": [
       "<img src=\"data:image/png;base64,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\"/>"
      ]
     },
     "execution_count": 102,
     "metadata": {},
     "output_type": "execute_result"
    }
   ],
   "source": [
    "fun drawCircles(): BufferedImage {\n",
    "    val image = BufferedImage(200, 200, BufferedImage.TYPE_INT_RGB)\n",
    "    val graphics = image.createGraphics()\n",
    "    graphics.color = Color.red\n",
    "    graphics.drawOval(50, 50, 100, 100)\n",
    "    graphics.color = Color.yellow\n",
    "    graphics.drawOval(50, 75, 100, 100)\n",
    "    graphics.color = Color.green\n",
    "    graphics.drawOval(75, 50, 100, 100)\n",
    "    graphics.color = Color.blue\n",
    "    graphics.drawOval(75, 75, 100, 100)\n",
    "    return image\n",
    "}\n",
    "\n",
    "drawCircles()"
   ]
  },
  {
   "cell_type": "code",
   "execution_count": 104,
   "id": "d1ae0a8f",
   "metadata": {},
   "outputs": [
    {
     "data": {
      "text/html": [
       "<img src=\"data:image/png;base64,iVBORw0KGgoAAAANSUhEUgAAAMgAAADICAIAAAAiOjnJAAAB9UlEQVR4Xu3VCU7EMAwFUO5/6UE0qeNsZZkFId5Tq0ntnxQllXh7AwAAAAAAAAAAAAAAAAAAAAAAAAAAAAAA2LqNhUUli+51bPbd/GP97tv/o48d73d9rmTRvY6tfTf/OD/5a7nHueNt13Pldl5z9zo2O7vHxD4/z10uGJVcv0gOsbh5hXnHo1JL/Sl13X1sFi+JQcl30yMZlVWxW+oy2RVjGi8QOx4HkSvzKU3ddWw25UvsyHfTIx2Vfkabsn71ZbE2eLq243EK51lEKx/OxWC4B6v8blzmr98b3VzMydos3Wr4mnm+tOPj1VpRW31PLdbfg0/zXaCM49rMag8pWWa3Yn0YujzZvOOLY0vX3M0r5HvwaX4KlJ965e6UbLFarKJ4PsWYZ0tns6ocg9prhbO4jeXTrZYTd3c3+ELxGNVCGdTIEGgJXiAOaV0ZT6l197F5yaN8VnN7Ny4L1mpXPJfoky28KUaHF5p3PVfKEQ2VYVDGNZbv3m7iblwe63/A4+H4HRdP/aviEOAvGs/+bvGd1FUfujh/ysPPfvy4AAAAAAAAAAAAAAAAAAAAAAAAAAAAAAAAAAAAAAAAAAAAAAAAAAAAAAAAAAAAAAAAAAAAAAAAAAAAAAAAAAAAAAAAAAAAAAAAAAAAAAAAAAAAAAAAANh4Bx+u+BZGHyPfAAAAAElFTkSuQmCC\"/>"
      ]
     },
     "execution_count": 104,
     "metadata": {},
     "output_type": "execute_result"
    }
   ],
   "source": [
    "fun drawStrings(): BufferedImage {\n",
    "    val image = BufferedImage(200, 200, BufferedImage.TYPE_INT_RGB)\n",
    "    val graphics = image.createGraphics()\n",
    "    val text = \"Hello, images!\"\n",
    "    graphics.color = Color.red\n",
    "    graphics.drawString(text, 50, 50)\n",
    "    graphics.color = Color.green\n",
    "    graphics.drawString(text, 51, 51)\n",
    "    graphics.color = Color.blue\n",
    "    graphics.drawString(text, 52, 52)\n",
    "    return image\n",
    "}\n",
    "\n",
    "drawStrings()"
   ]
  },
  {
   "cell_type": "code",
   "execution_count": 105,
   "id": "b7c1b9d6",
   "metadata": {},
   "outputs": [
    {
     "data": {
      "text/html": [
       "<img src=\"data:image/png;base64,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\"/>"
      ]
     },
     "execution_count": 105,
     "metadata": {},
     "output_type": "execute_result"
    }
   ],
   "source": [
    "fun drawSquare(): BufferedImage {\n",
    "    val image = BufferedImage(500, 500, BufferedImage.TYPE_INT_RGB)\n",
    "    val graphics = image.createGraphics()\n",
    "    graphics.color = Color.red\n",
    "    graphics.drawRect(100, 100, 300, 300)\n",
    "    return image\n",
    "}\n",
    "\n",
    "drawSquare()"
   ]
  },
  {
   "cell_type": "markdown",
   "id": "623d0276",
   "metadata": {},
   "source": [
    "#  List"
   ]
  },
  {
   "cell_type": "code",
   "execution_count": 2,
   "id": "a99d3fdd",
   "metadata": {},
   "outputs": [
    {
     "name": "stdout",
     "output_type": "stream",
     "text": [
      "8 2 "
     ]
    }
   ],
   "source": [
    "fun solution(numbers: List<Int>) {\n",
    "    for (el in numbers) print(if (el % 2 == 0) \"$el \" else \"\")\n",
    "}\n",
    "\n",
    "solution(listOf(8, 11, 13, 2))"
   ]
  },
  {
   "cell_type": "code",
   "execution_count": 4,
   "id": "8f27d131",
   "metadata": {},
   "outputs": [
    {
     "name": "stdout",
     "output_type": "stream",
     "text": [
      "2 4 "
     ]
    }
   ],
   "source": [
    "fun solution(products: List<String>, product: String) {\n",
    "    for (i in 0..products.lastIndex) print(if (products[i] == product) \"$i \" else \"\")\n",
    "}\n",
    "\n",
    "solution(listOf(\"a\", \"b\", \"c\", \"d\", \"c\"), \"c\")"
   ]
  }
 ],
 "metadata": {
  "kernelspec": {
   "display_name": "Kotlin",
   "language": "kotlin",
   "name": "kotlin"
  },
  "language_info": {
   "codemirror_mode": "text/x-kotlin",
   "file_extension": ".kt",
   "mimetype": "text/x-kotlin",
   "name": "kotlin",
   "nbconvert_exporter": "",
   "pygments_lexer": "kotlin",
   "version": "1.6.20-dev-6372"
  }
 },
 "nbformat": 4,
 "nbformat_minor": 5
}
